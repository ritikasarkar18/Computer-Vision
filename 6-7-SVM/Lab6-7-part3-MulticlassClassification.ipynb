{
 "cells": [
  {
   "cell_type": "markdown",
   "metadata": {},
   "source": [
    "<pre>\n",
    "Name: Ritika Sarkar\n",
    "Reg. No.: 19BAI1031\n",
    "</pre>"
   ]
  },
  {
   "cell_type": "markdown",
   "metadata": {},
   "source": [
    "#### C. Multiclass classification on [Face expression Dataset](https://www.kaggle.com/jonathanoheix/face-expression-recognition-dataset)"
   ]
  },
  {
   "cell_type": "code",
   "execution_count": 2,
   "metadata": {
    "_cell_guid": "b1076dfc-b9ad-4769-8c92-a6c4dae69d19",
    "_uuid": "8f2839f25d086af736a60e9eeb907d3b93b6e0e5",
    "execution": {
     "iopub.execute_input": "2022-03-11T19:48:57.223229Z",
     "iopub.status.busy": "2022-03-11T19:48:57.221570Z",
     "iopub.status.idle": "2022-03-11T19:48:57.227015Z",
     "shell.execute_reply": "2022-03-11T19:48:57.226289Z",
     "shell.execute_reply.started": "2022-03-11T19:48:57.223199Z"
    }
   },
   "outputs": [],
   "source": [
    "### on kaggle\n",
    "# This Python 3 environment comes with many helpful analytics libraries installed\n",
    "# It is defined by the kaggle/python Docker image: https://github.com/kaggle/docker-python\n",
    "# For example, here's several helpful packages to load\n",
    "\n",
    "import numpy as np # linear algebra\n",
    "import pandas as pd # data processing, CSV file I/O (e.g. pd.read_csv)\n",
    "\n",
    "# Input data files are available in the read-only \"../input/\" directory\n",
    "# For example, running this (by clicking run or pressing Shift+Enter) will list all files under the input directory\n",
    "\n",
    "import os\n",
    "# for dirname, _, filenames in os.walk('/kaggle/input'):\n",
    "#     for filename in filenames:\n",
    "#         print(os.path.join(dirname, filename))\n",
    "\n",
    "# You can write up to 20GB to the current directory (/kaggle/working/) that gets preserved as output when you create a version using \"Save & Run All\" \n",
    "# You can also write temporary files to /kaggle/temp/, but they won't be saved outside of the current session"
   ]
  },
  {
   "cell_type": "code",
   "execution_count": 3,
   "metadata": {
    "execution": {
     "iopub.execute_input": "2022-03-11T19:48:57.228400Z",
     "iopub.status.busy": "2022-03-11T19:48:57.228210Z",
     "iopub.status.idle": "2022-03-11T19:48:58.799499Z",
     "shell.execute_reply": "2022-03-11T19:48:58.798755Z",
     "shell.execute_reply.started": "2022-03-11T19:48:57.228377Z"
    }
   },
   "outputs": [],
   "source": [
    "import cv2\n",
    "import matplotlib.pyplot as plt\n",
    "import numpy as np\n",
    "import random\n",
    "# from google.colab.patches import cv2_imshow\n",
    "import pandas as pd \n",
    "import os\n",
    "from skimage.transform import resize\n",
    "from skimage.io import imread"
   ]
  },
  {
   "cell_type": "code",
   "execution_count": 7,
   "metadata": {
    "execution": {
     "iopub.execute_input": "2022-03-11T19:49:07.695242Z",
     "iopub.status.busy": "2022-03-11T19:49:07.695009Z",
     "iopub.status.idle": "2022-03-11T19:49:07.699140Z",
     "shell.execute_reply": "2022-03-11T19:49:07.698352Z",
     "shell.execute_reply.started": "2022-03-11T19:49:07.695218Z"
    }
   },
   "outputs": [],
   "source": [
    "classes = ['angry','disgust','fear','happy','neutral','sad','surprise']"
   ]
  },
  {
   "cell_type": "code",
   "execution_count": 8,
   "metadata": {
    "execution": {
     "iopub.execute_input": "2022-03-11T19:49:08.761641Z",
     "iopub.status.busy": "2022-03-11T19:49:08.761362Z",
     "iopub.status.idle": "2022-03-11T19:49:45.584022Z",
     "shell.execute_reply": "2022-03-11T19:49:45.582835Z",
     "shell.execute_reply.started": "2022-03-11T19:49:08.761610Z"
    }
   },
   "outputs": [
    {
     "name": "stdout",
     "output_type": "stream",
     "text": [
      "loading... category : angry\n",
      "loaded category:angry successfully\n",
      "loading... category : disgust\n",
      "loaded category:disgust successfully\n",
      "loading... category : fear\n",
      "loaded category:fear successfully\n",
      "loading... category : happy\n",
      "loaded category:happy successfully\n",
      "loading... category : neutral\n",
      "loaded category:neutral successfully\n",
      "loading... category : sad\n",
      "loaded category:sad successfully\n",
      "loading... category : surprise\n",
      "loaded category:surprise successfully\n"
     ]
    }
   ],
   "source": [
    "flat_data_arr = [] #input array\n",
    "target_arr = [] #output array\n",
    "datadir = '../input/face-expression-recognition-dataset/images/train'\n",
    "\n",
    "#path which contains all the categories of images\n",
    "for i in classes:\n",
    "    print(f'loading... category : {i}')\n",
    "    path = os.path.join(datadir,i)\n",
    "    pa = os.listdir(path)\n",
    "    for img in pa[:400]: # taking only a subset of images as RAM becomes full otherwise\n",
    "        img_array = imread(os.path.join(path,img))\n",
    "        img_resized = resize(img_array,(150,150,3))\n",
    "        flat_data_arr.append(img_resized.flatten())\n",
    "        target_arr.append(classes.index(i))\n",
    "    print(f'loaded category:{i} successfully')"
   ]
  },
  {
   "cell_type": "code",
   "execution_count": 9,
   "metadata": {
    "execution": {
     "iopub.execute_input": "2022-03-11T19:49:45.585648Z",
     "iopub.status.busy": "2022-03-11T19:49:45.585442Z",
     "iopub.status.idle": "2022-03-11T19:49:46.210149Z",
     "shell.execute_reply": "2022-03-11T19:49:46.209319Z",
     "shell.execute_reply.started": "2022-03-11T19:49:45.585624Z"
    }
   },
   "outputs": [],
   "source": [
    "flat_data = np.array(flat_data_arr)\n",
    "target = np.array(target_arr)\n",
    "dfn = pd.DataFrame(flat_data) #dataframe\n",
    "dfn['Target'] = target"
   ]
  },
  {
   "cell_type": "code",
   "execution_count": 10,
   "metadata": {
    "execution": {
     "iopub.execute_input": "2022-03-11T19:49:46.211740Z",
     "iopub.status.busy": "2022-03-11T19:49:46.211389Z",
     "iopub.status.idle": "2022-03-11T19:49:46.248581Z",
     "shell.execute_reply": "2022-03-11T19:49:46.247846Z",
     "shell.execute_reply.started": "2022-03-11T19:49:46.211690Z"
    }
   },
   "outputs": [
    {
     "data": {
      "text/html": [
       "<div>\n",
       "<style scoped>\n",
       "    .dataframe tbody tr th:only-of-type {\n",
       "        vertical-align: middle;\n",
       "    }\n",
       "\n",
       "    .dataframe tbody tr th {\n",
       "        vertical-align: top;\n",
       "    }\n",
       "\n",
       "    .dataframe thead th {\n",
       "        text-align: right;\n",
       "    }\n",
       "</style>\n",
       "<table border=\"1\" class=\"dataframe\">\n",
       "  <thead>\n",
       "    <tr style=\"text-align: right;\">\n",
       "      <th></th>\n",
       "      <th>0</th>\n",
       "      <th>1</th>\n",
       "      <th>2</th>\n",
       "      <th>3</th>\n",
       "      <th>4</th>\n",
       "      <th>5</th>\n",
       "      <th>6</th>\n",
       "      <th>7</th>\n",
       "      <th>8</th>\n",
       "      <th>9</th>\n",
       "      <th>...</th>\n",
       "      <th>67491</th>\n",
       "      <th>67492</th>\n",
       "      <th>67493</th>\n",
       "      <th>67494</th>\n",
       "      <th>67495</th>\n",
       "      <th>67496</th>\n",
       "      <th>67497</th>\n",
       "      <th>67498</th>\n",
       "      <th>67499</th>\n",
       "      <th>Target</th>\n",
       "    </tr>\n",
       "  </thead>\n",
       "  <tbody>\n",
       "    <tr>\n",
       "      <th>2795</th>\n",
       "      <td>0.738348</td>\n",
       "      <td>0.738348</td>\n",
       "      <td>0.738348</td>\n",
       "      <td>0.704692</td>\n",
       "      <td>0.704692</td>\n",
       "      <td>0.704692</td>\n",
       "      <td>0.734141</td>\n",
       "      <td>0.734141</td>\n",
       "      <td>0.734141</td>\n",
       "      <td>0.767798</td>\n",
       "      <td>...</td>\n",
       "      <td>0.834902</td>\n",
       "      <td>0.834902</td>\n",
       "      <td>0.834902</td>\n",
       "      <td>0.842588</td>\n",
       "      <td>0.842588</td>\n",
       "      <td>0.842588</td>\n",
       "      <td>0.833804</td>\n",
       "      <td>0.833804</td>\n",
       "      <td>0.833804</td>\n",
       "      <td>6</td>\n",
       "    </tr>\n",
       "    <tr>\n",
       "      <th>2796</th>\n",
       "      <td>0.441757</td>\n",
       "      <td>0.441757</td>\n",
       "      <td>0.441757</td>\n",
       "      <td>0.354918</td>\n",
       "      <td>0.354918</td>\n",
       "      <td>0.354918</td>\n",
       "      <td>0.430902</td>\n",
       "      <td>0.430902</td>\n",
       "      <td>0.430902</td>\n",
       "      <td>0.517741</td>\n",
       "      <td>...</td>\n",
       "      <td>0.266675</td>\n",
       "      <td>0.266675</td>\n",
       "      <td>0.266675</td>\n",
       "      <td>0.282333</td>\n",
       "      <td>0.282333</td>\n",
       "      <td>0.282333</td>\n",
       "      <td>0.264438</td>\n",
       "      <td>0.264438</td>\n",
       "      <td>0.264438</td>\n",
       "      <td>6</td>\n",
       "    </tr>\n",
       "    <tr>\n",
       "      <th>2797</th>\n",
       "      <td>0.999120</td>\n",
       "      <td>0.999120</td>\n",
       "      <td>0.999120</td>\n",
       "      <td>0.999948</td>\n",
       "      <td>0.999948</td>\n",
       "      <td>0.999948</td>\n",
       "      <td>0.999224</td>\n",
       "      <td>0.999224</td>\n",
       "      <td>0.999224</td>\n",
       "      <td>0.998395</td>\n",
       "      <td>...</td>\n",
       "      <td>0.636165</td>\n",
       "      <td>0.636165</td>\n",
       "      <td>0.636165</td>\n",
       "      <td>0.639085</td>\n",
       "      <td>0.639085</td>\n",
       "      <td>0.639085</td>\n",
       "      <td>0.635747</td>\n",
       "      <td>0.635747</td>\n",
       "      <td>0.635747</td>\n",
       "      <td>6</td>\n",
       "    </tr>\n",
       "    <tr>\n",
       "      <th>2798</th>\n",
       "      <td>0.998292</td>\n",
       "      <td>0.998292</td>\n",
       "      <td>0.998292</td>\n",
       "      <td>0.997464</td>\n",
       "      <td>0.997464</td>\n",
       "      <td>0.997464</td>\n",
       "      <td>0.998188</td>\n",
       "      <td>0.998188</td>\n",
       "      <td>0.998188</td>\n",
       "      <td>0.999016</td>\n",
       "      <td>...</td>\n",
       "      <td>0.998290</td>\n",
       "      <td>0.998290</td>\n",
       "      <td>0.998290</td>\n",
       "      <td>0.998642</td>\n",
       "      <td>0.998642</td>\n",
       "      <td>0.998642</td>\n",
       "      <td>0.998240</td>\n",
       "      <td>0.998240</td>\n",
       "      <td>0.998240</td>\n",
       "      <td>6</td>\n",
       "    </tr>\n",
       "    <tr>\n",
       "      <th>2799</th>\n",
       "      <td>0.881613</td>\n",
       "      <td>0.881613</td>\n",
       "      <td>0.881613</td>\n",
       "      <td>0.907112</td>\n",
       "      <td>0.907112</td>\n",
       "      <td>0.907112</td>\n",
       "      <td>0.884800</td>\n",
       "      <td>0.884800</td>\n",
       "      <td>0.884800</td>\n",
       "      <td>0.859300</td>\n",
       "      <td>...</td>\n",
       "      <td>0.759851</td>\n",
       "      <td>0.759851</td>\n",
       "      <td>0.759851</td>\n",
       "      <td>0.759478</td>\n",
       "      <td>0.759478</td>\n",
       "      <td>0.759478</td>\n",
       "      <td>0.759904</td>\n",
       "      <td>0.759904</td>\n",
       "      <td>0.759904</td>\n",
       "      <td>6</td>\n",
       "    </tr>\n",
       "  </tbody>\n",
       "</table>\n",
       "<p>5 rows × 67501 columns</p>\n",
       "</div>"
      ],
      "text/plain": [
       "             0         1         2         3         4         5         6  \\\n",
       "2795  0.738348  0.738348  0.738348  0.704692  0.704692  0.704692  0.734141   \n",
       "2796  0.441757  0.441757  0.441757  0.354918  0.354918  0.354918  0.430902   \n",
       "2797  0.999120  0.999120  0.999120  0.999948  0.999948  0.999948  0.999224   \n",
       "2798  0.998292  0.998292  0.998292  0.997464  0.997464  0.997464  0.998188   \n",
       "2799  0.881613  0.881613  0.881613  0.907112  0.907112  0.907112  0.884800   \n",
       "\n",
       "             7         8         9  ...     67491     67492     67493  \\\n",
       "2795  0.734141  0.734141  0.767798  ...  0.834902  0.834902  0.834902   \n",
       "2796  0.430902  0.430902  0.517741  ...  0.266675  0.266675  0.266675   \n",
       "2797  0.999224  0.999224  0.998395  ...  0.636165  0.636165  0.636165   \n",
       "2798  0.998188  0.998188  0.999016  ...  0.998290  0.998290  0.998290   \n",
       "2799  0.884800  0.884800  0.859300  ...  0.759851  0.759851  0.759851   \n",
       "\n",
       "         67494     67495     67496     67497     67498     67499  Target  \n",
       "2795  0.842588  0.842588  0.842588  0.833804  0.833804  0.833804       6  \n",
       "2796  0.282333  0.282333  0.282333  0.264438  0.264438  0.264438       6  \n",
       "2797  0.639085  0.639085  0.639085  0.635747  0.635747  0.635747       6  \n",
       "2798  0.998642  0.998642  0.998642  0.998240  0.998240  0.998240       6  \n",
       "2799  0.759478  0.759478  0.759478  0.759904  0.759904  0.759904       6  \n",
       "\n",
       "[5 rows x 67501 columns]"
      ]
     },
     "execution_count": 10,
     "metadata": {},
     "output_type": "execute_result"
    }
   ],
   "source": [
    "dfn.tail()"
   ]
  },
  {
   "cell_type": "code",
   "execution_count": 11,
   "metadata": {
    "execution": {
     "iopub.execute_input": "2022-03-11T19:49:46.250407Z",
     "iopub.status.busy": "2022-03-11T19:49:46.250160Z",
     "iopub.status.idle": "2022-03-11T19:49:46.922566Z",
     "shell.execute_reply": "2022-03-11T19:49:46.921596Z",
     "shell.execute_reply.started": "2022-03-11T19:49:46.250381Z"
    }
   },
   "outputs": [],
   "source": [
    "x = dfn.iloc[:,:-1] #input data \n",
    "y = dfn.iloc[:,-1] #output data"
   ]
  },
  {
   "cell_type": "code",
   "execution_count": 12,
   "metadata": {
    "execution": {
     "iopub.execute_input": "2022-03-11T19:49:46.923997Z",
     "iopub.status.busy": "2022-03-11T19:49:46.923759Z",
     "iopub.status.idle": "2022-03-11T19:49:46.934661Z",
     "shell.execute_reply": "2022-03-11T19:49:46.934075Z",
     "shell.execute_reply.started": "2022-03-11T19:49:46.923972Z"
    }
   },
   "outputs": [
    {
     "data": {
      "text/plain": [
       "0       0\n",
       "1       0\n",
       "2       0\n",
       "3       0\n",
       "4       0\n",
       "       ..\n",
       "2795    6\n",
       "2796    6\n",
       "2797    6\n",
       "2798    6\n",
       "2799    6\n",
       "Name: Target, Length: 2800, dtype: int64"
      ]
     },
     "execution_count": 12,
     "metadata": {},
     "output_type": "execute_result"
    }
   ],
   "source": [
    "y"
   ]
  },
  {
   "cell_type": "code",
   "execution_count": 13,
   "metadata": {
    "execution": {
     "iopub.execute_input": "2022-03-11T19:49:46.935936Z",
     "iopub.status.busy": "2022-03-11T19:49:46.935569Z",
     "iopub.status.idle": "2022-03-11T19:49:47.522181Z",
     "shell.execute_reply": "2022-03-11T19:49:47.521398Z",
     "shell.execute_reply.started": "2022-03-11T19:49:46.935910Z"
    }
   },
   "outputs": [],
   "source": [
    "from sklearn.model_selection import train_test_split\n",
    "x_train,x_test,y_train,y_test = train_test_split(x, y, test_size = 0.20, random_state = 42)"
   ]
  },
  {
   "cell_type": "code",
   "execution_count": 14,
   "metadata": {
    "execution": {
     "iopub.execute_input": "2022-03-11T19:49:47.523322Z",
     "iopub.status.busy": "2022-03-11T19:49:47.523148Z",
     "iopub.status.idle": "2022-03-11T19:49:47.529375Z",
     "shell.execute_reply": "2022-03-11T19:49:47.528262Z",
     "shell.execute_reply.started": "2022-03-11T19:49:47.523301Z"
    }
   },
   "outputs": [],
   "source": [
    "# non-linear svm\n",
    "svm = cv2.ml.SVM_create()\n",
    "svm.setType(cv2.ml.SVM_C_SVC)\n",
    "svm.setC(0.1)                 # non-linearity\n",
    "svm.setKernel(cv2.ml.SVM_LINEAR)\n",
    "svm.setTermCriteria((cv2.TERM_CRITERIA_MAX_ITER, int(1e6), 1e-6))"
   ]
  },
  {
   "cell_type": "code",
   "execution_count": 15,
   "metadata": {
    "execution": {
     "iopub.execute_input": "2022-03-11T19:49:47.530522Z",
     "iopub.status.busy": "2022-03-11T19:49:47.530348Z",
     "iopub.status.idle": "2022-03-11T19:54:43.021687Z",
     "shell.execute_reply": "2022-03-11T19:54:43.020958Z",
     "shell.execute_reply.started": "2022-03-11T19:49:47.530502Z"
    }
   },
   "outputs": [
    {
     "data": {
      "text/plain": [
       "True"
      ]
     },
     "execution_count": 15,
     "metadata": {},
     "output_type": "execute_result"
    }
   ],
   "source": [
    "svm.train(np.asarray(x_train, np.float32), cv2.ml.ROW_SAMPLE, np.array(y_train))"
   ]
  },
  {
   "cell_type": "code",
   "execution_count": 16,
   "metadata": {
    "execution": {
     "iopub.execute_input": "2022-03-11T19:54:43.023009Z",
     "iopub.status.busy": "2022-03-11T19:54:43.022816Z",
     "iopub.status.idle": "2022-03-11T19:54:43.261345Z",
     "shell.execute_reply": "2022-03-11T19:54:43.260766Z",
     "shell.execute_reply.started": "2022-03-11T19:54:43.022985Z"
    }
   },
   "outputs": [],
   "source": [
    "response = svm.predict(np.asarray(x_test, np.float32))[1]"
   ]
  },
  {
   "cell_type": "code",
   "execution_count": 17,
   "metadata": {
    "execution": {
     "iopub.execute_input": "2022-03-11T19:54:43.263970Z",
     "iopub.status.busy": "2022-03-11T19:54:43.263556Z",
     "iopub.status.idle": "2022-03-11T19:54:43.464797Z",
     "shell.execute_reply": "2022-03-11T19:54:43.463747Z",
     "shell.execute_reply.started": "2022-03-11T19:54:43.263925Z"
    }
   },
   "outputs": [
    {
     "name": "stdout",
     "output_type": "stream",
     "text": [
      "[[0.20188235 0.20188235 0.20188235 ... 0.56738824 0.56738824 0.56738824]\n",
      " [0.5553631  0.5553631  0.5553631  ... 0.30629334 0.30629334 0.30629334]\n",
      " [0.00557804 0.00557804 0.00557804 ... 0.5314337  0.5314337  0.5314337 ]\n",
      " ...\n",
      " [0.03745569 0.03745569 0.03745569 ... 0.6157396  0.6157396  0.6157396 ]\n",
      " [0.8970808  0.8970808  0.8970808  ... 0.9194839  0.9194839  0.9194839 ]\n",
      " [0.5185192  0.5185192  0.5185192  ... 0.2391906  0.2391906  0.2391906 ]]\n"
     ]
    }
   ],
   "source": [
    "sv = svm.getUncompressedSupportVectors() # the support vectors\n",
    "print(sv)"
   ]
  },
  {
   "cell_type": "code",
   "execution_count": 18,
   "metadata": {
    "execution": {
     "iopub.execute_input": "2022-03-11T19:54:43.466193Z",
     "iopub.status.busy": "2022-03-11T19:54:43.466003Z",
     "iopub.status.idle": "2022-03-11T19:54:43.472808Z",
     "shell.execute_reply": "2022-03-11T19:54:43.472050Z",
     "shell.execute_reply.started": "2022-03-11T19:54:43.466170Z"
    }
   },
   "outputs": [
    {
     "name": "stdout",
     "output_type": "stream",
     "text": [
      "Accuracy score 0.2910714285714286\n"
     ]
    }
   ],
   "source": [
    "# performance metrics\n",
    "from sklearn.metrics import accuracy_score\n",
    "print(\"Accuracy score\", accuracy_score(y_test, [x[0] for x in response]))"
   ]
  },
  {
   "cell_type": "code",
   "execution_count": 19,
   "metadata": {
    "execution": {
     "iopub.execute_input": "2022-03-11T19:54:43.474170Z",
     "iopub.status.busy": "2022-03-11T19:54:43.473725Z",
     "iopub.status.idle": "2022-03-11T19:54:43.484614Z",
     "shell.execute_reply": "2022-03-11T19:54:43.483745Z",
     "shell.execute_reply.started": "2022-03-11T19:54:43.474139Z"
    }
   },
   "outputs": [
    {
     "name": "stdout",
     "output_type": "stream",
     "text": [
      "Confusion matrix\n",
      " [[21 14 12 11  9  4  5]\n",
      " [15 37 11 10  5  6  5]\n",
      " [15  9 17  6  7  9 14]\n",
      " [17 13 16 27  7  3  3]\n",
      " [14  9  9 11 18 10  5]\n",
      " [12 11 15  8 18 15  4]\n",
      " [ 4  8 14  8  6  5 28]]\n"
     ]
    }
   ],
   "source": [
    "from sklearn.metrics import confusion_matrix\n",
    "print(\"Confusion matrix\\n\", confusion_matrix(y_test, [x[0] for x in response]))"
   ]
  },
  {
   "cell_type": "code",
   "execution_count": 20,
   "metadata": {
    "execution": {
     "iopub.execute_input": "2022-03-11T19:54:43.486427Z",
     "iopub.status.busy": "2022-03-11T19:54:43.485939Z",
     "iopub.status.idle": "2022-03-11T19:54:43.499017Z",
     "shell.execute_reply": "2022-03-11T19:54:43.498476Z",
     "shell.execute_reply.started": "2022-03-11T19:54:43.486399Z"
    }
   },
   "outputs": [
    {
     "name": "stdout",
     "output_type": "stream",
     "text": [
      "              precision    recall  f1-score   support\n",
      "\n",
      "           0       0.21      0.28      0.24        76\n",
      "           1       0.37      0.42      0.39        89\n",
      "           2       0.18      0.22      0.20        77\n",
      "           3       0.33      0.31      0.32        86\n",
      "           4       0.26      0.24      0.25        76\n",
      "           5       0.29      0.18      0.22        83\n",
      "           6       0.44      0.38      0.41        73\n",
      "\n",
      "    accuracy                           0.29       560\n",
      "   macro avg       0.30      0.29      0.29       560\n",
      "weighted avg       0.30      0.29      0.29       560\n",
      "\n"
     ]
    }
   ],
   "source": [
    "from sklearn.metrics import classification_report\n",
    "print(classification_report(y_test,[x[0] for x in response]))"
   ]
  },
  {
   "cell_type": "markdown",
   "metadata": {},
   "source": [
    "#### Observation\n",
    "1. It is observed that the test accuracy is 29% when we use 400 images from each class of emotion out of 3000s to 4000s, due to RAM constraints. Also as SVM needs more number of iterations i.e., 1e6 iterations to fit on this data, it takes a longer time to run. We have flattened out the 2D image array to 1D and fed them as features to the SVM. The value of C which controls the margin size is relatively large, to prevent more misclassification errors.\n",
    "2. It was also seen when we initially tested the model with 200 images from each class, the accuracy was 25%, which upon increasing to 400 images per class the accuracy is 29%. This clearly demonstrates that if the RAM constraints are combated, SVM can achieve a competitive accuracy on this dataset.\n",
    "3. We observe that the precision and recall of the 1st (disgust) and 6th (surprise) classes are highest out of the other classes, which shows that svm was able to learn their feature better despite the less number of image samples given for training."
   ]
  },
  {
   "cell_type": "markdown",
   "metadata": {},
   "source": [
    "References:\n",
    "1. https://medium.com/analytics-vidhya/image-classification-using-machine-learning-support-vector-machine-svm-dc7a0ec92e01\n",
    "2. https://docs.opencv.org/4.x/d0/dcc/tutorial_non_linear_svms.html"
   ]
  }
 ],
 "metadata": {
  "kernelspec": {
   "display_name": "Python 3 (ipykernel)",
   "language": "python",
   "name": "python3"
  },
  "language_info": {
   "codemirror_mode": {
    "name": "ipython",
    "version": 3
   },
   "file_extension": ".py",
   "mimetype": "text/x-python",
   "name": "python",
   "nbconvert_exporter": "python",
   "pygments_lexer": "ipython3",
   "version": "3.8.10"
  }
 },
 "nbformat": 4,
 "nbformat_minor": 4
}
