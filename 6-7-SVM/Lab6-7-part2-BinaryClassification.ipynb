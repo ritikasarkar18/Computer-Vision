{
 "cells": [
  {
   "cell_type": "markdown",
   "metadata": {},
   "source": [
    "<pre>\n",
    "Name: Ritika Sarkar\n",
    "Reg. No.: 19BAI1031\n",
    "</pre>"
   ]
  },
  {
   "cell_type": "markdown",
   "metadata": {},
   "source": [
    "#### B. Binary classification on [Histopathologic Cancer Dataset](https://www.kaggle.com/c/histopathologic-cancer-detection/data)"
   ]
  },
  {
   "cell_type": "code",
   "execution_count": 2,
   "metadata": {
    "_cell_guid": "b1076dfc-b9ad-4769-8c92-a6c4dae69d19",
    "_uuid": "8f2839f25d086af736a60e9eeb907d3b93b6e0e5",
    "execution": {
     "iopub.execute_input": "2022-03-11T11:49:47.784135Z",
     "iopub.status.busy": "2022-03-11T11:49:47.783519Z",
     "iopub.status.idle": "2022-03-11T11:49:47.788660Z",
     "shell.execute_reply": "2022-03-11T11:49:47.787924Z",
     "shell.execute_reply.started": "2022-03-11T11:49:47.784092Z"
    }
   },
   "outputs": [],
   "source": [
    "# This Python 3 environment comes with many helpful analytics libraries installed\n",
    "# It is defined by the kaggle/python Docker image: https://github.com/kaggle/docker-python\n",
    "# For example, here's several helpful packages to load\n",
    "\n",
    "import numpy as np # linear algebra\n",
    "import pandas as pd # data processing, CSV file I/O (e.g. pd.read_csv)\n",
    "\n",
    "# Input data files are available in the read-only \"../input/\" directory\n",
    "# For example, running this (by clicking run or pressing Shift+Enter) will list all files under the input directory\n",
    "\n",
    "import os\n",
    "# for dirname, _, filenames in os.walk('/kaggle/input'):\n",
    "#     for filename in filenames:\n",
    "#         print(os.path.join(dirname, filename))\n",
    "\n",
    "# You can write up to 20GB to the current directory (/kaggle/working/) that gets preserved as output when you create a version using \"Save & Run All\" \n",
    "# You can also write temporary files to /kaggle/temp/, but they won't be saved outside of the current session"
   ]
  },
  {
   "cell_type": "code",
   "execution_count": 3,
   "metadata": {
    "execution": {
     "iopub.execute_input": "2022-03-11T11:49:47.790637Z",
     "iopub.status.busy": "2022-03-11T11:49:47.790196Z",
     "iopub.status.idle": "2022-03-11T11:49:48.420892Z",
     "shell.execute_reply": "2022-03-11T11:49:48.420218Z",
     "shell.execute_reply.started": "2022-03-11T11:49:47.790604Z"
    }
   },
   "outputs": [],
   "source": [
    "import cv2\n",
    "import matplotlib.pyplot as plt\n",
    "import numpy as np\n",
    "import random\n",
    "# from google.colab.patches import cv2_imshow\n",
    "import pandas as pd \n",
    "import os\n",
    "from skimage.transform import resize\n",
    "from skimage.io import imread"
   ]
  },
  {
   "cell_type": "code",
   "execution_count": 4,
   "metadata": {
    "execution": {
     "iopub.execute_input": "2022-03-11T11:49:48.422317Z",
     "iopub.status.busy": "2022-03-11T11:49:48.422042Z",
     "iopub.status.idle": "2022-03-11T11:49:48.686725Z",
     "shell.execute_reply": "2022-03-11T11:49:48.685853Z",
     "shell.execute_reply.started": "2022-03-11T11:49:48.422285Z"
    }
   },
   "outputs": [],
   "source": [
    "df = pd.read_csv('../input/histopathologic-cancer-detection/train_labels.csv')"
   ]
  },
  {
   "cell_type": "code",
   "execution_count": 5,
   "metadata": {
    "execution": {
     "iopub.execute_input": "2022-03-11T11:49:48.688441Z",
     "iopub.status.busy": "2022-03-11T11:49:48.687861Z",
     "iopub.status.idle": "2022-03-11T11:49:48.701847Z",
     "shell.execute_reply": "2022-03-11T11:49:48.700973Z",
     "shell.execute_reply.started": "2022-03-11T11:49:48.688403Z"
    }
   },
   "outputs": [
    {
     "data": {
      "text/html": [
       "<div>\n",
       "<style scoped>\n",
       "    .dataframe tbody tr th:only-of-type {\n",
       "        vertical-align: middle;\n",
       "    }\n",
       "\n",
       "    .dataframe tbody tr th {\n",
       "        vertical-align: top;\n",
       "    }\n",
       "\n",
       "    .dataframe thead th {\n",
       "        text-align: right;\n",
       "    }\n",
       "</style>\n",
       "<table border=\"1\" class=\"dataframe\">\n",
       "  <thead>\n",
       "    <tr style=\"text-align: right;\">\n",
       "      <th></th>\n",
       "      <th>id</th>\n",
       "      <th>label</th>\n",
       "    </tr>\n",
       "  </thead>\n",
       "  <tbody>\n",
       "    <tr>\n",
       "      <th>0</th>\n",
       "      <td>f38a6374c348f90b587e046aac6079959adf3835</td>\n",
       "      <td>0</td>\n",
       "    </tr>\n",
       "    <tr>\n",
       "      <th>1</th>\n",
       "      <td>c18f2d887b7ae4f6742ee445113fa1aef383ed77</td>\n",
       "      <td>1</td>\n",
       "    </tr>\n",
       "    <tr>\n",
       "      <th>2</th>\n",
       "      <td>755db6279dae599ebb4d39a9123cce439965282d</td>\n",
       "      <td>0</td>\n",
       "    </tr>\n",
       "    <tr>\n",
       "      <th>3</th>\n",
       "      <td>bc3f0c64fb968ff4a8bd33af6971ecae77c75e08</td>\n",
       "      <td>0</td>\n",
       "    </tr>\n",
       "    <tr>\n",
       "      <th>4</th>\n",
       "      <td>068aba587a4950175d04c680d38943fd488d6a9d</td>\n",
       "      <td>0</td>\n",
       "    </tr>\n",
       "  </tbody>\n",
       "</table>\n",
       "</div>"
      ],
      "text/plain": [
       "                                         id  label\n",
       "0  f38a6374c348f90b587e046aac6079959adf3835      0\n",
       "1  c18f2d887b7ae4f6742ee445113fa1aef383ed77      1\n",
       "2  755db6279dae599ebb4d39a9123cce439965282d      0\n",
       "3  bc3f0c64fb968ff4a8bd33af6971ecae77c75e08      0\n",
       "4  068aba587a4950175d04c680d38943fd488d6a9d      0"
      ]
     },
     "execution_count": 5,
     "metadata": {},
     "output_type": "execute_result"
    }
   ],
   "source": [
    "df.head()"
   ]
  },
  {
   "cell_type": "code",
   "execution_count": 6,
   "metadata": {
    "execution": {
     "iopub.execute_input": "2022-03-11T11:49:48.704399Z",
     "iopub.status.busy": "2022-03-11T11:49:48.704123Z",
     "iopub.status.idle": "2022-03-11T11:49:48.718310Z",
     "shell.execute_reply": "2022-03-11T11:49:48.717403Z",
     "shell.execute_reply.started": "2022-03-11T11:49:48.704364Z"
    }
   },
   "outputs": [],
   "source": [
    "image = plt.imread('../input/histopathologic-cancer-detection/train/'+df['id'][0]+'.tif')"
   ]
  },
  {
   "cell_type": "code",
   "execution_count": 7,
   "metadata": {
    "execution": {
     "iopub.execute_input": "2022-03-11T11:49:48.720105Z",
     "iopub.status.busy": "2022-03-11T11:49:48.719740Z",
     "iopub.status.idle": "2022-03-11T11:49:48.944831Z",
     "shell.execute_reply": "2022-03-11T11:49:48.944143Z",
     "shell.execute_reply.started": "2022-03-11T11:49:48.720061Z"
    }
   },
   "outputs": [
    {
     "data": {
      "text/plain": [
       "<matplotlib.image.AxesImage at 0x7f41d59e3c50>"
      ]
     },
     "execution_count": 7,
     "metadata": {},
     "output_type": "execute_result"
    },
    {
     "data": {
      "image/png": "[encoded data removed]",
      "text/plain": [
       "<Figure size 432x288 with 1 Axes>"
      ]
     },
     "metadata": {
      "needs_background": "light"
     },
     "output_type": "display_data"
    }
   ],
   "source": [
    "plt.imshow(image)"
   ]
  },
  {
   "cell_type": "code",
   "execution_count": 8,
   "metadata": {
    "execution": {
     "iopub.execute_input": "2022-03-11T11:49:48.946777Z",
     "iopub.status.busy": "2022-03-11T11:49:48.946358Z",
     "iopub.status.idle": "2022-03-11T11:49:48.952588Z",
     "shell.execute_reply": "2022-03-11T11:49:48.951707Z",
     "shell.execute_reply.started": "2022-03-11T11:49:48.946743Z"
    }
   },
   "outputs": [
    {
     "data": {
      "text/plain": [
       "220025"
      ]
     },
     "execution_count": 8,
     "metadata": {},
     "output_type": "execute_result"
    }
   ],
   "source": [
    "df.shape[0]"
   ]
  },
  {
   "cell_type": "code",
   "execution_count": 9,
   "metadata": {
    "execution": {
     "iopub.execute_input": "2022-03-11T11:49:48.956847Z",
     "iopub.status.busy": "2022-03-11T11:49:48.955600Z",
     "iopub.status.idle": "2022-03-11T11:49:49.144097Z",
     "shell.execute_reply": "2022-03-11T11:49:49.143146Z",
     "shell.execute_reply.started": "2022-03-11T11:49:48.956806Z"
    }
   },
   "outputs": [
    {
     "data": {
      "text/plain": [
       "<AxesSubplot:>"
      ]
     },
     "execution_count": 9,
     "metadata": {},
     "output_type": "execute_result"
    },
    {
     "data": {
      "image/png": "[encoded data removed]",
      "text/plain": [
       "<Figure size 432x288 with 1 Axes>"
      ]
     },
     "metadata": {
      "needs_background": "light"
     },
     "output_type": "display_data"
    }
   ],
   "source": [
    "df['label'].value_counts().plot(kind='barh')"
   ]
  },
  {
   "cell_type": "code",
   "execution_count": 10,
   "metadata": {
    "execution": {
     "iopub.execute_input": "2022-03-11T11:49:49.146141Z",
     "iopub.status.busy": "2022-03-11T11:49:49.145496Z",
     "iopub.status.idle": "2022-03-11T11:49:49.155538Z",
     "shell.execute_reply": "2022-03-11T11:49:49.154663Z",
     "shell.execute_reply.started": "2022-03-11T11:49:49.146101Z"
    }
   },
   "outputs": [
    {
     "data": {
      "text/plain": [
       "0    130908\n",
       "1     89117\n",
       "Name: label, dtype: int64"
      ]
     },
     "execution_count": 10,
     "metadata": {},
     "output_type": "execute_result"
    }
   ],
   "source": [
    "# count of each class\n",
    "df['label'].value_counts()"
   ]
  },
  {
   "cell_type": "code",
   "execution_count": 11,
   "metadata": {
    "execution": {
     "iopub.execute_input": "2022-03-11T11:49:49.157051Z",
     "iopub.status.busy": "2022-03-11T11:49:49.156786Z",
     "iopub.status.idle": "2022-03-11T11:49:49.173177Z",
     "shell.execute_reply": "2022-03-11T11:49:49.172328Z",
     "shell.execute_reply.started": "2022-03-11T11:49:49.156996Z"
    }
   },
   "outputs": [],
   "source": [
    "# taking a subset of the dataset due to memory error\n",
    "dfnew = df.sample(n=500)"
   ]
  },
  {
   "cell_type": "code",
   "execution_count": 12,
   "metadata": {
    "execution": {
     "iopub.execute_input": "2022-03-11T11:49:49.175828Z",
     "iopub.status.busy": "2022-03-11T11:49:49.174720Z",
     "iopub.status.idle": "2022-03-11T11:49:49.186939Z",
     "shell.execute_reply": "2022-03-11T11:49:49.185989Z",
     "shell.execute_reply.started": "2022-03-11T11:49:49.175771Z"
    }
   },
   "outputs": [
    {
     "data": {
      "text/plain": [
       "0    292\n",
       "1    208\n",
       "Name: label, dtype: int64"
      ]
     },
     "execution_count": 12,
     "metadata": {},
     "output_type": "execute_result"
    }
   ],
   "source": [
    "dfnew['label'].value_counts()"
   ]
  },
  {
   "cell_type": "code",
   "execution_count": 13,
   "metadata": {
    "execution": {
     "iopub.execute_input": "2022-03-11T11:49:49.189275Z",
     "iopub.status.busy": "2022-03-11T11:49:49.188328Z",
     "iopub.status.idle": "2022-03-11T11:49:49.203901Z",
     "shell.execute_reply": "2022-03-11T11:49:49.203071Z",
     "shell.execute_reply.started": "2022-03-11T11:49:49.189227Z"
    }
   },
   "outputs": [
    {
     "data": {
      "text/html": [
       "<div>\n",
       "<style scoped>\n",
       "    .dataframe tbody tr th:only-of-type {\n",
       "        vertical-align: middle;\n",
       "    }\n",
       "\n",
       "    .dataframe tbody tr th {\n",
       "        vertical-align: top;\n",
       "    }\n",
       "\n",
       "    .dataframe thead th {\n",
       "        text-align: right;\n",
       "    }\n",
       "</style>\n",
       "<table border=\"1\" class=\"dataframe\">\n",
       "  <thead>\n",
       "    <tr style=\"text-align: right;\">\n",
       "      <th></th>\n",
       "      <th>id</th>\n",
       "      <th>label</th>\n",
       "    </tr>\n",
       "  </thead>\n",
       "  <tbody>\n",
       "    <tr>\n",
       "      <th>73048</th>\n",
       "      <td>cb51b3f4d0d959d5819ffe1418b9feb8b535c45b</td>\n",
       "      <td>1</td>\n",
       "    </tr>\n",
       "    <tr>\n",
       "      <th>202570</th>\n",
       "      <td>9c5f76cd05e1198b41dbc5c590371583904aa661</td>\n",
       "      <td>1</td>\n",
       "    </tr>\n",
       "    <tr>\n",
       "      <th>131768</th>\n",
       "      <td>2d6a36fa7b904d437e5ec8be0c2eb04b41db24d8</td>\n",
       "      <td>0</td>\n",
       "    </tr>\n",
       "    <tr>\n",
       "      <th>29351</th>\n",
       "      <td>04fb0fea3e799923aa404b0a7fc67ed9211a6752</td>\n",
       "      <td>1</td>\n",
       "    </tr>\n",
       "    <tr>\n",
       "      <th>211869</th>\n",
       "      <td>78d4e6dc5e11116b74b4cae8b9e8fbb87c2ac622</td>\n",
       "      <td>0</td>\n",
       "    </tr>\n",
       "  </tbody>\n",
       "</table>\n",
       "</div>"
      ],
      "text/plain": [
       "                                              id  label\n",
       "73048   cb51b3f4d0d959d5819ffe1418b9feb8b535c45b      1\n",
       "202570  9c5f76cd05e1198b41dbc5c590371583904aa661      1\n",
       "131768  2d6a36fa7b904d437e5ec8be0c2eb04b41db24d8      0\n",
       "29351   04fb0fea3e799923aa404b0a7fc67ed9211a6752      1\n",
       "211869  78d4e6dc5e11116b74b4cae8b9e8fbb87c2ac622      0"
      ]
     },
     "execution_count": 13,
     "metadata": {},
     "output_type": "execute_result"
    }
   ],
   "source": [
    "dfnew.head()"
   ]
  },
  {
   "cell_type": "code",
   "execution_count": 14,
   "metadata": {
    "execution": {
     "iopub.execute_input": "2022-03-11T11:49:49.205820Z",
     "iopub.status.busy": "2022-03-11T11:49:49.205125Z",
     "iopub.status.idle": "2022-03-11T11:49:49.210436Z",
     "shell.execute_reply": "2022-03-11T11:49:49.209766Z",
     "shell.execute_reply.started": "2022-03-11T11:49:49.205779Z"
    }
   },
   "outputs": [],
   "source": [
    "dfnew.reset_index(drop = True, inplace = True)"
   ]
  },
  {
   "cell_type": "code",
   "execution_count": 15,
   "metadata": {
    "execution": {
     "iopub.execute_input": "2022-03-11T11:49:49.213808Z",
     "iopub.status.busy": "2022-03-11T11:49:49.213212Z",
     "iopub.status.idle": "2022-03-11T11:49:49.229229Z",
     "shell.execute_reply": "2022-03-11T11:49:49.228358Z",
     "shell.execute_reply.started": "2022-03-11T11:49:49.213757Z"
    }
   },
   "outputs": [
    {
     "data": {
      "text/html": [
       "<div>\n",
       "<style scoped>\n",
       "    .dataframe tbody tr th:only-of-type {\n",
       "        vertical-align: middle;\n",
       "    }\n",
       "\n",
       "    .dataframe tbody tr th {\n",
       "        vertical-align: top;\n",
       "    }\n",
       "\n",
       "    .dataframe thead th {\n",
       "        text-align: right;\n",
       "    }\n",
       "</style>\n",
       "<table border=\"1\" class=\"dataframe\">\n",
       "  <thead>\n",
       "    <tr style=\"text-align: right;\">\n",
       "      <th></th>\n",
       "      <th>id</th>\n",
       "      <th>label</th>\n",
       "    </tr>\n",
       "  </thead>\n",
       "  <tbody>\n",
       "    <tr>\n",
       "      <th>0</th>\n",
       "      <td>cb51b3f4d0d959d5819ffe1418b9feb8b535c45b</td>\n",
       "      <td>1</td>\n",
       "    </tr>\n",
       "    <tr>\n",
       "      <th>1</th>\n",
       "      <td>9c5f76cd05e1198b41dbc5c590371583904aa661</td>\n",
       "      <td>1</td>\n",
       "    </tr>\n",
       "    <tr>\n",
       "      <th>2</th>\n",
       "      <td>2d6a36fa7b904d437e5ec8be0c2eb04b41db24d8</td>\n",
       "      <td>0</td>\n",
       "    </tr>\n",
       "    <tr>\n",
       "      <th>3</th>\n",
       "      <td>04fb0fea3e799923aa404b0a7fc67ed9211a6752</td>\n",
       "      <td>1</td>\n",
       "    </tr>\n",
       "    <tr>\n",
       "      <th>4</th>\n",
       "      <td>78d4e6dc5e11116b74b4cae8b9e8fbb87c2ac622</td>\n",
       "      <td>0</td>\n",
       "    </tr>\n",
       "  </tbody>\n",
       "</table>\n",
       "</div>"
      ],
      "text/plain": [
       "                                         id  label\n",
       "0  cb51b3f4d0d959d5819ffe1418b9feb8b535c45b      1\n",
       "1  9c5f76cd05e1198b41dbc5c590371583904aa661      1\n",
       "2  2d6a36fa7b904d437e5ec8be0c2eb04b41db24d8      0\n",
       "3  04fb0fea3e799923aa404b0a7fc67ed9211a6752      1\n",
       "4  78d4e6dc5e11116b74b4cae8b9e8fbb87c2ac622      0"
      ]
     },
     "execution_count": 15,
     "metadata": {},
     "output_type": "execute_result"
    }
   ],
   "source": [
    "dfnew.head()"
   ]
  },
  {
   "cell_type": "code",
   "execution_count": 16,
   "metadata": {
    "execution": {
     "iopub.execute_input": "2022-03-11T11:49:49.230822Z",
     "iopub.status.busy": "2022-03-11T11:49:49.230562Z",
     "iopub.status.idle": "2022-03-11T11:49:56.617482Z",
     "shell.execute_reply": "2022-03-11T11:49:56.616661Z",
     "shell.execute_reply.started": "2022-03-11T11:49:49.230791Z"
    }
   },
   "outputs": [],
   "source": [
    "flat_data_arr = [] #input array\n",
    "target_arr = [] #output array\n",
    "datadir = '../input/histopathologic-cancer-detection/train/'\n",
    "\n",
    "#path which contains all the categories of images\n",
    "for i in range(dfnew.shape[0]):\n",
    "    img = dfnew['id'][i] + '.tif'\n",
    "    img_array = imread(os.path.join(datadir,img))\n",
    "    img_resized = resize(img_array,(150,150,3))\n",
    "    flat_data_arr.append(img_resized.flatten())\n",
    "    target_arr.append(dfnew['label'][i])"
   ]
  },
  {
   "cell_type": "code",
   "execution_count": 17,
   "metadata": {
    "execution": {
     "iopub.execute_input": "2022-03-11T11:49:56.621432Z",
     "iopub.status.busy": "2022-03-11T11:49:56.621136Z",
     "iopub.status.idle": "2022-03-11T11:49:56.736166Z",
     "shell.execute_reply": "2022-03-11T11:49:56.735271Z",
     "shell.execute_reply.started": "2022-03-11T11:49:56.621397Z"
    }
   },
   "outputs": [],
   "source": [
    "flat_data = np.array(flat_data_arr)\n",
    "target = np.array(target_arr)\n",
    "dfn = pd.DataFrame(flat_data) #dataframe\n",
    "dfn['Target'] = target"
   ]
  },
  {
   "cell_type": "code",
   "execution_count": 18,
   "metadata": {
    "execution": {
     "iopub.execute_input": "2022-03-11T11:49:56.737838Z",
     "iopub.status.busy": "2022-03-11T11:49:56.737395Z",
     "iopub.status.idle": "2022-03-11T11:49:56.769357Z",
     "shell.execute_reply": "2022-03-11T11:49:56.768404Z",
     "shell.execute_reply.started": "2022-03-11T11:49:56.737801Z"
    }
   },
   "outputs": [
    {
     "data": {
      "text/html": [
       "<div>\n",
       "<style scoped>\n",
       "    .dataframe tbody tr th:only-of-type {\n",
       "        vertical-align: middle;\n",
       "    }\n",
       "\n",
       "    .dataframe tbody tr th {\n",
       "        vertical-align: top;\n",
       "    }\n",
       "\n",
       "    .dataframe thead th {\n",
       "        text-align: right;\n",
       "    }\n",
       "</style>\n",
       "<table border=\"1\" class=\"dataframe\">\n",
       "  <thead>\n",
       "    <tr style=\"text-align: right;\">\n",
       "      <th></th>\n",
       "      <th>0</th>\n",
       "      <th>1</th>\n",
       "      <th>2</th>\n",
       "      <th>3</th>\n",
       "      <th>4</th>\n",
       "      <th>5</th>\n",
       "      <th>6</th>\n",
       "      <th>7</th>\n",
       "      <th>8</th>\n",
       "      <th>9</th>\n",
       "      <th>...</th>\n",
       "      <th>67491</th>\n",
       "      <th>67492</th>\n",
       "      <th>67493</th>\n",
       "      <th>67494</th>\n",
       "      <th>67495</th>\n",
       "      <th>67496</th>\n",
       "      <th>67497</th>\n",
       "      <th>67498</th>\n",
       "      <th>67499</th>\n",
       "      <th>Target</th>\n",
       "    </tr>\n",
       "  </thead>\n",
       "  <tbody>\n",
       "    <tr>\n",
       "      <th>0</th>\n",
       "      <td>0.594289</td>\n",
       "      <td>0.418651</td>\n",
       "      <td>0.547682</td>\n",
       "      <td>0.577840</td>\n",
       "      <td>0.402400</td>\n",
       "      <td>0.530838</td>\n",
       "      <td>0.553420</td>\n",
       "      <td>0.378361</td>\n",
       "      <td>0.504871</td>\n",
       "      <td>0.600152</td>\n",
       "      <td>...</td>\n",
       "      <td>0.843600</td>\n",
       "      <td>0.679004</td>\n",
       "      <td>0.782675</td>\n",
       "      <td>0.705652</td>\n",
       "      <td>0.540384</td>\n",
       "      <td>0.633293</td>\n",
       "      <td>0.623057</td>\n",
       "      <td>0.457702</td>\n",
       "      <td>0.545713</td>\n",
       "      <td>1</td>\n",
       "    </tr>\n",
       "    <tr>\n",
       "      <th>1</th>\n",
       "      <td>0.567867</td>\n",
       "      <td>0.371915</td>\n",
       "      <td>0.723053</td>\n",
       "      <td>0.577420</td>\n",
       "      <td>0.380568</td>\n",
       "      <td>0.734999</td>\n",
       "      <td>0.572243</td>\n",
       "      <td>0.374118</td>\n",
       "      <td>0.736792</td>\n",
       "      <td>0.421203</td>\n",
       "      <td>...</td>\n",
       "      <td>0.294588</td>\n",
       "      <td>0.112824</td>\n",
       "      <td>0.461310</td>\n",
       "      <td>0.232270</td>\n",
       "      <td>0.059261</td>\n",
       "      <td>0.409054</td>\n",
       "      <td>0.213296</td>\n",
       "      <td>0.043384</td>\n",
       "      <td>0.393374</td>\n",
       "      <td>1</td>\n",
       "    </tr>\n",
       "    <tr>\n",
       "      <th>2</th>\n",
       "      <td>0.924499</td>\n",
       "      <td>0.823438</td>\n",
       "      <td>0.888742</td>\n",
       "      <td>0.859758</td>\n",
       "      <td>0.751802</td>\n",
       "      <td>0.823892</td>\n",
       "      <td>0.720392</td>\n",
       "      <td>0.596965</td>\n",
       "      <td>0.686847</td>\n",
       "      <td>0.627529</td>\n",
       "      <td>...</td>\n",
       "      <td>0.818816</td>\n",
       "      <td>0.706886</td>\n",
       "      <td>0.802431</td>\n",
       "      <td>0.905722</td>\n",
       "      <td>0.819580</td>\n",
       "      <td>0.896533</td>\n",
       "      <td>0.932602</td>\n",
       "      <td>0.859460</td>\n",
       "      <td>0.927718</td>\n",
       "      <td>0</td>\n",
       "    </tr>\n",
       "    <tr>\n",
       "      <th>3</th>\n",
       "      <td>0.676191</td>\n",
       "      <td>0.485906</td>\n",
       "      <td>0.786720</td>\n",
       "      <td>0.668681</td>\n",
       "      <td>0.483380</td>\n",
       "      <td>0.785095</td>\n",
       "      <td>0.628878</td>\n",
       "      <td>0.455545</td>\n",
       "      <td>0.758353</td>\n",
       "      <td>0.466845</td>\n",
       "      <td>...</td>\n",
       "      <td>0.794722</td>\n",
       "      <td>0.640447</td>\n",
       "      <td>0.895137</td>\n",
       "      <td>0.776897</td>\n",
       "      <td>0.648930</td>\n",
       "      <td>0.908449</td>\n",
       "      <td>0.766707</td>\n",
       "      <td>0.649128</td>\n",
       "      <td>0.911040</td>\n",
       "      <td>1</td>\n",
       "    </tr>\n",
       "    <tr>\n",
       "      <th>4</th>\n",
       "      <td>0.878336</td>\n",
       "      <td>0.662141</td>\n",
       "      <td>0.774003</td>\n",
       "      <td>0.897464</td>\n",
       "      <td>0.679380</td>\n",
       "      <td>0.791638</td>\n",
       "      <td>0.927718</td>\n",
       "      <td>0.703459</td>\n",
       "      <td>0.816549</td>\n",
       "      <td>0.885252</td>\n",
       "      <td>...</td>\n",
       "      <td>0.857937</td>\n",
       "      <td>0.628078</td>\n",
       "      <td>0.759608</td>\n",
       "      <td>0.768701</td>\n",
       "      <td>0.527054</td>\n",
       "      <td>0.658595</td>\n",
       "      <td>0.712943</td>\n",
       "      <td>0.466904</td>\n",
       "      <td>0.598246</td>\n",
       "      <td>0</td>\n",
       "    </tr>\n",
       "  </tbody>\n",
       "</table>\n",
       "<p>5 rows × 67501 columns</p>\n",
       "</div>"
      ],
      "text/plain": [
       "          0         1         2         3         4         5         6  \\\n",
       "0  0.594289  0.418651  0.547682  0.577840  0.402400  0.530838  0.553420   \n",
       "1  0.567867  0.371915  0.723053  0.577420  0.380568  0.734999  0.572243   \n",
       "2  0.924499  0.823438  0.888742  0.859758  0.751802  0.823892  0.720392   \n",
       "3  0.676191  0.485906  0.786720  0.668681  0.483380  0.785095  0.628878   \n",
       "4  0.878336  0.662141  0.774003  0.897464  0.679380  0.791638  0.927718   \n",
       "\n",
       "          7         8         9  ...     67491     67492     67493     67494  \\\n",
       "0  0.378361  0.504871  0.600152  ...  0.843600  0.679004  0.782675  0.705652   \n",
       "1  0.374118  0.736792  0.421203  ...  0.294588  0.112824  0.461310  0.232270   \n",
       "2  0.596965  0.686847  0.627529  ...  0.818816  0.706886  0.802431  0.905722   \n",
       "3  0.455545  0.758353  0.466845  ...  0.794722  0.640447  0.895137  0.776897   \n",
       "4  0.703459  0.816549  0.885252  ...  0.857937  0.628078  0.759608  0.768701   \n",
       "\n",
       "      67495     67496     67497     67498     67499  Target  \n",
       "0  0.540384  0.633293  0.623057  0.457702  0.545713       1  \n",
       "1  0.059261  0.409054  0.213296  0.043384  0.393374       1  \n",
       "2  0.819580  0.896533  0.932602  0.859460  0.927718       0  \n",
       "3  0.648930  0.908449  0.766707  0.649128  0.911040       1  \n",
       "4  0.527054  0.658595  0.712943  0.466904  0.598246       0  \n",
       "\n",
       "[5 rows x 67501 columns]"
      ]
     },
     "execution_count": 18,
     "metadata": {},
     "output_type": "execute_result"
    }
   ],
   "source": [
    "dfn.head()"
   ]
  },
  {
   "cell_type": "code",
   "execution_count": 19,
   "metadata": {
    "execution": {
     "iopub.execute_input": "2022-03-11T11:49:56.770797Z",
     "iopub.status.busy": "2022-03-11T11:49:56.770543Z",
     "iopub.status.idle": "2022-03-11T11:49:56.897295Z",
     "shell.execute_reply": "2022-03-11T11:49:56.896254Z",
     "shell.execute_reply.started": "2022-03-11T11:49:56.770764Z"
    }
   },
   "outputs": [],
   "source": [
    "x = dfn.iloc[:,:-1] #input data \n",
    "y = dfn.iloc[:,-1] #output data"
   ]
  },
  {
   "cell_type": "code",
   "execution_count": 20,
   "metadata": {
    "execution": {
     "iopub.execute_input": "2022-03-11T11:49:56.899330Z",
     "iopub.status.busy": "2022-03-11T11:49:56.898899Z",
     "iopub.status.idle": "2022-03-11T11:49:56.915090Z",
     "shell.execute_reply": "2022-03-11T11:49:56.914265Z",
     "shell.execute_reply.started": "2022-03-11T11:49:56.899292Z"
    }
   },
   "outputs": [
    {
     "data": {
      "text/plain": [
       "0      1\n",
       "1      1\n",
       "2      0\n",
       "3      1\n",
       "4      0\n",
       "      ..\n",
       "495    0\n",
       "496    1\n",
       "497    1\n",
       "498    0\n",
       "499    0\n",
       "Name: Target, Length: 500, dtype: int64"
      ]
     },
     "execution_count": 20,
     "metadata": {},
     "output_type": "execute_result"
    }
   ],
   "source": [
    "y"
   ]
  },
  {
   "cell_type": "code",
   "execution_count": 21,
   "metadata": {
    "execution": {
     "iopub.execute_input": "2022-03-11T11:49:56.917779Z",
     "iopub.status.busy": "2022-03-11T11:49:56.916584Z",
     "iopub.status.idle": "2022-03-11T11:49:57.070201Z",
     "shell.execute_reply": "2022-03-11T11:49:57.069170Z",
     "shell.execute_reply.started": "2022-03-11T11:49:56.917729Z"
    }
   },
   "outputs": [],
   "source": [
    "from sklearn.model_selection import train_test_split\n",
    "x_train,x_test,y_train,y_test = train_test_split(x, y, test_size = 0.20, random_state = 42)"
   ]
  },
  {
   "cell_type": "code",
   "execution_count": 22,
   "metadata": {
    "execution": {
     "iopub.execute_input": "2022-03-11T11:49:57.072525Z",
     "iopub.status.busy": "2022-03-11T11:49:57.071686Z",
     "iopub.status.idle": "2022-03-11T11:49:57.079775Z",
     "shell.execute_reply": "2022-03-11T11:49:57.078329Z",
     "shell.execute_reply.started": "2022-03-11T11:49:57.072464Z"
    }
   },
   "outputs": [],
   "source": [
    "# non-linear svm\n",
    "svm = cv2.ml.SVM_create()\n",
    "svm.setType(cv2.ml.SVM_C_SVC)\n",
    "svm.setC(0.1) # non-linearity\n",
    "svm.setKernel(cv2.ml.SVM_LINEAR)\n",
    "svm.setTermCriteria((cv2.TERM_CRITERIA_MAX_ITER, int(1e7), 1e-6))"
   ]
  },
  {
   "cell_type": "code",
   "execution_count": 23,
   "metadata": {
    "execution": {
     "iopub.execute_input": "2022-03-11T11:49:57.081840Z",
     "iopub.status.busy": "2022-03-11T11:49:57.081490Z",
     "iopub.status.idle": "2022-03-11T11:50:16.029686Z",
     "shell.execute_reply": "2022-03-11T11:50:16.028721Z",
     "shell.execute_reply.started": "2022-03-11T11:49:57.081794Z"
    }
   },
   "outputs": [
    {
     "data": {
      "text/plain": [
       "True"
      ]
     },
     "execution_count": 23,
     "metadata": {},
     "output_type": "execute_result"
    }
   ],
   "source": [
    "svm.train(np.asarray(x_train, np.float32), cv2.ml.ROW_SAMPLE, np.array(y_train))"
   ]
  },
  {
   "cell_type": "code",
   "execution_count": 24,
   "metadata": {
    "execution": {
     "iopub.execute_input": "2022-03-11T11:50:16.031140Z",
     "iopub.status.busy": "2022-03-11T11:50:16.030892Z",
     "iopub.status.idle": "2022-03-11T11:50:16.082824Z",
     "shell.execute_reply": "2022-03-11T11:50:16.082146Z",
     "shell.execute_reply.started": "2022-03-11T11:50:16.031112Z"
    }
   },
   "outputs": [
    {
     "data": {
      "text/plain": [
       "array([0.95143527, 0.9234918 , 0.9208439 , ..., 0.5318196 , 0.27285805,\n",
       "       0.43011293], dtype=float32)"
      ]
     },
     "execution_count": 24,
     "metadata": {},
     "output_type": "execute_result"
    }
   ],
   "source": [
    "np.asarray(x_train, np.float32)[0]"
   ]
  },
  {
   "cell_type": "code",
   "execution_count": 26,
   "metadata": {
    "execution": {
     "iopub.execute_input": "2022-03-11T11:54:15.041035Z",
     "iopub.status.busy": "2022-03-11T11:54:15.040713Z",
     "iopub.status.idle": "2022-03-11T11:54:15.056887Z",
     "shell.execute_reply": "2022-03-11T11:54:15.055814Z",
     "shell.execute_reply.started": "2022-03-11T11:54:15.040980Z"
    }
   },
   "outputs": [],
   "source": [
    "response = svm.predict(np.asarray(x_test, np.float32))[1]"
   ]
  },
  {
   "cell_type": "code",
   "execution_count": 28,
   "metadata": {
    "execution": {
     "iopub.execute_input": "2022-03-11T11:54:55.500889Z",
     "iopub.status.busy": "2022-03-11T11:54:55.500583Z",
     "iopub.status.idle": "2022-03-11T11:54:55.554612Z",
     "shell.execute_reply": "2022-03-11T11:54:55.553595Z",
     "shell.execute_reply.started": "2022-03-11T11:54:55.500859Z"
    }
   },
   "outputs": [
    {
     "name": "stdout",
     "output_type": "stream",
     "text": [
      "[[0.95143527 0.9234918  0.9208439  ... 0.5318196  0.27285805 0.43011293]\n",
      " [0.32147607 0.18789648 0.5740141  ... 0.8647984  0.8583671  0.86415213]\n",
      " [0.77425885 0.6029945  0.6559655  ... 0.55772394 0.30962667 0.44905883]\n",
      " ...\n",
      " [0.94348234 0.9055514  0.90947294 ... 0.96483296 0.8496957  0.92794037]\n",
      " [0.8205647  0.6489475  0.71631217 ... 0.20521411 0.08011608 0.20347765]\n",
      " [0.34961882 0.13027608 0.28900236 ... 0.3159498  0.15510589 0.26200783]]\n"
     ]
    }
   ],
   "source": [
    "sv = svm.getUncompressedSupportVectors() # the support vectors\n",
    "print(sv)"
   ]
  },
  {
   "cell_type": "code",
   "execution_count": 29,
   "metadata": {
    "execution": {
     "iopub.execute_input": "2022-03-11T11:55:12.034304Z",
     "iopub.status.busy": "2022-03-11T11:55:12.033984Z",
     "iopub.status.idle": "2022-03-11T11:55:12.041206Z",
     "shell.execute_reply": "2022-03-11T11:55:12.040456Z",
     "shell.execute_reply.started": "2022-03-11T11:55:12.034272Z"
    }
   },
   "outputs": [
    {
     "name": "stdout",
     "output_type": "stream",
     "text": [
      "Accuracy score 0.7\n"
     ]
    }
   ],
   "source": [
    "# performance metrics\n",
    "from sklearn.metrics import accuracy_score\n",
    "print(\"Accuracy score\", accuracy_score(y_test, [x[0] for x in response]))"
   ]
  },
  {
   "cell_type": "code",
   "execution_count": 30,
   "metadata": {
    "execution": {
     "iopub.execute_input": "2022-03-11T11:55:17.982199Z",
     "iopub.status.busy": "2022-03-11T11:55:17.981515Z",
     "iopub.status.idle": "2022-03-11T11:55:17.991061Z",
     "shell.execute_reply": "2022-03-11T11:55:17.990385Z",
     "shell.execute_reply.started": "2022-03-11T11:55:17.982162Z"
    }
   },
   "outputs": [
    {
     "name": "stdout",
     "output_type": "stream",
     "text": [
      "Confusion matrix\n",
      " [[47 17]\n",
      " [13 23]]\n"
     ]
    }
   ],
   "source": [
    "from sklearn.metrics import confusion_matrix\n",
    "print(\"Confusion matrix\\n\", confusion_matrix(y_test, [x[0] for x in response]))"
   ]
  },
  {
   "cell_type": "code",
   "execution_count": 31,
   "metadata": {
    "execution": {
     "iopub.execute_input": "2022-03-11T11:55:28.565342Z",
     "iopub.status.busy": "2022-03-11T11:55:28.564639Z",
     "iopub.status.idle": "2022-03-11T11:55:28.576470Z",
     "shell.execute_reply": "2022-03-11T11:55:28.575720Z",
     "shell.execute_reply.started": "2022-03-11T11:55:28.565305Z"
    }
   },
   "outputs": [
    {
     "name": "stdout",
     "output_type": "stream",
     "text": [
      "              precision    recall  f1-score   support\n",
      "\n",
      "           0       0.78      0.73      0.76        64\n",
      "           1       0.57      0.64      0.61        36\n",
      "\n",
      "    accuracy                           0.70       100\n",
      "   macro avg       0.68      0.69      0.68       100\n",
      "weighted avg       0.71      0.70      0.70       100\n",
      "\n"
     ]
    }
   ],
   "source": [
    "from sklearn.metrics import classification_report\n",
    "print(classification_report(y_test,[x[0] for x in response]))"
   ]
  },
  {
   "cell_type": "markdown",
   "metadata": {},
   "source": [
    "#### Observation\n",
    "1. Here an accuracy of 70% is observed when we take 500 sample of images from the 0.2M samples, due to RAM constraints. We have flattened out the 2D image array to 1D and fed them as features to the SVM. The value of C which controls the margin size is relatively large, to prevent more misclassification errors. The number of iterations is reduced from 1e7 to 1e6 as it takes longer processing time with the RAM getting exhausted.\n",
    "2. The classifier has relatively lower values of precision and recall for class 1 which indicates the presence of tumor cells, which could be owing to the lower support of the class than class 0."
   ]
  },
  {
   "cell_type": "markdown",
   "metadata": {},
   "source": [
    "References\n",
    "1. https://medium.com/analytics-vidhya/image-classification-using-machine-learning-support-vector-machine-svm-dc7a0ec92e01\n",
    "2. https://docs.opencv.org/4.x/d0/dcc/tutorial_non_linear_svms.html"
   ]
  }
 ],
 "metadata": {
  "kernelspec": {
   "display_name": "Python 3 (ipykernel)",
   "language": "python",
   "name": "python3"
  },
  "language_info": {
   "codemirror_mode": {
    "name": "ipython",
    "version": 3
   },
   "file_extension": ".py",
   "mimetype": "text/x-python",
   "name": "python",
   "nbconvert_exporter": "python",
   "pygments_lexer": "ipython3",
   "version": "3.8.10"
  }
 },
 "nbformat": 4,
 "nbformat_minor": 4
}
