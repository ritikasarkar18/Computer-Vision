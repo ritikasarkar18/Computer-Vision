{
 "cells": [
  {
   "cell_type": "markdown",
   "metadata": {},
   "source": [
    "<pre>\n",
    "Name: Ritika Sarkar\n",
    "Reg. No.: 19BAI1031\n",
    "</pre>"
   ]
  },
  {
   "attachments": {},
   "cell_type": "markdown",
   "metadata": {},
   "source": [
    "### Image Classification & Machine learning based Medical Image Classification"
   ]
  },
  {
   "cell_type": "markdown",
   "metadata": {},
   "source": [
    "Dataset - [Histopathologic Cancer Detection](https://www.kaggle.com/c/histopathologic-cancer-detection)"
   ]
  },
  {
   "cell_type": "markdown",
   "metadata": {},
   "source": [
    "#### Machine Learning"
   ]
  },
  {
   "cell_type": "code",
   "execution_count": 64,
   "metadata": {
    "_cell_guid": "b1076dfc-b9ad-4769-8c92-a6c4dae69d19",
    "_uuid": "8f2839f25d086af736a60e9eeb907d3b93b6e0e5",
    "execution": {
     "iopub.execute_input": "2022-03-21T05:40:23.217117Z",
     "iopub.status.busy": "2022-03-21T05:40:23.216827Z",
     "iopub.status.idle": "2022-03-21T05:40:23.222156Z",
     "shell.execute_reply": "2022-03-21T05:40:23.221330Z",
     "shell.execute_reply.started": "2022-03-21T05:40:23.217086Z"
    }
   },
   "outputs": [],
   "source": [
    "# This Python 3 environment comes with many helpful analytics libraries installed\n",
    "# It is defined by the kaggle/python Docker image: https://github.com/kaggle/docker-python\n",
    "# For example, here's several helpful packages to load\n",
    "\n",
    "import numpy as np # linear algebra\n",
    "import pandas as pd # data processing, CSV file I/O (e.g. pd.read_csv)\n",
    "\n",
    "# Input data files are available in the read-only \"../input/\" directory\n",
    "# For example, running this (by clicking run or pressing Shift+Enter) will list all files under the input directory\n",
    "\n",
    "import os\n",
    "# for dirname, _, filenames in os.walk('/kaggle/input'):\n",
    "#     for filename in filenames:\n",
    "#         print(os.path.join(dirname, filename))\n"
   ]
  },
  {
   "cell_type": "code",
   "execution_count": 65,
   "metadata": {
    "execution": {
     "iopub.execute_input": "2022-03-21T05:40:23.224010Z",
     "iopub.status.busy": "2022-03-21T05:40:23.223654Z",
     "iopub.status.idle": "2022-03-21T05:40:23.240295Z",
     "shell.execute_reply": "2022-03-21T05:40:23.239697Z",
     "shell.execute_reply.started": "2022-03-21T05:40:23.223970Z"
    }
   },
   "outputs": [],
   "source": [
    "import cv2\n",
    "import matplotlib.pyplot as plt\n",
    "import numpy as np\n",
    "import random\n",
    "# from google.colab.patches import cv2_imshow\n",
    "import pandas as pd \n",
    "import os\n",
    "from skimage.transform import resize\n",
    "from skimage.io import imread"
   ]
  },
  {
   "cell_type": "code",
   "execution_count": 66,
   "metadata": {
    "execution": {
     "iopub.execute_input": "2022-03-21T05:40:23.242313Z",
     "iopub.status.busy": "2022-03-21T05:40:23.241863Z",
     "iopub.status.idle": "2022-03-21T05:40:23.257138Z",
     "shell.execute_reply": "2022-03-21T05:40:23.256460Z",
     "shell.execute_reply.started": "2022-03-21T05:40:23.242281Z"
    }
   },
   "outputs": [],
   "source": [
    "from sklearn.linear_model import LogisticRegression\n",
    "from sklearn.naive_bayes import GaussianNB\n",
    "from sklearn.neighbors import KNeighborsClassifier\n",
    "from sklearn.ensemble import RandomForestClassifier"
   ]
  },
  {
   "cell_type": "code",
   "execution_count": 67,
   "metadata": {
    "execution": {
     "iopub.execute_input": "2022-03-21T05:40:23.259209Z",
     "iopub.status.busy": "2022-03-21T05:40:23.258747Z",
     "iopub.status.idle": "2022-03-21T05:40:23.269559Z",
     "shell.execute_reply": "2022-03-21T05:40:23.268642Z",
     "shell.execute_reply.started": "2022-03-21T05:40:23.259178Z"
    }
   },
   "outputs": [],
   "source": [
    "from sklearn.metrics import accuracy_score,confusion_matrix, classification_report, roc_curve, auc"
   ]
  },
  {
   "cell_type": "code",
   "execution_count": 68,
   "metadata": {
    "execution": {
     "iopub.execute_input": "2022-03-21T05:40:23.271968Z",
     "iopub.status.busy": "2022-03-21T05:40:23.271714Z",
     "iopub.status.idle": "2022-03-21T05:40:23.501240Z",
     "shell.execute_reply": "2022-03-21T05:40:23.500256Z",
     "shell.execute_reply.started": "2022-03-21T05:40:23.271935Z"
    }
   },
   "outputs": [],
   "source": [
    "df = pd.read_csv('../input/histopathologic-cancer-detection/train_labels.csv')"
   ]
  },
  {
   "cell_type": "code",
   "execution_count": 69,
   "metadata": {
    "execution": {
     "iopub.execute_input": "2022-03-21T05:40:23.502664Z",
     "iopub.status.busy": "2022-03-21T05:40:23.502419Z",
     "iopub.status.idle": "2022-03-21T05:40:23.515094Z",
     "shell.execute_reply": "2022-03-21T05:40:23.513845Z",
     "shell.execute_reply.started": "2022-03-21T05:40:23.502622Z"
    }
   },
   "outputs": [
    {
     "data": {
      "text/html": [
       "<div>\n",
       "<style scoped>\n",
       "    .dataframe tbody tr th:only-of-type {\n",
       "        vertical-align: middle;\n",
       "    }\n",
       "\n",
       "    .dataframe tbody tr th {\n",
       "        vertical-align: top;\n",
       "    }\n",
       "\n",
       "    .dataframe thead th {\n",
       "        text-align: right;\n",
       "    }\n",
       "</style>\n",
       "<table border=\"1\" class=\"dataframe\">\n",
       "  <thead>\n",
       "    <tr style=\"text-align: right;\">\n",
       "      <th></th>\n",
       "      <th>id</th>\n",
       "      <th>label</th>\n",
       "    </tr>\n",
       "  </thead>\n",
       "  <tbody>\n",
       "    <tr>\n",
       "      <th>0</th>\n",
       "      <td>f38a6374c348f90b587e046aac6079959adf3835</td>\n",
       "      <td>0</td>\n",
       "    </tr>\n",
       "    <tr>\n",
       "      <th>1</th>\n",
       "      <td>c18f2d887b7ae4f6742ee445113fa1aef383ed77</td>\n",
       "      <td>1</td>\n",
       "    </tr>\n",
       "    <tr>\n",
       "      <th>2</th>\n",
       "      <td>755db6279dae599ebb4d39a9123cce439965282d</td>\n",
       "      <td>0</td>\n",
       "    </tr>\n",
       "    <tr>\n",
       "      <th>3</th>\n",
       "      <td>bc3f0c64fb968ff4a8bd33af6971ecae77c75e08</td>\n",
       "      <td>0</td>\n",
       "    </tr>\n",
       "    <tr>\n",
       "      <th>4</th>\n",
       "      <td>068aba587a4950175d04c680d38943fd488d6a9d</td>\n",
       "      <td>0</td>\n",
       "    </tr>\n",
       "  </tbody>\n",
       "</table>\n",
       "</div>"
      ],
      "text/plain": [
       "                                         id  label\n",
       "0  f38a6374c348f90b587e046aac6079959adf3835      0\n",
       "1  c18f2d887b7ae4f6742ee445113fa1aef383ed77      1\n",
       "2  755db6279dae599ebb4d39a9123cce439965282d      0\n",
       "3  bc3f0c64fb968ff4a8bd33af6971ecae77c75e08      0\n",
       "4  068aba587a4950175d04c680d38943fd488d6a9d      0"
      ]
     },
     "execution_count": 69,
     "metadata": {},
     "output_type": "execute_result"
    }
   ],
   "source": [
    "df.head()"
   ]
  },
  {
   "cell_type": "code",
   "execution_count": 70,
   "metadata": {
    "execution": {
     "iopub.execute_input": "2022-03-21T05:40:23.517822Z",
     "iopub.status.busy": "2022-03-21T05:40:23.517148Z",
     "iopub.status.idle": "2022-03-21T05:40:23.528362Z",
     "shell.execute_reply": "2022-03-21T05:40:23.527571Z",
     "shell.execute_reply.started": "2022-03-21T05:40:23.517744Z"
    }
   },
   "outputs": [],
   "source": [
    "image = plt.imread('../input/histopathologic-cancer-detection/train/'+df['id'][1]+'.tif')"
   ]
  },
  {
   "cell_type": "code",
   "execution_count": 71,
   "metadata": {
    "execution": {
     "iopub.execute_input": "2022-03-21T05:40:23.531337Z",
     "iopub.status.busy": "2022-03-21T05:40:23.530520Z",
     "iopub.status.idle": "2022-03-21T05:40:23.766453Z",
     "shell.execute_reply": "2022-03-21T05:40:23.765387Z",
     "shell.execute_reply.started": "2022-03-21T05:40:23.531287Z"
    }
   },
   "outputs": [
    {
     "data": {
      "text/plain": [
       "<matplotlib.image.AxesImage at 0x7fb62f9e6890>"
      ]
     },
     "execution_count": 71,
     "metadata": {},
     "output_type": "execute_result"
    },
    {
     "data": {
      "image/png": "[encoded data removed]",
      "text/plain": [
       "<Figure size 432x288 with 1 Axes>"
      ]
     },
     "metadata": {
      "needs_background": "light"
     },
     "output_type": "display_data"
    }
   ],
   "source": [
    "plt.imshow(image)"
   ]
  },
  {
   "cell_type": "code",
   "execution_count": 72,
   "metadata": {
    "execution": {
     "iopub.execute_input": "2022-03-21T05:40:23.768226Z",
     "iopub.status.busy": "2022-03-21T05:40:23.767980Z",
     "iopub.status.idle": "2022-03-21T05:40:23.776472Z",
     "shell.execute_reply": "2022-03-21T05:40:23.775359Z",
     "shell.execute_reply.started": "2022-03-21T05:40:23.768198Z"
    }
   },
   "outputs": [
    {
     "data": {
      "text/plain": [
       "220025"
      ]
     },
     "execution_count": 72,
     "metadata": {},
     "output_type": "execute_result"
    }
   ],
   "source": [
    "df.shape[0]"
   ]
  },
  {
   "cell_type": "code",
   "execution_count": 73,
   "metadata": {
    "execution": {
     "iopub.execute_input": "2022-03-21T05:40:23.778516Z",
     "iopub.status.busy": "2022-03-21T05:40:23.778242Z",
     "iopub.status.idle": "2022-03-21T05:40:23.793922Z",
     "shell.execute_reply": "2022-03-21T05:40:23.792710Z",
     "shell.execute_reply.started": "2022-03-21T05:40:23.778488Z"
    }
   },
   "outputs": [],
   "source": [
    "# taking a subset of the dataset due to memory error\n",
    "dfnew = df.sample(n=500) # 500 samples"
   ]
  },
  {
   "cell_type": "code",
   "execution_count": 74,
   "metadata": {
    "execution": {
     "iopub.execute_input": "2022-03-21T05:40:23.797732Z",
     "iopub.status.busy": "2022-03-21T05:40:23.797173Z",
     "iopub.status.idle": "2022-03-21T05:40:23.807874Z",
     "shell.execute_reply": "2022-03-21T05:40:23.806842Z",
     "shell.execute_reply.started": "2022-03-21T05:40:23.797686Z"
    }
   },
   "outputs": [
    {
     "data": {
      "text/plain": [
       "0    317\n",
       "1    183\n",
       "Name: label, dtype: int64"
      ]
     },
     "execution_count": 74,
     "metadata": {},
     "output_type": "execute_result"
    }
   ],
   "source": [
    "dfnew['label'].value_counts() # class imbalance"
   ]
  },
  {
   "cell_type": "code",
   "execution_count": 75,
   "metadata": {
    "execution": {
     "iopub.execute_input": "2022-03-21T05:40:23.810245Z",
     "iopub.status.busy": "2022-03-21T05:40:23.809262Z",
     "iopub.status.idle": "2022-03-21T05:40:23.818182Z",
     "shell.execute_reply": "2022-03-21T05:40:23.817595Z",
     "shell.execute_reply.started": "2022-03-21T05:40:23.810198Z"
    }
   },
   "outputs": [],
   "source": [
    "dfnew.reset_index(drop = True, inplace = True)"
   ]
  },
  {
   "cell_type": "code",
   "execution_count": 76,
   "metadata": {
    "execution": {
     "iopub.execute_input": "2022-03-21T05:40:23.820439Z",
     "iopub.status.busy": "2022-03-21T05:40:23.819375Z",
     "iopub.status.idle": "2022-03-21T05:40:23.837381Z",
     "shell.execute_reply": "2022-03-21T05:40:23.836536Z",
     "shell.execute_reply.started": "2022-03-21T05:40:23.820395Z"
    }
   },
   "outputs": [
    {
     "data": {
      "text/html": [
       "<div>\n",
       "<style scoped>\n",
       "    .dataframe tbody tr th:only-of-type {\n",
       "        vertical-align: middle;\n",
       "    }\n",
       "\n",
       "    .dataframe tbody tr th {\n",
       "        vertical-align: top;\n",
       "    }\n",
       "\n",
       "    .dataframe thead th {\n",
       "        text-align: right;\n",
       "    }\n",
       "</style>\n",
       "<table border=\"1\" class=\"dataframe\">\n",
       "  <thead>\n",
       "    <tr style=\"text-align: right;\">\n",
       "      <th></th>\n",
       "      <th>id</th>\n",
       "      <th>label</th>\n",
       "    </tr>\n",
       "  </thead>\n",
       "  <tbody>\n",
       "    <tr>\n",
       "      <th>0</th>\n",
       "      <td>f50f3f059556758d70ff55d9133e2a1e9768bd65</td>\n",
       "      <td>0</td>\n",
       "    </tr>\n",
       "    <tr>\n",
       "      <th>1</th>\n",
       "      <td>9490666c6b96e7375a74137a046a0d21e7d2e35a</td>\n",
       "      <td>0</td>\n",
       "    </tr>\n",
       "    <tr>\n",
       "      <th>2</th>\n",
       "      <td>972e2b3c169a3dcbfbc5670605290f9a99363c04</td>\n",
       "      <td>0</td>\n",
       "    </tr>\n",
       "    <tr>\n",
       "      <th>3</th>\n",
       "      <td>511c4fc8c8dfc5ce2fe2338b649cfb0c1fa60660</td>\n",
       "      <td>0</td>\n",
       "    </tr>\n",
       "    <tr>\n",
       "      <th>4</th>\n",
       "      <td>fee1e36717b0b61e82d484f104fadd72491f9bb5</td>\n",
       "      <td>0</td>\n",
       "    </tr>\n",
       "  </tbody>\n",
       "</table>\n",
       "</div>"
      ],
      "text/plain": [
       "                                         id  label\n",
       "0  f50f3f059556758d70ff55d9133e2a1e9768bd65      0\n",
       "1  9490666c6b96e7375a74137a046a0d21e7d2e35a      0\n",
       "2  972e2b3c169a3dcbfbc5670605290f9a99363c04      0\n",
       "3  511c4fc8c8dfc5ce2fe2338b649cfb0c1fa60660      0\n",
       "4  fee1e36717b0b61e82d484f104fadd72491f9bb5      0"
      ]
     },
     "execution_count": 76,
     "metadata": {},
     "output_type": "execute_result"
    }
   ],
   "source": [
    "dfnew.head()"
   ]
  },
  {
   "cell_type": "code",
   "execution_count": 77,
   "metadata": {
    "execution": {
     "iopub.execute_input": "2022-03-21T05:40:23.839455Z",
     "iopub.status.busy": "2022-03-21T05:40:23.838722Z",
     "iopub.status.idle": "2022-03-21T05:40:28.343404Z",
     "shell.execute_reply": "2022-03-21T05:40:28.342779Z",
     "shell.execute_reply.started": "2022-03-21T05:40:23.839417Z"
    }
   },
   "outputs": [],
   "source": [
    "flat_data_arr = [] #input array\n",
    "target_arr = [] #output array\n",
    "datadir = '../input/histopathologic-cancer-detection/train/'\n",
    "\n",
    "#path which contains all the categories of images\n",
    "for i in range(dfnew.shape[0]):\n",
    "    img = dfnew['id'][i] + '.tif'\n",
    "    img_array = imread(os.path.join(datadir,img))\n",
    "#     grayimg = cv2.cvtColor(img_array, cv2.COLOR_BGR2GRAY)\n",
    "    img_resized = resize(img_array,(96,96,3)) # flattening the image, pixels serve as features\n",
    "    flat_data_arr.append(img_resized.flatten())\n",
    "    target_arr.append(dfnew['label'][i])"
   ]
  },
  {
   "cell_type": "code",
   "execution_count": 78,
   "metadata": {
    "execution": {
     "iopub.execute_input": "2022-03-21T05:40:28.345342Z",
     "iopub.status.busy": "2022-03-21T05:40:28.344882Z",
     "iopub.status.idle": "2022-03-21T05:40:28.402297Z",
     "shell.execute_reply": "2022-03-21T05:40:28.401690Z",
     "shell.execute_reply.started": "2022-03-21T05:40:28.345299Z"
    }
   },
   "outputs": [],
   "source": [
    "flat_data = np.array(flat_data_arr)\n",
    "target = np.array(target_arr)\n",
    "dfn = pd.DataFrame(flat_data) #dataframe\n",
    "dfn['Target'] = target"
   ]
  },
  {
   "cell_type": "code",
   "execution_count": 79,
   "metadata": {
    "execution": {
     "iopub.execute_input": "2022-03-21T05:40:28.403834Z",
     "iopub.status.busy": "2022-03-21T05:40:28.403442Z",
     "iopub.status.idle": "2022-03-21T05:40:28.430431Z",
     "shell.execute_reply": "2022-03-21T05:40:28.429873Z",
     "shell.execute_reply.started": "2022-03-21T05:40:28.403791Z"
    }
   },
   "outputs": [
    {
     "data": {
      "text/html": [
       "<div>\n",
       "<style scoped>\n",
       "    .dataframe tbody tr th:only-of-type {\n",
       "        vertical-align: middle;\n",
       "    }\n",
       "\n",
       "    .dataframe tbody tr th {\n",
       "        vertical-align: top;\n",
       "    }\n",
       "\n",
       "    .dataframe thead th {\n",
       "        text-align: right;\n",
       "    }\n",
       "</style>\n",
       "<table border=\"1\" class=\"dataframe\">\n",
       "  <thead>\n",
       "    <tr style=\"text-align: right;\">\n",
       "      <th></th>\n",
       "      <th>0</th>\n",
       "      <th>1</th>\n",
       "      <th>2</th>\n",
       "      <th>3</th>\n",
       "      <th>4</th>\n",
       "      <th>5</th>\n",
       "      <th>6</th>\n",
       "      <th>7</th>\n",
       "      <th>8</th>\n",
       "      <th>9</th>\n",
       "      <th>...</th>\n",
       "      <th>27639</th>\n",
       "      <th>27640</th>\n",
       "      <th>27641</th>\n",
       "      <th>27642</th>\n",
       "      <th>27643</th>\n",
       "      <th>27644</th>\n",
       "      <th>27645</th>\n",
       "      <th>27646</th>\n",
       "      <th>27647</th>\n",
       "      <th>Target</th>\n",
       "    </tr>\n",
       "  </thead>\n",
       "  <tbody>\n",
       "    <tr>\n",
       "      <th>0</th>\n",
       "      <td>0.866667</td>\n",
       "      <td>0.843137</td>\n",
       "      <td>0.858824</td>\n",
       "      <td>0.945098</td>\n",
       "      <td>0.905882</td>\n",
       "      <td>0.937255</td>\n",
       "      <td>0.909804</td>\n",
       "      <td>0.858824</td>\n",
       "      <td>0.898039</td>\n",
       "      <td>0.968627</td>\n",
       "      <td>...</td>\n",
       "      <td>0.996078</td>\n",
       "      <td>0.960784</td>\n",
       "      <td>0.964706</td>\n",
       "      <td>1.000000</td>\n",
       "      <td>0.945098</td>\n",
       "      <td>0.956863</td>\n",
       "      <td>1.000000</td>\n",
       "      <td>0.956863</td>\n",
       "      <td>0.964706</td>\n",
       "      <td>0</td>\n",
       "    </tr>\n",
       "    <tr>\n",
       "      <th>1</th>\n",
       "      <td>0.949020</td>\n",
       "      <td>0.956863</td>\n",
       "      <td>0.945098</td>\n",
       "      <td>0.960784</td>\n",
       "      <td>0.960784</td>\n",
       "      <td>0.952941</td>\n",
       "      <td>0.960784</td>\n",
       "      <td>0.960784</td>\n",
       "      <td>0.952941</td>\n",
       "      <td>0.956863</td>\n",
       "      <td>...</td>\n",
       "      <td>0.874510</td>\n",
       "      <td>0.670588</td>\n",
       "      <td>0.756863</td>\n",
       "      <td>0.945098</td>\n",
       "      <td>0.733333</td>\n",
       "      <td>0.827451</td>\n",
       "      <td>0.976471</td>\n",
       "      <td>0.756863</td>\n",
       "      <td>0.862745</td>\n",
       "      <td>0</td>\n",
       "    </tr>\n",
       "    <tr>\n",
       "      <th>2</th>\n",
       "      <td>0.717647</td>\n",
       "      <td>0.529412</td>\n",
       "      <td>0.615686</td>\n",
       "      <td>0.913725</td>\n",
       "      <td>0.741176</td>\n",
       "      <td>0.831373</td>\n",
       "      <td>0.984314</td>\n",
       "      <td>0.835294</td>\n",
       "      <td>0.917647</td>\n",
       "      <td>0.792157</td>\n",
       "      <td>...</td>\n",
       "      <td>0.839216</td>\n",
       "      <td>0.631373</td>\n",
       "      <td>0.709804</td>\n",
       "      <td>1.000000</td>\n",
       "      <td>0.835294</td>\n",
       "      <td>0.921569</td>\n",
       "      <td>0.866667</td>\n",
       "      <td>0.682353</td>\n",
       "      <td>0.760784</td>\n",
       "      <td>0</td>\n",
       "    </tr>\n",
       "    <tr>\n",
       "      <th>3</th>\n",
       "      <td>0.360784</td>\n",
       "      <td>0.117647</td>\n",
       "      <td>0.270588</td>\n",
       "      <td>0.776471</td>\n",
       "      <td>0.556863</td>\n",
       "      <td>0.670588</td>\n",
       "      <td>0.941176</td>\n",
       "      <td>0.752941</td>\n",
       "      <td>0.815686</td>\n",
       "      <td>0.560784</td>\n",
       "      <td>...</td>\n",
       "      <td>0.839216</td>\n",
       "      <td>0.670588</td>\n",
       "      <td>0.745098</td>\n",
       "      <td>0.839216</td>\n",
       "      <td>0.733333</td>\n",
       "      <td>0.768627</td>\n",
       "      <td>1.000000</td>\n",
       "      <td>0.964706</td>\n",
       "      <td>0.980392</td>\n",
       "      <td>0</td>\n",
       "    </tr>\n",
       "    <tr>\n",
       "      <th>4</th>\n",
       "      <td>0.372549</td>\n",
       "      <td>0.141176</td>\n",
       "      <td>0.368627</td>\n",
       "      <td>0.713725</td>\n",
       "      <td>0.498039</td>\n",
       "      <td>0.721569</td>\n",
       "      <td>0.529412</td>\n",
       "      <td>0.337255</td>\n",
       "      <td>0.552941</td>\n",
       "      <td>0.749020</td>\n",
       "      <td>...</td>\n",
       "      <td>0.800000</td>\n",
       "      <td>0.501961</td>\n",
       "      <td>0.694118</td>\n",
       "      <td>0.596078</td>\n",
       "      <td>0.317647</td>\n",
       "      <td>0.537255</td>\n",
       "      <td>0.396078</td>\n",
       "      <td>0.121569</td>\n",
       "      <td>0.356863</td>\n",
       "      <td>0</td>\n",
       "    </tr>\n",
       "  </tbody>\n",
       "</table>\n",
       "<p>5 rows × 27649 columns</p>\n",
       "</div>"
      ],
      "text/plain": [
       "          0         1         2         3         4         5         6  \\\n",
       "0  0.866667  0.843137  0.858824  0.945098  0.905882  0.937255  0.909804   \n",
       "1  0.949020  0.956863  0.945098  0.960784  0.960784  0.952941  0.960784   \n",
       "2  0.717647  0.529412  0.615686  0.913725  0.741176  0.831373  0.984314   \n",
       "3  0.360784  0.117647  0.270588  0.776471  0.556863  0.670588  0.941176   \n",
       "4  0.372549  0.141176  0.368627  0.713725  0.498039  0.721569  0.529412   \n",
       "\n",
       "          7         8         9  ...     27639     27640     27641     27642  \\\n",
       "0  0.858824  0.898039  0.968627  ...  0.996078  0.960784  0.964706  1.000000   \n",
       "1  0.960784  0.952941  0.956863  ...  0.874510  0.670588  0.756863  0.945098   \n",
       "2  0.835294  0.917647  0.792157  ...  0.839216  0.631373  0.709804  1.000000   \n",
       "3  0.752941  0.815686  0.560784  ...  0.839216  0.670588  0.745098  0.839216   \n",
       "4  0.337255  0.552941  0.749020  ...  0.800000  0.501961  0.694118  0.596078   \n",
       "\n",
       "      27643     27644     27645     27646     27647  Target  \n",
       "0  0.945098  0.956863  1.000000  0.956863  0.964706       0  \n",
       "1  0.733333  0.827451  0.976471  0.756863  0.862745       0  \n",
       "2  0.835294  0.921569  0.866667  0.682353  0.760784       0  \n",
       "3  0.733333  0.768627  1.000000  0.964706  0.980392       0  \n",
       "4  0.317647  0.537255  0.396078  0.121569  0.356863       0  \n",
       "\n",
       "[5 rows x 27649 columns]"
      ]
     },
     "execution_count": 79,
     "metadata": {},
     "output_type": "execute_result"
    }
   ],
   "source": [
    "dfn.head()"
   ]
  },
  {
   "cell_type": "code",
   "execution_count": 80,
   "metadata": {
    "execution": {
     "iopub.execute_input": "2022-03-21T05:40:28.431822Z",
     "iopub.status.busy": "2022-03-21T05:40:28.431559Z",
     "iopub.status.idle": "2022-03-21T05:40:28.495573Z",
     "shell.execute_reply": "2022-03-21T05:40:28.494945Z",
     "shell.execute_reply.started": "2022-03-21T05:40:28.431794Z"
    }
   },
   "outputs": [],
   "source": [
    "x = dfn.iloc[:,:-1] #input data \n",
    "y = dfn.iloc[:,-1] #output data"
   ]
  },
  {
   "cell_type": "code",
   "execution_count": 81,
   "metadata": {
    "execution": {
     "iopub.execute_input": "2022-03-21T05:40:28.496968Z",
     "iopub.status.busy": "2022-03-21T05:40:28.496595Z",
     "iopub.status.idle": "2022-03-21T05:40:28.504269Z",
     "shell.execute_reply": "2022-03-21T05:40:28.503692Z",
     "shell.execute_reply.started": "2022-03-21T05:40:28.496934Z"
    }
   },
   "outputs": [
    {
     "data": {
      "text/plain": [
       "0      0\n",
       "1      0\n",
       "2      0\n",
       "3      0\n",
       "4      0\n",
       "      ..\n",
       "495    0\n",
       "496    1\n",
       "497    1\n",
       "498    0\n",
       "499    0\n",
       "Name: Target, Length: 500, dtype: int64"
      ]
     },
     "execution_count": 81,
     "metadata": {},
     "output_type": "execute_result"
    }
   ],
   "source": [
    "y"
   ]
  },
  {
   "cell_type": "code",
   "execution_count": 82,
   "metadata": {
    "execution": {
     "iopub.execute_input": "2022-03-21T05:40:28.506235Z",
     "iopub.status.busy": "2022-03-21T05:40:28.505393Z",
     "iopub.status.idle": "2022-03-21T05:40:28.553060Z",
     "shell.execute_reply": "2022-03-21T05:40:28.552079Z",
     "shell.execute_reply.started": "2022-03-21T05:40:28.506189Z"
    }
   },
   "outputs": [],
   "source": [
    "from sklearn.model_selection import train_test_split\n",
    "x_train,x_test,y_train,y_test = train_test_split(x, y, test_size = 0.20, random_state = 42)"
   ]
  },
  {
   "cell_type": "code",
   "execution_count": 83,
   "metadata": {
    "execution": {
     "iopub.execute_input": "2022-03-21T05:40:28.555203Z",
     "iopub.status.busy": "2022-03-21T05:40:28.554480Z",
     "iopub.status.idle": "2022-03-21T05:40:28.559983Z",
     "shell.execute_reply": "2022-03-21T05:40:28.559378Z",
     "shell.execute_reply.started": "2022-03-21T05:40:28.555161Z"
    }
   },
   "outputs": [],
   "source": [
    "# metrics consolidated\n",
    "algos = ['LogReg', 'GaussNB','KNN','RF']\n",
    "acc = []\n",
    "auc_sc = []"
   ]
  },
  {
   "cell_type": "markdown",
   "metadata": {},
   "source": [
    "#### Logistic Regression"
   ]
  },
  {
   "cell_type": "code",
   "execution_count": 84,
   "metadata": {
    "execution": {
     "iopub.execute_input": "2022-03-21T05:40:28.561760Z",
     "iopub.status.busy": "2022-03-21T05:40:28.560878Z",
     "iopub.status.idle": "2022-03-21T05:41:05.771434Z",
     "shell.execute_reply": "2022-03-21T05:41:05.770508Z",
     "shell.execute_reply.started": "2022-03-21T05:40:28.561726Z"
    }
   },
   "outputs": [
    {
     "data": {
      "text/plain": [
       "LogisticRegression(dual=True, max_iter=5000, solver='liblinear')"
      ]
     },
     "execution_count": 84,
     "metadata": {},
     "output_type": "execute_result"
    }
   ],
   "source": [
    "logistic = LogisticRegression(solver='liblinear', dual=True, max_iter=5000) # dual = True as n_samples < n_features, max_iter to make the algorithm converge\n",
    "logistic.fit(x_train, y_train)"
   ]
  },
  {
   "cell_type": "code",
   "execution_count": 85,
   "metadata": {
    "execution": {
     "iopub.execute_input": "2022-03-21T05:41:05.773139Z",
     "iopub.status.busy": "2022-03-21T05:41:05.772808Z",
     "iopub.status.idle": "2022-03-21T05:41:06.032751Z",
     "shell.execute_reply": "2022-03-21T05:41:06.031688Z",
     "shell.execute_reply.started": "2022-03-21T05:41:05.773097Z"
    }
   },
   "outputs": [],
   "source": [
    "y_pred = logistic.predict(x_test)"
   ]
  },
  {
   "cell_type": "code",
   "execution_count": 86,
   "metadata": {
    "execution": {
     "iopub.execute_input": "2022-03-21T05:41:06.035528Z",
     "iopub.status.busy": "2022-03-21T05:41:06.034668Z",
     "iopub.status.idle": "2022-03-21T05:41:06.043460Z",
     "shell.execute_reply": "2022-03-21T05:41:06.042467Z",
     "shell.execute_reply.started": "2022-03-21T05:41:06.035479Z"
    }
   },
   "outputs": [
    {
     "data": {
      "text/plain": [
       "array([0, 1, 0, 1, 1, 0, 1, 1, 1, 0, 0, 0, 1, 0, 0, 1, 0, 0, 1, 0, 0, 0,\n",
       "       0, 0, 1, 0, 1, 0, 1, 0, 1, 0, 1, 0, 1, 0, 0, 1, 0, 0, 1, 0, 1, 1,\n",
       "       1, 1, 1, 0, 1, 0, 1, 1, 1, 1, 0, 1, 1, 1, 0, 0, 1, 1, 1, 1, 0, 0,\n",
       "       1, 1, 0, 0, 1, 0, 0, 0, 1, 0, 1, 0, 1, 1, 1, 1, 0, 1, 0, 1, 0, 1,\n",
       "       1, 0, 0, 0, 0, 0, 0, 0, 1, 0, 1, 1])"
      ]
     },
     "execution_count": 86,
     "metadata": {},
     "output_type": "execute_result"
    }
   ],
   "source": [
    "y_pred"
   ]
  },
  {
   "cell_type": "code",
   "execution_count": 87,
   "metadata": {
    "execution": {
     "iopub.execute_input": "2022-03-21T05:41:06.046142Z",
     "iopub.status.busy": "2022-03-21T05:41:06.045074Z",
     "iopub.status.idle": "2022-03-21T05:41:06.069508Z",
     "shell.execute_reply": "2022-03-21T05:41:06.068622Z",
     "shell.execute_reply.started": "2022-03-21T05:41:06.046035Z"
    }
   },
   "outputs": [
    {
     "name": "stdout",
     "output_type": "stream",
     "text": [
      "Accuracy score 0.63\n",
      "Confusion matrix\n",
      " [[37 24]\n",
      " [13 26]]\n",
      "              precision    recall  f1-score   support\n",
      "\n",
      "           0       0.74      0.61      0.67        61\n",
      "           1       0.52      0.67      0.58        39\n",
      "\n",
      "    accuracy                           0.63       100\n",
      "   macro avg       0.63      0.64      0.63       100\n",
      "weighted avg       0.65      0.63      0.63       100\n",
      "\n"
     ]
    }
   ],
   "source": [
    "print(\"Accuracy score\", accuracy_score(y_test, y_pred))\n",
    "print(\"Confusion matrix\\n\", confusion_matrix(y_test, y_pred))\n",
    "print(classification_report(y_test,y_pred))"
   ]
  },
  {
   "cell_type": "code",
   "execution_count": 88,
   "metadata": {
    "execution": {
     "iopub.execute_input": "2022-03-21T05:41:06.071537Z",
     "iopub.status.busy": "2022-03-21T05:41:06.071044Z",
     "iopub.status.idle": "2022-03-21T05:41:06.262294Z",
     "shell.execute_reply": "2022-03-21T05:41:06.261509Z",
     "shell.execute_reply.started": "2022-03-21T05:41:06.071496Z"
    }
   },
   "outputs": [
    {
     "data": {
      "image/png": "[encoded data removed]",
      "text/plain": [
       "<Figure size 432x288 with 1 Axes>"
      ]
     },
     "metadata": {
      "needs_background": "light"
     },
     "output_type": "display_data"
    }
   ],
   "source": [
    "fpr_keras, tpr_keras, thresholds_keras = roc_curve(y_test, y_pred)\n",
    "auc_keras = auc(fpr_keras, tpr_keras)\n",
    "plt.figure(1)\n",
    "plt.plot([0, 1], [0, 1], 'k--')\n",
    "plt.plot(fpr_keras, tpr_keras, label='Keras (area = {:.3f})'.format(auc_keras))\n",
    "\n",
    "plt.xlabel('False positive rate')\n",
    "plt.ylabel('True positive rate')\n",
    "plt.title('ROC curve')\n",
    "plt.legend(loc='best')\n",
    "plt.show()"
   ]
  },
  {
   "cell_type": "code",
   "execution_count": 89,
   "metadata": {
    "execution": {
     "iopub.execute_input": "2022-03-21T05:41:06.264286Z",
     "iopub.status.busy": "2022-03-21T05:41:06.263816Z",
     "iopub.status.idle": "2022-03-21T05:41:06.269921Z",
     "shell.execute_reply": "2022-03-21T05:41:06.268850Z",
     "shell.execute_reply.started": "2022-03-21T05:41:06.264245Z"
    }
   },
   "outputs": [],
   "source": [
    "acc.append(accuracy_score(y_test, y_pred))\n",
    "auc_sc.append(auc_keras)"
   ]
  },
  {
   "cell_type": "markdown",
   "metadata": {},
   "source": [
    "#### Gaussian Bayes"
   ]
  },
  {
   "cell_type": "code",
   "execution_count": 90,
   "metadata": {
    "execution": {
     "iopub.execute_input": "2022-03-21T05:41:06.271876Z",
     "iopub.status.busy": "2022-03-21T05:41:06.271324Z",
     "iopub.status.idle": "2022-03-21T05:41:06.687296Z",
     "shell.execute_reply": "2022-03-21T05:41:06.686468Z",
     "shell.execute_reply.started": "2022-03-21T05:41:06.271842Z"
    }
   },
   "outputs": [
    {
     "data": {
      "text/plain": [
       "GaussianNB()"
      ]
     },
     "execution_count": 90,
     "metadata": {},
     "output_type": "execute_result"
    }
   ],
   "source": [
    "gnb = GaussianNB()\n",
    "gnb.fit(x_train, y_train)"
   ]
  },
  {
   "cell_type": "code",
   "execution_count": 91,
   "metadata": {
    "execution": {
     "iopub.execute_input": "2022-03-21T05:41:06.690889Z",
     "iopub.status.busy": "2022-03-21T05:41:06.690615Z",
     "iopub.status.idle": "2022-03-21T05:41:06.973261Z",
     "shell.execute_reply": "2022-03-21T05:41:06.972481Z",
     "shell.execute_reply.started": "2022-03-21T05:41:06.690859Z"
    }
   },
   "outputs": [],
   "source": [
    "y_pred = gnb.predict(x_test)"
   ]
  },
  {
   "cell_type": "code",
   "execution_count": 92,
   "metadata": {
    "execution": {
     "iopub.execute_input": "2022-03-21T05:41:06.974965Z",
     "iopub.status.busy": "2022-03-21T05:41:06.974641Z",
     "iopub.status.idle": "2022-03-21T05:41:06.981892Z",
     "shell.execute_reply": "2022-03-21T05:41:06.981181Z",
     "shell.execute_reply.started": "2022-03-21T05:41:06.974920Z"
    }
   },
   "outputs": [
    {
     "data": {
      "text/plain": [
       "array([1, 0, 0, 1, 1, 0, 1, 1, 0, 0, 0, 0, 1, 0, 0, 1, 0, 0, 1, 1, 1, 0,\n",
       "       0, 0, 1, 0, 1, 0, 0, 1, 0, 1, 1, 1, 0, 1, 0, 1, 1, 1, 1, 1, 1, 1,\n",
       "       1, 1, 0, 0, 0, 0, 0, 1, 1, 1, 1, 0, 1, 1, 0, 0, 0, 0, 1, 0, 0, 0,\n",
       "       1, 1, 0, 1, 1, 0, 1, 1, 1, 0, 1, 0, 1, 1, 1, 0, 0, 1, 0, 1, 0, 1,\n",
       "       1, 0, 0, 0, 0, 0, 0, 1, 0, 1, 1, 1])"
      ]
     },
     "execution_count": 92,
     "metadata": {},
     "output_type": "execute_result"
    }
   ],
   "source": [
    "y_pred"
   ]
  },
  {
   "cell_type": "code",
   "execution_count": 93,
   "metadata": {
    "execution": {
     "iopub.execute_input": "2022-03-21T05:41:06.983535Z",
     "iopub.status.busy": "2022-03-21T05:41:06.983284Z",
     "iopub.status.idle": "2022-03-21T05:41:07.000284Z",
     "shell.execute_reply": "2022-03-21T05:41:06.999543Z",
     "shell.execute_reply.started": "2022-03-21T05:41:06.983504Z"
    }
   },
   "outputs": [
    {
     "name": "stdout",
     "output_type": "stream",
     "text": [
      "Accuracy score 0.69\n",
      "Confusion matrix\n",
      " [[39 22]\n",
      " [ 9 30]]\n",
      "              precision    recall  f1-score   support\n",
      "\n",
      "           0       0.81      0.64      0.72        61\n",
      "           1       0.58      0.77      0.66        39\n",
      "\n",
      "    accuracy                           0.69       100\n",
      "   macro avg       0.69      0.70      0.69       100\n",
      "weighted avg       0.72      0.69      0.69       100\n",
      "\n"
     ]
    }
   ],
   "source": [
    "print(\"Accuracy score\", accuracy_score(y_test, y_pred))\n",
    "print(\"Confusion matrix\\n\", confusion_matrix(y_test, y_pred))\n",
    "print(classification_report(y_test,y_pred))"
   ]
  },
  {
   "cell_type": "code",
   "execution_count": 94,
   "metadata": {
    "execution": {
     "iopub.execute_input": "2022-03-21T05:41:07.002178Z",
     "iopub.status.busy": "2022-03-21T05:41:07.001421Z",
     "iopub.status.idle": "2022-03-21T05:41:07.154698Z",
     "shell.execute_reply": "2022-03-21T05:41:07.154003Z",
     "shell.execute_reply.started": "2022-03-21T05:41:07.002143Z"
    }
   },
   "outputs": [
    {
     "data": {
      "image/png": "[encoded data removed]",
      "text/plain": [
       "<Figure size 432x288 with 1 Axes>"
      ]
     },
     "metadata": {
      "needs_background": "light"
     },
     "output_type": "display_data"
    }
   ],
   "source": [
    "fpr_keras, tpr_keras, thresholds_keras = roc_curve(y_test, y_pred)\n",
    "auc_keras = auc(fpr_keras, tpr_keras)\n",
    "plt.figure(1)\n",
    "plt.plot([0, 1], [0, 1], 'k--')\n",
    "plt.plot(fpr_keras, tpr_keras, label='Keras (area = {:.3f})'.format(auc_keras))\n",
    "\n",
    "plt.xlabel('False positive rate')\n",
    "plt.ylabel('True positive rate')\n",
    "plt.title('ROC curve')\n",
    "plt.legend(loc='best')\n",
    "plt.show()"
   ]
  },
  {
   "cell_type": "code",
   "execution_count": 95,
   "metadata": {
    "execution": {
     "iopub.execute_input": "2022-03-21T05:41:07.156480Z",
     "iopub.status.busy": "2022-03-21T05:41:07.156032Z",
     "iopub.status.idle": "2022-03-21T05:41:07.161080Z",
     "shell.execute_reply": "2022-03-21T05:41:07.160468Z",
     "shell.execute_reply.started": "2022-03-21T05:41:07.156449Z"
    }
   },
   "outputs": [],
   "source": [
    "acc.append(accuracy_score(y_test, y_pred))\n",
    "auc_sc.append(auc_keras)"
   ]
  },
  {
   "cell_type": "markdown",
   "metadata": {},
   "source": [
    "#### K Nearest Neighbor"
   ]
  },
  {
   "cell_type": "code",
   "execution_count": 96,
   "metadata": {
    "execution": {
     "iopub.execute_input": "2022-03-21T05:44:46.923021Z",
     "iopub.status.busy": "2022-03-21T05:44:46.922712Z",
     "iopub.status.idle": "2022-03-21T05:45:02.269070Z",
     "shell.execute_reply": "2022-03-21T05:45:02.268489Z",
     "shell.execute_reply.started": "2022-03-21T05:44:46.922992Z"
    }
   },
   "outputs": [
    {
     "data": {
      "image/png": "[encoded data removed]",
      "text/plain": [
       "<Figure size 576x576 with 1 Axes>"
      ]
     },
     "metadata": {
      "needs_background": "light"
     },
     "output_type": "display_data"
    }
   ],
   "source": [
    "# find k\n",
    "clusters = [] #value of k\n",
    "accuracy = []\n",
    "cr = []\n",
    "cf = []\n",
    "\n",
    "for i in range(1,25):\n",
    "    knn = KNeighborsClassifier(n_neighbors = i)\n",
    "    knn.fit(x_train, y_train)\n",
    "    y_pred = knn.predict(x_test)\n",
    "    clusters.append(i)\n",
    "    accuracy.append(accuracy_score(y_test, y_pred))\n",
    "    cr.append(classification_report(y_test, y_pred))\n",
    "    cf.append(confusion_matrix(y_test,y_pred))\n",
    "\n",
    "plt.figure(figsize=(8,8))\n",
    "plt.plot(clusters, accuracy)\n",
    "plt.xlabel(\"Clusters\")\n",
    "plt.ylabel(\"Accuracy\")\n",
    "plt.show()"
   ]
  },
  {
   "cell_type": "markdown",
   "metadata": {},
   "source": [
    "The value of k which gives the maximum accuracy for 2 or more epochs is to be considered. Here we select k=20, 24 for accuracy=0.58"
   ]
  },
  {
   "cell_type": "code",
   "execution_count": 101,
   "metadata": {
    "execution": {
     "iopub.execute_input": "2022-03-21T05:47:49.215090Z",
     "iopub.status.busy": "2022-03-21T05:47:49.214600Z",
     "iopub.status.idle": "2022-03-21T05:47:49.222405Z",
     "shell.execute_reply": "2022-03-21T05:47:49.221526Z",
     "shell.execute_reply.started": "2022-03-21T05:47:49.215056Z"
    }
   },
   "outputs": [
    {
     "name": "stdout",
     "output_type": "stream",
     "text": [
      "Accuracy score 0.58\n",
      "Confusion matrix\n",
      " [[28 33]\n",
      " [ 9 30]]\n",
      "              precision    recall  f1-score   support\n",
      "\n",
      "           0       0.76      0.46      0.57        61\n",
      "           1       0.48      0.77      0.59        39\n",
      "\n",
      "    accuracy                           0.58       100\n",
      "   macro avg       0.62      0.61      0.58       100\n",
      "weighted avg       0.65      0.58      0.58       100\n",
      "\n"
     ]
    }
   ],
   "source": [
    "print(\"Accuracy score\", accuracy[19])\n",
    "print(\"Confusion matrix\\n\", cf[19])\n",
    "print(cr[19])"
   ]
  },
  {
   "cell_type": "code",
   "execution_count": 107,
   "metadata": {
    "execution": {
     "iopub.execute_input": "2022-03-21T05:50:08.930790Z",
     "iopub.status.busy": "2022-03-21T05:50:08.930138Z",
     "iopub.status.idle": "2022-03-21T05:50:09.816292Z",
     "shell.execute_reply": "2022-03-21T05:50:09.815344Z",
     "shell.execute_reply.started": "2022-03-21T05:50:08.930741Z"
    }
   },
   "outputs": [
    {
     "data": {
      "image/png": "[encoded data removed]",
      "text/plain": [
       "<Figure size 432x288 with 1 Axes>"
      ]
     },
     "metadata": {
      "needs_background": "light"
     },
     "output_type": "display_data"
    }
   ],
   "source": [
    "knn = KNeighborsClassifier(n_neighbors = 20)\n",
    "knn.fit(x_train, y_train)\n",
    "y_pred = knn.predict(x_test)\n",
    "fpr_keras, tpr_keras, thresholds_keras = roc_curve(y_test, y_pred)\n",
    "auc_keras = auc(fpr_keras, tpr_keras)\n",
    "plt.figure(1)\n",
    "plt.plot([0, 1], [0, 1], 'k--')\n",
    "plt.plot(fpr_keras, tpr_keras, label='Keras (area = {:.3f})'.format(auc_keras))\n",
    "\n",
    "plt.xlabel('False positive rate')\n",
    "plt.ylabel('True positive rate')\n",
    "plt.title('ROC curve')\n",
    "plt.legend(loc='best')\n",
    "plt.show()"
   ]
  },
  {
   "cell_type": "code",
   "execution_count": 111,
   "metadata": {
    "execution": {
     "iopub.execute_input": "2022-03-21T05:51:02.950043Z",
     "iopub.status.busy": "2022-03-21T05:51:02.949245Z",
     "iopub.status.idle": "2022-03-21T05:51:02.954206Z",
     "shell.execute_reply": "2022-03-21T05:51:02.953415Z",
     "shell.execute_reply.started": "2022-03-21T05:51:02.950004Z"
    }
   },
   "outputs": [],
   "source": [
    "acc.append(accuracy[19])\n",
    "auc_sc.append(auc_keras)"
   ]
  },
  {
   "cell_type": "markdown",
   "metadata": {},
   "source": [
    "#### Random Forest"
   ]
  },
  {
   "cell_type": "code",
   "execution_count": 115,
   "metadata": {
    "execution": {
     "iopub.execute_input": "2022-03-21T05:51:28.190546Z",
     "iopub.status.busy": "2022-03-21T05:51:28.190100Z",
     "iopub.status.idle": "2022-03-21T05:51:31.104549Z",
     "shell.execute_reply": "2022-03-21T05:51:31.103757Z",
     "shell.execute_reply.started": "2022-03-21T05:51:28.190514Z"
    }
   },
   "outputs": [
    {
     "data": {
      "text/plain": [
       "RandomForestClassifier(random_state=0)"
      ]
     },
     "execution_count": 115,
     "metadata": {},
     "output_type": "execute_result"
    }
   ],
   "source": [
    "rf = RandomForestClassifier(n_estimators = 100, random_state = 0) \n",
    "rf.fit(x_train, y_train)"
   ]
  },
  {
   "cell_type": "code",
   "execution_count": 116,
   "metadata": {
    "execution": {
     "iopub.execute_input": "2022-03-21T05:51:38.026512Z",
     "iopub.status.busy": "2022-03-21T05:51:38.026233Z",
     "iopub.status.idle": "2022-03-21T05:51:38.291206Z",
     "shell.execute_reply": "2022-03-21T05:51:38.290358Z",
     "shell.execute_reply.started": "2022-03-21T05:51:38.026481Z"
    }
   },
   "outputs": [],
   "source": [
    "y_pred = rf.predict(x_test)"
   ]
  },
  {
   "cell_type": "code",
   "execution_count": 117,
   "metadata": {
    "execution": {
     "iopub.execute_input": "2022-03-21T05:51:42.044507Z",
     "iopub.status.busy": "2022-03-21T05:51:42.043729Z",
     "iopub.status.idle": "2022-03-21T05:51:42.056962Z",
     "shell.execute_reply": "2022-03-21T05:51:42.056172Z",
     "shell.execute_reply.started": "2022-03-21T05:51:42.044468Z"
    }
   },
   "outputs": [
    {
     "name": "stdout",
     "output_type": "stream",
     "text": [
      "Accuracy score 0.78\n",
      "Confusion matrix\n",
      " [[56  5]\n",
      " [17 22]]\n",
      "              precision    recall  f1-score   support\n",
      "\n",
      "           0       0.77      0.92      0.84        61\n",
      "           1       0.81      0.56      0.67        39\n",
      "\n",
      "    accuracy                           0.78       100\n",
      "   macro avg       0.79      0.74      0.75       100\n",
      "weighted avg       0.79      0.78      0.77       100\n",
      "\n"
     ]
    }
   ],
   "source": [
    "print(\"Accuracy score\", accuracy_score(y_test, y_pred))\n",
    "print(\"Confusion matrix\\n\", confusion_matrix(y_test, y_pred))\n",
    "print(classification_report(y_test,y_pred))"
   ]
  },
  {
   "cell_type": "code",
   "execution_count": 118,
   "metadata": {
    "execution": {
     "iopub.execute_input": "2022-03-21T05:51:46.701020Z",
     "iopub.status.busy": "2022-03-21T05:51:46.700748Z",
     "iopub.status.idle": "2022-03-21T05:51:46.870537Z",
     "shell.execute_reply": "2022-03-21T05:51:46.869711Z",
     "shell.execute_reply.started": "2022-03-21T05:51:46.700991Z"
    }
   },
   "outputs": [
    {
     "data": {
      "image/png": "[encoded data removed]",
      "text/plain": [
       "<Figure size 432x288 with 1 Axes>"
      ]
     },
     "metadata": {
      "needs_background": "light"
     },
     "output_type": "display_data"
    }
   ],
   "source": [
    "fpr_keras, tpr_keras, thresholds_keras = roc_curve(y_test, y_pred)\n",
    "auc_keras = auc(fpr_keras, tpr_keras)\n",
    "plt.figure(1)\n",
    "plt.plot([0, 1], [0, 1], 'k--')\n",
    "plt.plot(fpr_keras, tpr_keras, label='Keras (area = {:.3f})'.format(auc_keras))\n",
    "\n",
    "plt.xlabel('False positive rate')\n",
    "plt.ylabel('True positive rate')\n",
    "plt.title('ROC curve')\n",
    "plt.legend(loc='best')\n",
    "plt.show()"
   ]
  },
  {
   "cell_type": "code",
   "execution_count": 119,
   "metadata": {
    "execution": {
     "iopub.execute_input": "2022-03-21T05:51:56.456694Z",
     "iopub.status.busy": "2022-03-21T05:51:56.455737Z",
     "iopub.status.idle": "2022-03-21T05:51:56.462171Z",
     "shell.execute_reply": "2022-03-21T05:51:56.461289Z",
     "shell.execute_reply.started": "2022-03-21T05:51:56.456646Z"
    }
   },
   "outputs": [],
   "source": [
    "acc.append(accuracy_score(y_test, y_pred))\n",
    "auc_sc.append(auc_keras)"
   ]
  },
  {
   "cell_type": "markdown",
   "metadata": {},
   "source": [
    "#### Performance metrics"
   ]
  },
  {
   "cell_type": "code",
   "execution_count": 124,
   "metadata": {
    "execution": {
     "iopub.execute_input": "2022-03-21T05:54:03.487367Z",
     "iopub.status.busy": "2022-03-21T05:54:03.487080Z",
     "iopub.status.idle": "2022-03-21T05:54:03.493235Z",
     "shell.execute_reply": "2022-03-21T05:54:03.492344Z",
     "shell.execute_reply.started": "2022-03-21T05:54:03.487336Z"
    }
   },
   "outputs": [],
   "source": [
    "perf = pd.DataFrame(list(zip(acc, auc_sc)), index = algos, columns = ['Accuracy', 'AUC Score'])"
   ]
  },
  {
   "cell_type": "code",
   "execution_count": 125,
   "metadata": {
    "execution": {
     "iopub.execute_input": "2022-03-21T05:54:08.606500Z",
     "iopub.status.busy": "2022-03-21T05:54:08.606146Z",
     "iopub.status.idle": "2022-03-21T05:54:08.617401Z",
     "shell.execute_reply": "2022-03-21T05:54:08.616769Z",
     "shell.execute_reply.started": "2022-03-21T05:54:08.606462Z"
    }
   },
   "outputs": [
    {
     "data": {
      "text/html": [
       "<div>\n",
       "<style scoped>\n",
       "    .dataframe tbody tr th:only-of-type {\n",
       "        vertical-align: middle;\n",
       "    }\n",
       "\n",
       "    .dataframe tbody tr th {\n",
       "        vertical-align: top;\n",
       "    }\n",
       "\n",
       "    .dataframe thead th {\n",
       "        text-align: right;\n",
       "    }\n",
       "</style>\n",
       "<table border=\"1\" class=\"dataframe\">\n",
       "  <thead>\n",
       "    <tr style=\"text-align: right;\">\n",
       "      <th></th>\n",
       "      <th>Accuracy</th>\n",
       "      <th>AUC Score</th>\n",
       "    </tr>\n",
       "  </thead>\n",
       "  <tbody>\n",
       "    <tr>\n",
       "      <th>LogReg</th>\n",
       "      <td>0.63</td>\n",
       "      <td>0.636612</td>\n",
       "    </tr>\n",
       "    <tr>\n",
       "      <th>GaussNB</th>\n",
       "      <td>0.69</td>\n",
       "      <td>0.704288</td>\n",
       "    </tr>\n",
       "    <tr>\n",
       "      <th>KNN</th>\n",
       "      <td>0.58</td>\n",
       "      <td>0.614124</td>\n",
       "    </tr>\n",
       "    <tr>\n",
       "      <th>RF</th>\n",
       "      <td>0.78</td>\n",
       "      <td>0.741068</td>\n",
       "    </tr>\n",
       "  </tbody>\n",
       "</table>\n",
       "</div>"
      ],
      "text/plain": [
       "         Accuracy  AUC Score\n",
       "LogReg       0.63   0.636612\n",
       "GaussNB      0.69   0.704288\n",
       "KNN          0.58   0.614124\n",
       "RF           0.78   0.741068"
      ]
     },
     "execution_count": 125,
     "metadata": {},
     "output_type": "execute_result"
    }
   ],
   "source": [
    "perf"
   ]
  },
  {
   "cell_type": "markdown",
   "metadata": {},
   "source": [
    "#### Observation\n",
    "1. Logistic regression performs better than KNN. We observe that KNN performs worst for class 0 while Logistic regression has a relatively low performance for class 1.\n",
    "2. Gaussian Naive Bayes has a good performance for both the classes, but it has lower accuracy and AUC score than Random Forest. However it is observed that Random forest performs really well on class 0 while giving a mediocre result for class 1.\n",
    "3. So it would depend on the situation where you would want to use which algorithm. If you want good performance on both classes, Naive bayes is better. And if you want only high accuracy, then go for Random Forest. However in this case, as it is a medical dataset, misclassification of the positive class is more costlier. So it would be wiser to declare Naive Bayes as a better algorithm for this dataset (with this much tuning)."
   ]
  }
 ],
 "metadata": {
  "kernelspec": {
   "display_name": "Python 3 (ipykernel)",
   "language": "python",
   "name": "python3"
  },
  "language_info": {
   "codemirror_mode": {
    "name": "ipython",
    "version": 3
   },
   "file_extension": ".py",
   "mimetype": "text/x-python",
   "name": "python",
   "nbconvert_exporter": "python",
   "pygments_lexer": "ipython3",
   "version": "3.8.10"
  }
 },
 "nbformat": 4,
 "nbformat_minor": 4
}
