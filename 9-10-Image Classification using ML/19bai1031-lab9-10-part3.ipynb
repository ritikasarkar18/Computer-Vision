{
 "cells": [
  {
   "cell_type": "markdown",
   "metadata": {},
   "source": [
    "<pre>\n",
    "Name: Ritika Sarkar\n",
    "Reg. No.: 19BAI1031\n",
    "</pre>"
   ]
  },
  {
   "cell_type": "markdown",
   "metadata": {},
   "source": [
    "### Image Classification & Machine learning based Medical Image Classification"
   ]
  },
  {
   "cell_type": "markdown",
   "metadata": {},
   "source": [
    "Dataset - [Histopathologic Cancer Detection](https://www.kaggle.com/c/histopathologic-cancer-detection)"
   ]
  },
  {
   "cell_type": "markdown",
   "metadata": {},
   "source": [
    "#### Machine Learning - Hyperparameter Tuning (after increasing the sample size)"
   ]
  },
  {
   "cell_type": "code",
   "execution_count": 1,
   "metadata": {
    "_cell_guid": "b1076dfc-b9ad-4769-8c92-a6c4dae69d19",
    "_uuid": "8f2839f25d086af736a60e9eeb907d3b93b6e0e5",
    "execution": {
     "iopub.execute_input": "2022-03-25T05:38:48.030445Z",
     "iopub.status.busy": "2022-03-25T05:38:48.030017Z",
     "iopub.status.idle": "2022-03-25T05:38:48.059429Z",
     "shell.execute_reply": "2022-03-25T05:38:48.058773Z",
     "shell.execute_reply.started": "2022-03-25T05:38:48.030334Z"
    }
   },
   "outputs": [],
   "source": [
    "# This Python 3 environment comes with many helpful analytics libraries installed\n",
    "# It is defined by the kaggle/python Docker image: https://github.com/kaggle/docker-python\n",
    "# For example, here's several helpful packages to load\n",
    "\n",
    "import numpy as np # linear algebra\n",
    "import pandas as pd # data processing, CSV file I/O (e.g. pd.read_csv)\n",
    "\n",
    "# Input data files are available in the read-only \"../input/\" directory\n",
    "# For example, running this (by clicking run or pressing Shift+Enter) will list all files under the input directory\n",
    "\n",
    "import os\n",
    "# for dirname, _, filenames in os.walk('/kaggle/input'):\n",
    "#     for filename in filenames:\n",
    "#         print(os.path.join(dirname, filename))\n"
   ]
  },
  {
   "cell_type": "code",
   "execution_count": 2,
   "metadata": {
    "execution": {
     "iopub.execute_input": "2022-03-25T05:38:48.079525Z",
     "iopub.status.busy": "2022-03-25T05:38:48.079238Z",
     "iopub.status.idle": "2022-03-25T05:38:49.991101Z",
     "shell.execute_reply": "2022-03-25T05:38:49.990066Z",
     "shell.execute_reply.started": "2022-03-25T05:38:48.079496Z"
    }
   },
   "outputs": [],
   "source": [
    "import cv2\n",
    "import matplotlib.pyplot as plt\n",
    "import numpy as np\n",
    "import random\n",
    "# from google.colab.patches import cv2_imshow\n",
    "import pandas as pd \n",
    "import os\n",
    "from skimage.transform import resize\n",
    "from skimage.io import imread"
   ]
  },
  {
   "cell_type": "code",
   "execution_count": 3,
   "metadata": {
    "execution": {
     "iopub.execute_input": "2022-03-25T05:38:49.993524Z",
     "iopub.status.busy": "2022-03-25T05:38:49.993204Z",
     "iopub.status.idle": "2022-03-25T05:38:50.436853Z",
     "shell.execute_reply": "2022-03-25T05:38:50.436041Z",
     "shell.execute_reply.started": "2022-03-25T05:38:49.993484Z"
    }
   },
   "outputs": [],
   "source": [
    "from sklearn.linear_model import LogisticRegression\n",
    "from sklearn.naive_bayes import GaussianNB\n",
    "from sklearn.neighbors import KNeighborsClassifier\n",
    "from sklearn.ensemble import RandomForestClassifier"
   ]
  },
  {
   "cell_type": "code",
   "execution_count": 4,
   "metadata": {
    "execution": {
     "iopub.execute_input": "2022-03-25T05:38:50.438292Z",
     "iopub.status.busy": "2022-03-25T05:38:50.438092Z",
     "iopub.status.idle": "2022-03-25T05:38:50.441972Z",
     "shell.execute_reply": "2022-03-25T05:38:50.441333Z",
     "shell.execute_reply.started": "2022-03-25T05:38:50.438268Z"
    }
   },
   "outputs": [],
   "source": [
    "from sklearn.metrics import accuracy_score,confusion_matrix, classification_report, roc_curve, auc"
   ]
  },
  {
   "cell_type": "code",
   "execution_count": 5,
   "metadata": {
    "execution": {
     "iopub.execute_input": "2022-03-25T05:38:50.443876Z",
     "iopub.status.busy": "2022-03-25T05:38:50.443409Z",
     "iopub.status.idle": "2022-03-25T05:38:51.016809Z",
     "shell.execute_reply": "2022-03-25T05:38:51.015865Z",
     "shell.execute_reply.started": "2022-03-25T05:38:50.443849Z"
    }
   },
   "outputs": [],
   "source": [
    "df = pd.read_csv('../input/histopathologic-cancer-detection/train_labels.csv')"
   ]
  },
  {
   "cell_type": "code",
   "execution_count": 6,
   "metadata": {
    "execution": {
     "iopub.execute_input": "2022-03-25T05:38:51.018372Z",
     "iopub.status.busy": "2022-03-25T05:38:51.018130Z",
     "iopub.status.idle": "2022-03-25T05:38:51.037430Z",
     "shell.execute_reply": "2022-03-25T05:38:51.036542Z",
     "shell.execute_reply.started": "2022-03-25T05:38:51.018345Z"
    }
   },
   "outputs": [
    {
     "data": {
      "text/html": [
       "<div>\n",
       "<style scoped>\n",
       "    .dataframe tbody tr th:only-of-type {\n",
       "        vertical-align: middle;\n",
       "    }\n",
       "\n",
       "    .dataframe tbody tr th {\n",
       "        vertical-align: top;\n",
       "    }\n",
       "\n",
       "    .dataframe thead th {\n",
       "        text-align: right;\n",
       "    }\n",
       "</style>\n",
       "<table border=\"1\" class=\"dataframe\">\n",
       "  <thead>\n",
       "    <tr style=\"text-align: right;\">\n",
       "      <th></th>\n",
       "      <th>id</th>\n",
       "      <th>label</th>\n",
       "    </tr>\n",
       "  </thead>\n",
       "  <tbody>\n",
       "    <tr>\n",
       "      <th>0</th>\n",
       "      <td>f38a6374c348f90b587e046aac6079959adf3835</td>\n",
       "      <td>0</td>\n",
       "    </tr>\n",
       "    <tr>\n",
       "      <th>1</th>\n",
       "      <td>c18f2d887b7ae4f6742ee445113fa1aef383ed77</td>\n",
       "      <td>1</td>\n",
       "    </tr>\n",
       "    <tr>\n",
       "      <th>2</th>\n",
       "      <td>755db6279dae599ebb4d39a9123cce439965282d</td>\n",
       "      <td>0</td>\n",
       "    </tr>\n",
       "    <tr>\n",
       "      <th>3</th>\n",
       "      <td>bc3f0c64fb968ff4a8bd33af6971ecae77c75e08</td>\n",
       "      <td>0</td>\n",
       "    </tr>\n",
       "    <tr>\n",
       "      <th>4</th>\n",
       "      <td>068aba587a4950175d04c680d38943fd488d6a9d</td>\n",
       "      <td>0</td>\n",
       "    </tr>\n",
       "  </tbody>\n",
       "</table>\n",
       "</div>"
      ],
      "text/plain": [
       "                                         id  label\n",
       "0  f38a6374c348f90b587e046aac6079959adf3835      0\n",
       "1  c18f2d887b7ae4f6742ee445113fa1aef383ed77      1\n",
       "2  755db6279dae599ebb4d39a9123cce439965282d      0\n",
       "3  bc3f0c64fb968ff4a8bd33af6971ecae77c75e08      0\n",
       "4  068aba587a4950175d04c680d38943fd488d6a9d      0"
      ]
     },
     "execution_count": 6,
     "metadata": {},
     "output_type": "execute_result"
    }
   ],
   "source": [
    "df.head()"
   ]
  },
  {
   "cell_type": "code",
   "execution_count": 7,
   "metadata": {
    "execution": {
     "iopub.execute_input": "2022-03-25T05:38:51.038845Z",
     "iopub.status.busy": "2022-03-25T05:38:51.038562Z",
     "iopub.status.idle": "2022-03-25T05:38:51.064060Z",
     "shell.execute_reply": "2022-03-25T05:38:51.063237Z",
     "shell.execute_reply.started": "2022-03-25T05:38:51.038815Z"
    }
   },
   "outputs": [],
   "source": [
    "image = plt.imread('../input/histopathologic-cancer-detection/train/'+df['id'][1]+'.tif')"
   ]
  },
  {
   "cell_type": "code",
   "execution_count": 8,
   "metadata": {
    "execution": {
     "iopub.execute_input": "2022-03-25T05:38:51.065722Z",
     "iopub.status.busy": "2022-03-25T05:38:51.065309Z",
     "iopub.status.idle": "2022-03-25T05:38:51.309581Z",
     "shell.execute_reply": "2022-03-25T05:38:51.308699Z",
     "shell.execute_reply.started": "2022-03-25T05:38:51.065689Z"
    }
   },
   "outputs": [
    {
     "data": {
      "text/plain": [
       "<matplotlib.image.AxesImage at 0x7f41adaec510>"
      ]
     },
     "execution_count": 8,
     "metadata": {},
     "output_type": "execute_result"
    },
    {
     "data": {
      "image/png": "[encoded data removed]",
      "text/plain": [
       "<Figure size 432x288 with 1 Axes>"
      ]
     },
     "metadata": {
      "needs_background": "light"
     },
     "output_type": "display_data"
    }
   ],
   "source": [
    "plt.imshow(image)"
   ]
  },
  {
   "cell_type": "code",
   "execution_count": 9,
   "metadata": {
    "execution": {
     "iopub.execute_input": "2022-03-25T05:38:51.311758Z",
     "iopub.status.busy": "2022-03-25T05:38:51.311037Z",
     "iopub.status.idle": "2022-03-25T05:38:51.317450Z",
     "shell.execute_reply": "2022-03-25T05:38:51.316805Z",
     "shell.execute_reply.started": "2022-03-25T05:38:51.311721Z"
    }
   },
   "outputs": [
    {
     "data": {
      "text/plain": [
       "220025"
      ]
     },
     "execution_count": 9,
     "metadata": {},
     "output_type": "execute_result"
    }
   ],
   "source": [
    "df.shape[0]"
   ]
  },
  {
   "cell_type": "code",
   "execution_count": 10,
   "metadata": {
    "execution": {
     "iopub.execute_input": "2022-03-25T05:38:51.319052Z",
     "iopub.status.busy": "2022-03-25T05:38:51.318440Z",
     "iopub.status.idle": "2022-03-25T05:38:51.356466Z",
     "shell.execute_reply": "2022-03-25T05:38:51.355817Z",
     "shell.execute_reply.started": "2022-03-25T05:38:51.319017Z"
    }
   },
   "outputs": [],
   "source": [
    "# equalizing the contribution of both classes\n",
    "dfnew = pd.concat([df[df.label==0].sample(n=1500),df[df.label==1].sample(n=1500)]) # 3000 samples and reducing the effect of class imbalance by taking equal number of random samples from both classes."
   ]
  },
  {
   "cell_type": "code",
   "execution_count": 11,
   "metadata": {
    "execution": {
     "iopub.execute_input": "2022-03-25T05:38:51.360011Z",
     "iopub.status.busy": "2022-03-25T05:38:51.359589Z",
     "iopub.status.idle": "2022-03-25T05:38:51.365589Z",
     "shell.execute_reply": "2022-03-25T05:38:51.364912Z",
     "shell.execute_reply.started": "2022-03-25T05:38:51.359976Z"
    }
   },
   "outputs": [],
   "source": [
    "# taking a subset of the dataset due to memory error\n",
    "# dfnew = df.sample(n=3000)"
   ]
  },
  {
   "cell_type": "code",
   "execution_count": 12,
   "metadata": {
    "execution": {
     "iopub.execute_input": "2022-03-25T05:38:51.367310Z",
     "iopub.status.busy": "2022-03-25T05:38:51.366718Z",
     "iopub.status.idle": "2022-03-25T05:38:51.388515Z",
     "shell.execute_reply": "2022-03-25T05:38:51.387533Z",
     "shell.execute_reply.started": "2022-03-25T05:38:51.367267Z"
    }
   },
   "outputs": [
    {
     "data": {
      "text/plain": [
       "0    1500\n",
       "1    1500\n",
       "Name: label, dtype: int64"
      ]
     },
     "execution_count": 12,
     "metadata": {},
     "output_type": "execute_result"
    }
   ],
   "source": [
    "dfnew['label'].value_counts()"
   ]
  },
  {
   "cell_type": "code",
   "execution_count": 13,
   "metadata": {
    "execution": {
     "iopub.execute_input": "2022-03-25T05:38:51.390715Z",
     "iopub.status.busy": "2022-03-25T05:38:51.390274Z",
     "iopub.status.idle": "2022-03-25T05:38:51.394822Z",
     "shell.execute_reply": "2022-03-25T05:38:51.394169Z",
     "shell.execute_reply.started": "2022-03-25T05:38:51.390665Z"
    }
   },
   "outputs": [],
   "source": [
    "dfnew.reset_index(drop = True, inplace = True)"
   ]
  },
  {
   "cell_type": "code",
   "execution_count": 14,
   "metadata": {
    "execution": {
     "iopub.execute_input": "2022-03-25T05:38:51.396189Z",
     "iopub.status.busy": "2022-03-25T05:38:51.395850Z",
     "iopub.status.idle": "2022-03-25T05:38:51.415465Z",
     "shell.execute_reply": "2022-03-25T05:38:51.414814Z",
     "shell.execute_reply.started": "2022-03-25T05:38:51.396162Z"
    }
   },
   "outputs": [
    {
     "data": {
      "text/html": [
       "<div>\n",
       "<style scoped>\n",
       "    .dataframe tbody tr th:only-of-type {\n",
       "        vertical-align: middle;\n",
       "    }\n",
       "\n",
       "    .dataframe tbody tr th {\n",
       "        vertical-align: top;\n",
       "    }\n",
       "\n",
       "    .dataframe thead th {\n",
       "        text-align: right;\n",
       "    }\n",
       "</style>\n",
       "<table border=\"1\" class=\"dataframe\">\n",
       "  <thead>\n",
       "    <tr style=\"text-align: right;\">\n",
       "      <th></th>\n",
       "      <th>id</th>\n",
       "      <th>label</th>\n",
       "    </tr>\n",
       "  </thead>\n",
       "  <tbody>\n",
       "    <tr>\n",
       "      <th>2995</th>\n",
       "      <td>7ba253793f308f55f1ae2dfff9875edc18c10533</td>\n",
       "      <td>1</td>\n",
       "    </tr>\n",
       "    <tr>\n",
       "      <th>2996</th>\n",
       "      <td>e08736869a9f18a2e4bcb982ec24d9bb397f02e7</td>\n",
       "      <td>1</td>\n",
       "    </tr>\n",
       "    <tr>\n",
       "      <th>2997</th>\n",
       "      <td>03be8550962501b38865837fda6a0a13ffd0fd87</td>\n",
       "      <td>1</td>\n",
       "    </tr>\n",
       "    <tr>\n",
       "      <th>2998</th>\n",
       "      <td>61c6b158914cdbbe669dc8616bad9c52757cbf0d</td>\n",
       "      <td>1</td>\n",
       "    </tr>\n",
       "    <tr>\n",
       "      <th>2999</th>\n",
       "      <td>2cb6244d1087eb6cb5ea7ce4a6caefe5c8f1a68c</td>\n",
       "      <td>1</td>\n",
       "    </tr>\n",
       "  </tbody>\n",
       "</table>\n",
       "</div>"
      ],
      "text/plain": [
       "                                            id  label\n",
       "2995  7ba253793f308f55f1ae2dfff9875edc18c10533      1\n",
       "2996  e08736869a9f18a2e4bcb982ec24d9bb397f02e7      1\n",
       "2997  03be8550962501b38865837fda6a0a13ffd0fd87      1\n",
       "2998  61c6b158914cdbbe669dc8616bad9c52757cbf0d      1\n",
       "2999  2cb6244d1087eb6cb5ea7ce4a6caefe5c8f1a68c      1"
      ]
     },
     "execution_count": 14,
     "metadata": {},
     "output_type": "execute_result"
    }
   ],
   "source": [
    "dfnew.tail()"
   ]
  },
  {
   "cell_type": "code",
   "execution_count": 15,
   "metadata": {
    "execution": {
     "iopub.execute_input": "2022-03-25T05:38:51.417125Z",
     "iopub.status.busy": "2022-03-25T05:38:51.416696Z",
     "iopub.status.idle": "2022-03-25T05:39:30.640610Z",
     "shell.execute_reply": "2022-03-25T05:39:30.639663Z",
     "shell.execute_reply.started": "2022-03-25T05:38:51.417082Z"
    }
   },
   "outputs": [],
   "source": [
    "flat_data_arr = [] #input array\n",
    "target_arr = [] #output array\n",
    "datadir = '../input/histopathologic-cancer-detection/train/'\n",
    "\n",
    "#path which contains all the categories of images\n",
    "for i in range(dfnew.shape[0]):\n",
    "    img = dfnew['id'][i] + '.tif'\n",
    "    img_array = imread(os.path.join(datadir,img))\n",
    "#     grayimg = cv2.cvtColor(img_array, cv2.COLOR_BGR2GRAY)\n",
    "    img_resized = resize(img_array,(96,96,3)) # flattening the image, pixels serve as features\n",
    "    flat_data_arr.append(img_resized.flatten())\n",
    "    target_arr.append(dfnew['label'][i])"
   ]
  },
  {
   "cell_type": "code",
   "execution_count": 16,
   "metadata": {
    "execution": {
     "iopub.execute_input": "2022-03-25T05:39:30.642392Z",
     "iopub.status.busy": "2022-03-25T05:39:30.642067Z",
     "iopub.status.idle": "2022-03-25T05:39:30.926556Z",
     "shell.execute_reply": "2022-03-25T05:39:30.925691Z",
     "shell.execute_reply.started": "2022-03-25T05:39:30.642352Z"
    }
   },
   "outputs": [],
   "source": [
    "flat_data = np.array(flat_data_arr)\n",
    "target = np.array(target_arr)\n",
    "dfn = pd.DataFrame(flat_data) #dataframe\n",
    "dfn['Target'] = target"
   ]
  },
  {
   "cell_type": "code",
   "execution_count": 17,
   "metadata": {
    "execution": {
     "iopub.execute_input": "2022-03-25T05:39:30.928017Z",
     "iopub.status.busy": "2022-03-25T05:39:30.927730Z",
     "iopub.status.idle": "2022-03-25T05:39:30.955881Z",
     "shell.execute_reply": "2022-03-25T05:39:30.954981Z",
     "shell.execute_reply.started": "2022-03-25T05:39:30.927989Z"
    }
   },
   "outputs": [
    {
     "data": {
      "text/html": [
       "<div>\n",
       "<style scoped>\n",
       "    .dataframe tbody tr th:only-of-type {\n",
       "        vertical-align: middle;\n",
       "    }\n",
       "\n",
       "    .dataframe tbody tr th {\n",
       "        vertical-align: top;\n",
       "    }\n",
       "\n",
       "    .dataframe thead th {\n",
       "        text-align: right;\n",
       "    }\n",
       "</style>\n",
       "<table border=\"1\" class=\"dataframe\">\n",
       "  <thead>\n",
       "    <tr style=\"text-align: right;\">\n",
       "      <th></th>\n",
       "      <th>0</th>\n",
       "      <th>1</th>\n",
       "      <th>2</th>\n",
       "      <th>3</th>\n",
       "      <th>4</th>\n",
       "      <th>5</th>\n",
       "      <th>6</th>\n",
       "      <th>7</th>\n",
       "      <th>8</th>\n",
       "      <th>9</th>\n",
       "      <th>...</th>\n",
       "      <th>27639</th>\n",
       "      <th>27640</th>\n",
       "      <th>27641</th>\n",
       "      <th>27642</th>\n",
       "      <th>27643</th>\n",
       "      <th>27644</th>\n",
       "      <th>27645</th>\n",
       "      <th>27646</th>\n",
       "      <th>27647</th>\n",
       "      <th>Target</th>\n",
       "    </tr>\n",
       "  </thead>\n",
       "  <tbody>\n",
       "    <tr>\n",
       "      <th>0</th>\n",
       "      <td>0.807843</td>\n",
       "      <td>0.623529</td>\n",
       "      <td>0.749020</td>\n",
       "      <td>1.000000</td>\n",
       "      <td>0.854902</td>\n",
       "      <td>0.980392</td>\n",
       "      <td>0.764706</td>\n",
       "      <td>0.572549</td>\n",
       "      <td>0.698039</td>\n",
       "      <td>0.658824</td>\n",
       "      <td>...</td>\n",
       "      <td>0.650980</td>\n",
       "      <td>0.396078</td>\n",
       "      <td>0.521569</td>\n",
       "      <td>0.623529</td>\n",
       "      <td>0.364706</td>\n",
       "      <td>0.470588</td>\n",
       "      <td>1.000000</td>\n",
       "      <td>0.768627</td>\n",
       "      <td>0.854902</td>\n",
       "      <td>0</td>\n",
       "    </tr>\n",
       "    <tr>\n",
       "      <th>1</th>\n",
       "      <td>1.000000</td>\n",
       "      <td>0.988235</td>\n",
       "      <td>0.980392</td>\n",
       "      <td>0.956863</td>\n",
       "      <td>0.917647</td>\n",
       "      <td>0.909804</td>\n",
       "      <td>0.937255</td>\n",
       "      <td>0.882353</td>\n",
       "      <td>0.870588</td>\n",
       "      <td>0.780392</td>\n",
       "      <td>...</td>\n",
       "      <td>0.949020</td>\n",
       "      <td>0.698039</td>\n",
       "      <td>0.792157</td>\n",
       "      <td>0.870588</td>\n",
       "      <td>0.623529</td>\n",
       "      <td>0.705882</td>\n",
       "      <td>0.949020</td>\n",
       "      <td>0.705882</td>\n",
       "      <td>0.788235</td>\n",
       "      <td>0</td>\n",
       "    </tr>\n",
       "    <tr>\n",
       "      <th>2</th>\n",
       "      <td>0.325490</td>\n",
       "      <td>0.125490</td>\n",
       "      <td>0.529412</td>\n",
       "      <td>0.368627</td>\n",
       "      <td>0.129412</td>\n",
       "      <td>0.537255</td>\n",
       "      <td>0.709804</td>\n",
       "      <td>0.415686</td>\n",
       "      <td>0.827451</td>\n",
       "      <td>0.572549</td>\n",
       "      <td>...</td>\n",
       "      <td>0.525490</td>\n",
       "      <td>0.282353</td>\n",
       "      <td>0.619608</td>\n",
       "      <td>0.474510</td>\n",
       "      <td>0.243137</td>\n",
       "      <td>0.564706</td>\n",
       "      <td>0.360784</td>\n",
       "      <td>0.129412</td>\n",
       "      <td>0.443137</td>\n",
       "      <td>0</td>\n",
       "    </tr>\n",
       "    <tr>\n",
       "      <th>3</th>\n",
       "      <td>0.729412</td>\n",
       "      <td>0.596078</td>\n",
       "      <td>0.792157</td>\n",
       "      <td>0.384314</td>\n",
       "      <td>0.239216</td>\n",
       "      <td>0.439216</td>\n",
       "      <td>0.309804</td>\n",
       "      <td>0.160784</td>\n",
       "      <td>0.345098</td>\n",
       "      <td>0.372549</td>\n",
       "      <td>...</td>\n",
       "      <td>0.800000</td>\n",
       "      <td>0.650980</td>\n",
       "      <td>0.709804</td>\n",
       "      <td>0.917647</td>\n",
       "      <td>0.749020</td>\n",
       "      <td>0.827451</td>\n",
       "      <td>0.729412</td>\n",
       "      <td>0.549020</td>\n",
       "      <td>0.658824</td>\n",
       "      <td>0</td>\n",
       "    </tr>\n",
       "    <tr>\n",
       "      <th>4</th>\n",
       "      <td>0.227451</td>\n",
       "      <td>0.047059</td>\n",
       "      <td>0.474510</td>\n",
       "      <td>0.341176</td>\n",
       "      <td>0.172549</td>\n",
       "      <td>0.525490</td>\n",
       "      <td>0.419608</td>\n",
       "      <td>0.254902</td>\n",
       "      <td>0.584314</td>\n",
       "      <td>0.368627</td>\n",
       "      <td>...</td>\n",
       "      <td>0.482353</td>\n",
       "      <td>0.298039</td>\n",
       "      <td>0.572549</td>\n",
       "      <td>0.309804</td>\n",
       "      <td>0.141176</td>\n",
       "      <td>0.462745</td>\n",
       "      <td>0.231373</td>\n",
       "      <td>0.066667</td>\n",
       "      <td>0.450980</td>\n",
       "      <td>0</td>\n",
       "    </tr>\n",
       "  </tbody>\n",
       "</table>\n",
       "<p>5 rows × 27649 columns</p>\n",
       "</div>"
      ],
      "text/plain": [
       "          0         1         2         3         4         5         6  \\\n",
       "0  0.807843  0.623529  0.749020  1.000000  0.854902  0.980392  0.764706   \n",
       "1  1.000000  0.988235  0.980392  0.956863  0.917647  0.909804  0.937255   \n",
       "2  0.325490  0.125490  0.529412  0.368627  0.129412  0.537255  0.709804   \n",
       "3  0.729412  0.596078  0.792157  0.384314  0.239216  0.439216  0.309804   \n",
       "4  0.227451  0.047059  0.474510  0.341176  0.172549  0.525490  0.419608   \n",
       "\n",
       "          7         8         9  ...     27639     27640     27641     27642  \\\n",
       "0  0.572549  0.698039  0.658824  ...  0.650980  0.396078  0.521569  0.623529   \n",
       "1  0.882353  0.870588  0.780392  ...  0.949020  0.698039  0.792157  0.870588   \n",
       "2  0.415686  0.827451  0.572549  ...  0.525490  0.282353  0.619608  0.474510   \n",
       "3  0.160784  0.345098  0.372549  ...  0.800000  0.650980  0.709804  0.917647   \n",
       "4  0.254902  0.584314  0.368627  ...  0.482353  0.298039  0.572549  0.309804   \n",
       "\n",
       "      27643     27644     27645     27646     27647  Target  \n",
       "0  0.364706  0.470588  1.000000  0.768627  0.854902       0  \n",
       "1  0.623529  0.705882  0.949020  0.705882  0.788235       0  \n",
       "2  0.243137  0.564706  0.360784  0.129412  0.443137       0  \n",
       "3  0.749020  0.827451  0.729412  0.549020  0.658824       0  \n",
       "4  0.141176  0.462745  0.231373  0.066667  0.450980       0  \n",
       "\n",
       "[5 rows x 27649 columns]"
      ]
     },
     "execution_count": 17,
     "metadata": {},
     "output_type": "execute_result"
    }
   ],
   "source": [
    "dfn.head()"
   ]
  },
  {
   "cell_type": "code",
   "execution_count": 18,
   "metadata": {
    "execution": {
     "iopub.execute_input": "2022-03-25T05:39:30.957997Z",
     "iopub.status.busy": "2022-03-25T05:39:30.957199Z",
     "iopub.status.idle": "2022-03-25T05:39:31.280378Z",
     "shell.execute_reply": "2022-03-25T05:39:31.279388Z",
     "shell.execute_reply.started": "2022-03-25T05:39:30.957956Z"
    }
   },
   "outputs": [],
   "source": [
    "x = dfn.iloc[:,:-1] #input data \n",
    "y = dfn.iloc[:,-1] #output data"
   ]
  },
  {
   "cell_type": "code",
   "execution_count": 19,
   "metadata": {
    "execution": {
     "iopub.execute_input": "2022-03-25T05:39:31.281866Z",
     "iopub.status.busy": "2022-03-25T05:39:31.281608Z",
     "iopub.status.idle": "2022-03-25T05:39:31.289015Z",
     "shell.execute_reply": "2022-03-25T05:39:31.288046Z",
     "shell.execute_reply.started": "2022-03-25T05:39:31.281837Z"
    }
   },
   "outputs": [
    {
     "data": {
      "text/plain": [
       "0       0\n",
       "1       0\n",
       "2       0\n",
       "3       0\n",
       "4       0\n",
       "       ..\n",
       "2995    1\n",
       "2996    1\n",
       "2997    1\n",
       "2998    1\n",
       "2999    1\n",
       "Name: Target, Length: 3000, dtype: int64"
      ]
     },
     "execution_count": 19,
     "metadata": {},
     "output_type": "execute_result"
    }
   ],
   "source": [
    "y"
   ]
  },
  {
   "cell_type": "code",
   "execution_count": 20,
   "metadata": {
    "execution": {
     "iopub.execute_input": "2022-03-25T05:39:31.290880Z",
     "iopub.status.busy": "2022-03-25T05:39:31.290566Z",
     "iopub.status.idle": "2022-03-25T05:39:31.576830Z",
     "shell.execute_reply": "2022-03-25T05:39:31.575908Z",
     "shell.execute_reply.started": "2022-03-25T05:39:31.290841Z"
    }
   },
   "outputs": [],
   "source": [
    "from sklearn.model_selection import train_test_split\n",
    "x_train,x_test,y_train,y_test = train_test_split(x, y, test_size = 0.20, random_state = 42)"
   ]
  },
  {
   "cell_type": "code",
   "execution_count": 21,
   "metadata": {
    "execution": {
     "iopub.execute_input": "2022-03-25T05:39:31.579484Z",
     "iopub.status.busy": "2022-03-25T05:39:31.579127Z",
     "iopub.status.idle": "2022-03-25T05:39:31.584638Z",
     "shell.execute_reply": "2022-03-25T05:39:31.583669Z",
     "shell.execute_reply.started": "2022-03-25T05:39:31.579430Z"
    }
   },
   "outputs": [],
   "source": [
    "# metrics consolidated\n",
    "algos = ['LogReg', 'GaussNB','KNN','RF']\n",
    "acc = []\n",
    "auc_sc = []"
   ]
  },
  {
   "cell_type": "markdown",
   "metadata": {},
   "source": [
    "#### Logistic Regression"
   ]
  },
  {
   "cell_type": "code",
   "execution_count": 22,
   "metadata": {
    "execution": {
     "iopub.execute_input": "2022-03-25T05:39:31.585946Z",
     "iopub.status.busy": "2022-03-25T05:39:31.585675Z",
     "iopub.status.idle": "2022-03-25T05:39:54.502704Z",
     "shell.execute_reply": "2022-03-25T05:39:54.501889Z",
     "shell.execute_reply.started": "2022-03-25T05:39:31.585913Z"
    }
   },
   "outputs": [
    {
     "data": {
      "text/plain": [
       "LogisticRegression(max_iter=5000, penalty='l1', solver='liblinear')"
      ]
     },
     "execution_count": 22,
     "metadata": {},
     "output_type": "execute_result"
    }
   ],
   "source": [
    "# dual = False as n_samples > n_features, adding penalty as l1 norm\n",
    "logistic = LogisticRegression(solver='liblinear', dual=False, max_iter=5000, penalty='l1') \n",
    "logistic.fit(x_train, y_train)"
   ]
  },
  {
   "cell_type": "code",
   "execution_count": 23,
   "metadata": {
    "execution": {
     "iopub.execute_input": "2022-03-25T05:39:54.504314Z",
     "iopub.status.busy": "2022-03-25T05:39:54.504003Z",
     "iopub.status.idle": "2022-03-25T05:39:54.708868Z",
     "shell.execute_reply": "2022-03-25T05:39:54.707405Z",
     "shell.execute_reply.started": "2022-03-25T05:39:54.504274Z"
    }
   },
   "outputs": [],
   "source": [
    "y_pred = logistic.predict(x_test)"
   ]
  },
  {
   "cell_type": "code",
   "execution_count": 24,
   "metadata": {
    "execution": {
     "iopub.execute_input": "2022-03-25T05:39:54.712523Z",
     "iopub.status.busy": "2022-03-25T05:39:54.710633Z",
     "iopub.status.idle": "2022-03-25T05:39:54.727098Z",
     "shell.execute_reply": "2022-03-25T05:39:54.726095Z",
     "shell.execute_reply.started": "2022-03-25T05:39:54.712460Z"
    }
   },
   "outputs": [
    {
     "data": {
      "text/plain": [
       "array([1, 1, 1, 0, 1, 0, 1, 1, 0, 0, 1, 0, 1, 1, 1, 1, 1, 1, 0, 1, 0, 0,\n",
       "       0, 1, 0, 1, 1, 1, 0, 0, 1, 0, 0, 1, 0, 0, 1, 0, 0, 0, 1, 0, 1, 1,\n",
       "       1, 1, 1, 1, 1, 0, 0, 1, 0, 0, 1, 0, 0, 0, 1, 0, 0, 0, 1, 1, 1, 0,\n",
       "       0, 0, 0, 1, 1, 0, 1, 1, 0, 0, 1, 1, 1, 1, 1, 1, 0, 1, 1, 1, 0, 1,\n",
       "       1, 1, 0, 1, 0, 1, 1, 0, 1, 1, 0, 1, 1, 1, 0, 1, 0, 0, 1, 0, 1, 1,\n",
       "       1, 1, 0, 0, 1, 0, 0, 1, 0, 1, 1, 0, 0, 0, 0, 1, 1, 0, 0, 0, 1, 1,\n",
       "       1, 1, 1, 1, 0, 1, 0, 0, 1, 0, 1, 1, 1, 0, 1, 1, 1, 0, 1, 0, 0, 1,\n",
       "       0, 1, 0, 1, 1, 1, 0, 1, 1, 0, 1, 0, 0, 1, 0, 0, 1, 1, 0, 0, 0, 0,\n",
       "       1, 1, 0, 0, 0, 0, 0, 1, 1, 0, 1, 1, 0, 0, 0, 0, 1, 1, 1, 1, 1, 0,\n",
       "       1, 0, 0, 1, 0, 0, 1, 1, 1, 0, 1, 1, 0, 0, 0, 1, 1, 1, 0, 1, 1, 1,\n",
       "       0, 0, 0, 0, 0, 0, 1, 1, 0, 1, 0, 0, 0, 0, 0, 1, 1, 1, 0, 0, 1, 0,\n",
       "       1, 0, 1, 0, 0, 0, 0, 1, 1, 0, 0, 1, 0, 1, 0, 1, 0, 1, 0, 0, 1, 1,\n",
       "       1, 1, 0, 0, 1, 0, 1, 0, 1, 1, 1, 1, 0, 0, 1, 1, 1, 1, 0, 1, 1, 1,\n",
       "       0, 0, 0, 0, 0, 1, 0, 1, 1, 1, 1, 1, 0, 1, 0, 0, 1, 0, 0, 1, 1, 1,\n",
       "       0, 0, 0, 0, 1, 1, 0, 0, 1, 1, 0, 0, 0, 0, 0, 1, 1, 1, 1, 0, 1, 1,\n",
       "       1, 1, 1, 1, 0, 1, 1, 0, 1, 0, 1, 0, 1, 1, 0, 0, 0, 1, 1, 1, 1, 1,\n",
       "       0, 1, 0, 0, 1, 1, 0, 0, 0, 1, 1, 0, 0, 1, 1, 0, 0, 1, 1, 0, 1, 1,\n",
       "       0, 0, 0, 1, 0, 0, 1, 1, 1, 1, 0, 1, 1, 0, 1, 1, 1, 0, 0, 1, 1, 0,\n",
       "       0, 0, 1, 1, 1, 1, 1, 0, 1, 0, 0, 0, 1, 1, 1, 0, 1, 1, 0, 0, 1, 0,\n",
       "       1, 0, 1, 1, 0, 0, 0, 0, 0, 1, 0, 0, 1, 1, 1, 0, 0, 0, 0, 1, 1, 1,\n",
       "       0, 1, 0, 1, 1, 0, 0, 1, 1, 1, 0, 1, 0, 0, 0, 0, 0, 0, 0, 1, 1, 0,\n",
       "       1, 1, 0, 1, 0, 1, 0, 0, 1, 1, 1, 0, 0, 0, 0, 0, 1, 0, 1, 1, 1, 1,\n",
       "       1, 1, 1, 0, 1, 1, 1, 1, 1, 1, 0, 0, 0, 1, 1, 1, 1, 0, 0, 1, 1, 0,\n",
       "       1, 0, 1, 0, 0, 1, 1, 1, 1, 1, 1, 0, 0, 0, 0, 1, 0, 0, 1, 1, 1, 0,\n",
       "       1, 1, 0, 0, 1, 1, 1, 0, 0, 1, 0, 1, 1, 0, 0, 1, 1, 1, 1, 1, 1, 0,\n",
       "       1, 0, 0, 1, 0, 0, 0, 0, 1, 0, 1, 1, 1, 0, 0, 1, 0, 0, 1, 1, 1, 0,\n",
       "       1, 1, 1, 0, 0, 0, 1, 0, 0, 0, 1, 0, 0, 0, 1, 0, 0, 0, 1, 0, 1, 1,\n",
       "       1, 0, 0, 0, 0, 1])"
      ]
     },
     "execution_count": 24,
     "metadata": {},
     "output_type": "execute_result"
    }
   ],
   "source": [
    "y_pred"
   ]
  },
  {
   "cell_type": "code",
   "execution_count": 25,
   "metadata": {
    "execution": {
     "iopub.execute_input": "2022-03-25T05:39:54.730067Z",
     "iopub.status.busy": "2022-03-25T05:39:54.728866Z",
     "iopub.status.idle": "2022-03-25T05:39:54.765753Z",
     "shell.execute_reply": "2022-03-25T05:39:54.764839Z",
     "shell.execute_reply.started": "2022-03-25T05:39:54.730009Z"
    }
   },
   "outputs": [
    {
     "name": "stdout",
     "output_type": "stream",
     "text": [
      "Accuracy score 0.63\n",
      "Confusion matrix\n",
      " [[187 126]\n",
      " [ 96 191]]\n",
      "              precision    recall  f1-score   support\n",
      "\n",
      "           0       0.66      0.60      0.63       313\n",
      "           1       0.60      0.67      0.63       287\n",
      "\n",
      "    accuracy                           0.63       600\n",
      "   macro avg       0.63      0.63      0.63       600\n",
      "weighted avg       0.63      0.63      0.63       600\n",
      "\n"
     ]
    }
   ],
   "source": [
    "print(\"Accuracy score\", accuracy_score(y_test, y_pred))\n",
    "print(\"Confusion matrix\\n\", confusion_matrix(y_test, y_pred))\n",
    "print(classification_report(y_test,y_pred))"
   ]
  },
  {
   "cell_type": "code",
   "execution_count": 26,
   "metadata": {
    "execution": {
     "iopub.execute_input": "2022-03-25T05:39:54.769407Z",
     "iopub.status.busy": "2022-03-25T05:39:54.767327Z",
     "iopub.status.idle": "2022-03-25T05:39:55.022365Z",
     "shell.execute_reply": "2022-03-25T05:39:55.021505Z",
     "shell.execute_reply.started": "2022-03-25T05:39:54.769342Z"
    }
   },
   "outputs": [
    {
     "data": {
      "image/png": "[encoded data removed]",
      "text/plain": [
       "<Figure size 432x288 with 1 Axes>"
      ]
     },
     "metadata": {
      "needs_background": "light"
     },
     "output_type": "display_data"
    }
   ],
   "source": [
    "fpr_keras, tpr_keras, thresholds_keras = roc_curve(y_test, y_pred)\n",
    "auc_keras = auc(fpr_keras, tpr_keras)\n",
    "plt.figure(1)\n",
    "plt.plot([0, 1], [0, 1], 'k--')\n",
    "plt.plot(fpr_keras, tpr_keras, label='Keras (area = {:.3f})'.format(auc_keras))\n",
    "\n",
    "plt.xlabel('False positive rate')\n",
    "plt.ylabel('True positive rate')\n",
    "plt.title('ROC curve')\n",
    "plt.legend(loc='best')\n",
    "plt.show()"
   ]
  },
  {
   "cell_type": "code",
   "execution_count": 27,
   "metadata": {
    "execution": {
     "iopub.execute_input": "2022-03-25T05:39:55.024522Z",
     "iopub.status.busy": "2022-03-25T05:39:55.023844Z",
     "iopub.status.idle": "2022-03-25T05:39:55.030459Z",
     "shell.execute_reply": "2022-03-25T05:39:55.029393Z",
     "shell.execute_reply.started": "2022-03-25T05:39:55.024473Z"
    }
   },
   "outputs": [],
   "source": [
    "acc.append(accuracy_score(y_test, y_pred))\n",
    "auc_sc.append(auc_keras)"
   ]
  },
  {
   "cell_type": "markdown",
   "metadata": {},
   "source": [
    "#### Gaussian Bayes"
   ]
  },
  {
   "cell_type": "code",
   "execution_count": 28,
   "metadata": {
    "execution": {
     "iopub.execute_input": "2022-03-25T05:39:55.032236Z",
     "iopub.status.busy": "2022-03-25T05:39:55.031910Z",
     "iopub.status.idle": "2022-03-25T05:39:56.140401Z",
     "shell.execute_reply": "2022-03-25T05:39:56.139574Z",
     "shell.execute_reply.started": "2022-03-25T05:39:55.032194Z"
    }
   },
   "outputs": [
    {
     "data": {
      "text/plain": [
       "GaussianNB(var_smoothing=1e-06)"
      ]
     },
     "execution_count": 28,
     "metadata": {},
     "output_type": "execute_result"
    }
   ],
   "source": [
    "gnb = GaussianNB(var_smoothing=1e-6) # var-smoothing = Portion of the largest variance of all features that is added to variances for calculation stability.\n",
    "gnb.fit(x_train, y_train)"
   ]
  },
  {
   "cell_type": "code",
   "execution_count": 29,
   "metadata": {
    "execution": {
     "iopub.execute_input": "2022-03-25T05:39:56.146403Z",
     "iopub.status.busy": "2022-03-25T05:39:56.146157Z",
     "iopub.status.idle": "2022-03-25T05:39:56.547076Z",
     "shell.execute_reply": "2022-03-25T05:39:56.546232Z",
     "shell.execute_reply.started": "2022-03-25T05:39:56.146376Z"
    }
   },
   "outputs": [],
   "source": [
    "y_pred = gnb.predict(x_test)"
   ]
  },
  {
   "cell_type": "code",
   "execution_count": 30,
   "metadata": {
    "execution": {
     "iopub.execute_input": "2022-03-25T05:39:56.548815Z",
     "iopub.status.busy": "2022-03-25T05:39:56.548087Z",
     "iopub.status.idle": "2022-03-25T05:39:56.555152Z",
     "shell.execute_reply": "2022-03-25T05:39:56.554524Z",
     "shell.execute_reply.started": "2022-03-25T05:39:56.548783Z"
    }
   },
   "outputs": [
    {
     "data": {
      "text/plain": [
       "array([1, 0, 1, 0, 1, 0, 0, 1, 0, 1, 0, 0, 1, 1, 0, 0, 1, 0, 1, 1, 0, 0,\n",
       "       0, 1, 0, 1, 0, 0, 0, 0, 1, 0, 0, 1, 0, 0, 1, 0, 0, 1, 1, 0, 1, 1,\n",
       "       1, 0, 1, 0, 1, 1, 0, 1, 0, 1, 1, 1, 1, 0, 1, 1, 0, 0, 1, 1, 0, 1,\n",
       "       0, 1, 1, 1, 1, 0, 1, 0, 0, 0, 1, 1, 1, 0, 1, 1, 0, 1, 1, 1, 1, 0,\n",
       "       0, 1, 0, 1, 1, 1, 1, 1, 1, 1, 0, 1, 1, 0, 0, 1, 1, 0, 1, 1, 0, 1,\n",
       "       1, 0, 1, 1, 0, 1, 0, 1, 0, 1, 1, 0, 0, 1, 0, 1, 1, 0, 0, 0, 1, 1,\n",
       "       1, 1, 0, 1, 0, 1, 0, 1, 1, 0, 1, 1, 1, 0, 1, 1, 1, 0, 1, 0, 0, 1,\n",
       "       1, 1, 0, 0, 1, 1, 1, 1, 1, 0, 1, 0, 0, 1, 1, 0, 1, 1, 0, 0, 1, 0,\n",
       "       1, 1, 0, 1, 1, 0, 1, 1, 0, 1, 1, 1, 0, 0, 0, 0, 1, 1, 0, 1, 1, 1,\n",
       "       0, 0, 0, 0, 1, 1, 1, 1, 0, 1, 0, 1, 0, 1, 0, 1, 0, 0, 0, 1, 1, 1,\n",
       "       0, 1, 0, 1, 0, 0, 0, 1, 0, 1, 0, 0, 1, 0, 1, 0, 0, 1, 1, 0, 1, 0,\n",
       "       1, 1, 1, 0, 0, 0, 0, 1, 1, 0, 0, 1, 1, 1, 1, 1, 1, 0, 1, 1, 0, 1,\n",
       "       0, 0, 1, 1, 1, 0, 0, 0, 1, 0, 0, 1, 0, 0, 0, 1, 1, 1, 0, 0, 1, 1,\n",
       "       0, 1, 0, 0, 1, 1, 0, 0, 1, 1, 0, 0, 0, 1, 1, 1, 0, 0, 0, 1, 0, 1,\n",
       "       0, 0, 0, 1, 1, 1, 0, 1, 0, 0, 0, 1, 0, 0, 1, 1, 1, 1, 0, 1, 1, 1,\n",
       "       0, 1, 1, 1, 0, 1, 1, 0, 1, 0, 1, 1, 0, 1, 0, 0, 1, 0, 1, 1, 0, 1,\n",
       "       0, 0, 0, 0, 1, 0, 1, 0, 0, 0, 1, 0, 1, 0, 1, 0, 1, 1, 0, 0, 1, 1,\n",
       "       0, 1, 0, 0, 0, 1, 0, 1, 1, 0, 0, 1, 1, 0, 1, 0, 1, 0, 1, 1, 1, 0,\n",
       "       0, 0, 1, 1, 1, 1, 1, 0, 1, 0, 1, 0, 0, 1, 1, 0, 1, 1, 0, 0, 1, 0,\n",
       "       1, 0, 0, 0, 0, 1, 0, 0, 0, 0, 0, 0, 1, 0, 1, 0, 0, 0, 1, 1, 1, 0,\n",
       "       0, 1, 0, 1, 0, 0, 1, 0, 0, 1, 1, 1, 1, 1, 1, 0, 0, 0, 0, 0, 1, 0,\n",
       "       0, 0, 0, 1, 0, 1, 0, 0, 0, 0, 1, 0, 1, 1, 0, 1, 1, 0, 0, 0, 1, 1,\n",
       "       0, 1, 1, 1, 1, 1, 0, 1, 1, 1, 0, 1, 0, 1, 1, 1, 1, 0, 1, 1, 1, 1,\n",
       "       0, 0, 1, 0, 1, 0, 1, 1, 0, 1, 1, 0, 0, 1, 0, 1, 1, 1, 1, 1, 1, 1,\n",
       "       1, 1, 1, 0, 1, 1, 0, 0, 0, 1, 1, 1, 1, 1, 0, 1, 0, 1, 0, 0, 1, 0,\n",
       "       0, 1, 0, 0, 0, 0, 1, 1, 0, 1, 1, 1, 1, 1, 1, 1, 1, 0, 1, 1, 0, 0,\n",
       "       0, 0, 1, 0, 0, 0, 0, 1, 1, 0, 0, 0, 1, 1, 1, 0, 0, 0, 1, 1, 1, 1,\n",
       "       0, 0, 1, 0, 0, 1])"
      ]
     },
     "execution_count": 30,
     "metadata": {},
     "output_type": "execute_result"
    }
   ],
   "source": [
    "y_pred"
   ]
  },
  {
   "cell_type": "code",
   "execution_count": 31,
   "metadata": {
    "execution": {
     "iopub.execute_input": "2022-03-25T05:39:56.556741Z",
     "iopub.status.busy": "2022-03-25T05:39:56.556044Z",
     "iopub.status.idle": "2022-03-25T05:39:56.575558Z",
     "shell.execute_reply": "2022-03-25T05:39:56.574715Z",
     "shell.execute_reply.started": "2022-03-25T05:39:56.556712Z"
    }
   },
   "outputs": [
    {
     "name": "stdout",
     "output_type": "stream",
     "text": [
      "Accuracy score 0.7333333333333333\n",
      "Confusion matrix\n",
      " [[216  97]\n",
      " [ 63 224]]\n",
      "              precision    recall  f1-score   support\n",
      "\n",
      "           0       0.77      0.69      0.73       313\n",
      "           1       0.70      0.78      0.74       287\n",
      "\n",
      "    accuracy                           0.73       600\n",
      "   macro avg       0.74      0.74      0.73       600\n",
      "weighted avg       0.74      0.73      0.73       600\n",
      "\n"
     ]
    }
   ],
   "source": [
    "print(\"Accuracy score\", accuracy_score(y_test, y_pred))\n",
    "print(\"Confusion matrix\\n\", confusion_matrix(y_test, y_pred))\n",
    "print(classification_report(y_test,y_pred))"
   ]
  },
  {
   "cell_type": "code",
   "execution_count": 32,
   "metadata": {
    "execution": {
     "iopub.execute_input": "2022-03-25T05:39:56.577191Z",
     "iopub.status.busy": "2022-03-25T05:39:56.576547Z",
     "iopub.status.idle": "2022-03-25T05:39:56.722726Z",
     "shell.execute_reply": "2022-03-25T05:39:56.722063Z",
     "shell.execute_reply.started": "2022-03-25T05:39:56.577156Z"
    }
   },
   "outputs": [
    {
     "data": {
      "image/png": "[encoded data removed]",
      "text/plain": [
       "<Figure size 432x288 with 1 Axes>"
      ]
     },
     "metadata": {
      "needs_background": "light"
     },
     "output_type": "display_data"
    }
   ],
   "source": [
    "fpr_keras, tpr_keras, thresholds_keras = roc_curve(y_test, y_pred)\n",
    "auc_keras = auc(fpr_keras, tpr_keras)\n",
    "plt.figure(1)\n",
    "plt.plot([0, 1], [0, 1], 'k--')\n",
    "plt.plot(fpr_keras, tpr_keras, label='Keras (area = {:.3f})'.format(auc_keras))\n",
    "\n",
    "plt.xlabel('False positive rate')\n",
    "plt.ylabel('True positive rate')\n",
    "plt.title('ROC curve')\n",
    "plt.legend(loc='best')\n",
    "plt.show()"
   ]
  },
  {
   "cell_type": "code",
   "execution_count": 33,
   "metadata": {
    "execution": {
     "iopub.execute_input": "2022-03-25T05:39:56.724586Z",
     "iopub.status.busy": "2022-03-25T05:39:56.724114Z",
     "iopub.status.idle": "2022-03-25T05:39:56.729590Z",
     "shell.execute_reply": "2022-03-25T05:39:56.728696Z",
     "shell.execute_reply.started": "2022-03-25T05:39:56.724545Z"
    }
   },
   "outputs": [],
   "source": [
    "acc.append(accuracy_score(y_test, y_pred))\n",
    "auc_sc.append(auc_keras)"
   ]
  },
  {
   "cell_type": "markdown",
   "metadata": {},
   "source": [
    "#### K Nearest Neighbor"
   ]
  },
  {
   "cell_type": "code",
   "execution_count": 34,
   "metadata": {
    "execution": {
     "iopub.execute_input": "2022-03-25T05:40:11.850911Z",
     "iopub.status.busy": "2022-03-25T05:40:11.850366Z",
     "iopub.status.idle": "2022-03-25T05:40:54.625982Z",
     "shell.execute_reply": "2022-03-25T05:40:54.624987Z",
     "shell.execute_reply.started": "2022-03-25T05:40:11.850862Z"
    }
   },
   "outputs": [
    {
     "data": {
      "image/png": "[encoded data removed]",
      "text/plain": [
       "<Figure size 576x576 with 1 Axes>"
      ]
     },
     "metadata": {
      "needs_background": "light"
     },
     "output_type": "display_data"
    }
   ],
   "source": [
    "# find k\n",
    "clusters = [] #value of k\n",
    "accuracy = []\n",
    "cr = []\n",
    "cf = []\n",
    "\n",
    "for i in range(1,25):\n",
    "    knn = KNeighborsClassifier(n_neighbors = i, weights='distance') #manhattan distance\n",
    "    knn.fit(x_train, y_train)\n",
    "    y_pred = knn.predict(x_test)\n",
    "    clusters.append(i)\n",
    "    accuracy.append(accuracy_score(y_test, y_pred))\n",
    "    cr.append(classification_report(y_test, y_pred))\n",
    "    cf.append(confusion_matrix(y_test,y_pred))\n",
    "\n",
    "plt.figure(figsize=(8,8))\n",
    "plt.plot(clusters, accuracy)\n",
    "plt.xlabel(\"Clusters\")\n",
    "plt.ylabel(\"Accuracy\")\n",
    "plt.show()"
   ]
  },
  {
   "cell_type": "markdown",
   "metadata": {},
   "source": [
    "The value of k which gives the maximum accuracy for 2 or more epochs is to be considered. Here we select k=9,10,12 for accuracy=0.632"
   ]
  },
  {
   "cell_type": "code",
   "execution_count": 41,
   "metadata": {
    "execution": {
     "iopub.execute_input": "2022-03-25T05:45:30.006315Z",
     "iopub.status.busy": "2022-03-25T05:45:30.005686Z",
     "iopub.status.idle": "2022-03-25T05:45:30.012795Z",
     "shell.execute_reply": "2022-03-25T05:45:30.011658Z",
     "shell.execute_reply.started": "2022-03-25T05:45:30.006259Z"
    }
   },
   "outputs": [
    {
     "name": "stdout",
     "output_type": "stream",
     "text": [
      "Accuracy score 0.6316666666666667\n",
      "Confusion matrix\n",
      " [[136 177]\n",
      " [ 44 243]]\n",
      "              precision    recall  f1-score   support\n",
      "\n",
      "           0       0.76      0.43      0.55       313\n",
      "           1       0.58      0.85      0.69       287\n",
      "\n",
      "    accuracy                           0.63       600\n",
      "   macro avg       0.67      0.64      0.62       600\n",
      "weighted avg       0.67      0.63      0.62       600\n",
      "\n"
     ]
    }
   ],
   "source": [
    "print(\"Accuracy score\", accuracy[9])\n",
    "print(\"Confusion matrix\\n\", cf[9])\n",
    "print(cr[9])"
   ]
  },
  {
   "cell_type": "code",
   "execution_count": 42,
   "metadata": {
    "execution": {
     "iopub.execute_input": "2022-03-25T05:45:56.090037Z",
     "iopub.status.busy": "2022-03-25T05:45:56.089541Z",
     "iopub.status.idle": "2022-03-25T05:45:58.653668Z",
     "shell.execute_reply": "2022-03-25T05:45:58.652825Z",
     "shell.execute_reply.started": "2022-03-25T05:45:56.089996Z"
    }
   },
   "outputs": [
    {
     "data": {
      "image/png": "[encoded data removed]",
      "text/plain": [
       "<Figure size 432x288 with 1 Axes>"
      ]
     },
     "metadata": {
      "needs_background": "light"
     },
     "output_type": "display_data"
    }
   ],
   "source": [
    "knn = KNeighborsClassifier(n_neighbors = 10)\n",
    "knn.fit(x_train, y_train)\n",
    "y_pred = knn.predict(x_test)\n",
    "fpr_keras, tpr_keras, thresholds_keras = roc_curve(y_test, y_pred)\n",
    "auc_keras = auc(fpr_keras, tpr_keras)\n",
    "plt.figure(1)\n",
    "plt.plot([0, 1], [0, 1], 'k--')\n",
    "plt.plot(fpr_keras, tpr_keras, label='Keras (area = {:.3f})'.format(auc_keras))\n",
    "\n",
    "plt.xlabel('False positive rate')\n",
    "plt.ylabel('True positive rate')\n",
    "plt.title('ROC curve')\n",
    "plt.legend(loc='best')\n",
    "plt.show()"
   ]
  },
  {
   "cell_type": "code",
   "execution_count": 43,
   "metadata": {
    "execution": {
     "iopub.execute_input": "2022-03-25T05:46:12.505250Z",
     "iopub.status.busy": "2022-03-25T05:46:12.504967Z",
     "iopub.status.idle": "2022-03-25T05:46:12.510142Z",
     "shell.execute_reply": "2022-03-25T05:46:12.509169Z",
     "shell.execute_reply.started": "2022-03-25T05:46:12.505221Z"
    }
   },
   "outputs": [],
   "source": [
    "acc.append(accuracy[9])\n",
    "auc_sc.append(auc_keras)"
   ]
  },
  {
   "cell_type": "markdown",
   "metadata": {},
   "source": [
    "#### Random Forest"
   ]
  },
  {
   "cell_type": "code",
   "execution_count": 51,
   "metadata": {
    "execution": {
     "iopub.execute_input": "2022-03-25T05:51:03.841070Z",
     "iopub.status.busy": "2022-03-25T05:51:03.840785Z",
     "iopub.status.idle": "2022-03-25T05:51:08.946660Z",
     "shell.execute_reply": "2022-03-25T05:51:08.945611Z",
     "shell.execute_reply.started": "2022-03-25T05:51:03.841043Z"
    }
   },
   "outputs": [
    {
     "data": {
      "text/plain": [
       "RandomForestClassifier(max_features='log2', n_estimators=500, n_jobs=-1,\n",
       "                       random_state=0)"
      ]
     },
     "execution_count": 51,
     "metadata": {},
     "output_type": "execute_result"
    }
   ],
   "source": [
    "rf = RandomForestClassifier(n_estimators = 500, criterion = 'gini', max_features = 'log2', random_state = 0, n_jobs=-1) # criterion for splitting into branches is gini, and taking log2 to limit max_features, speeding up processing by using all processors\n",
    "rf.fit(x_train, y_train)"
   ]
  },
  {
   "cell_type": "code",
   "execution_count": 52,
   "metadata": {
    "execution": {
     "iopub.execute_input": "2022-03-25T05:51:11.109951Z",
     "iopub.status.busy": "2022-03-25T05:51:11.109425Z",
     "iopub.status.idle": "2022-03-25T05:51:11.525237Z",
     "shell.execute_reply": "2022-03-25T05:51:11.524226Z",
     "shell.execute_reply.started": "2022-03-25T05:51:11.109886Z"
    }
   },
   "outputs": [],
   "source": [
    "y_pred = rf.predict(x_test)"
   ]
  },
  {
   "cell_type": "code",
   "execution_count": 53,
   "metadata": {
    "execution": {
     "iopub.execute_input": "2022-03-25T05:51:11.705587Z",
     "iopub.status.busy": "2022-03-25T05:51:11.705334Z",
     "iopub.status.idle": "2022-03-25T05:51:11.720415Z",
     "shell.execute_reply": "2022-03-25T05:51:11.719329Z",
     "shell.execute_reply.started": "2022-03-25T05:51:11.705561Z"
    }
   },
   "outputs": [
    {
     "name": "stdout",
     "output_type": "stream",
     "text": [
      "Accuracy score 0.74\n",
      "Confusion matrix\n",
      " [[230  83]\n",
      " [ 73 214]]\n",
      "              precision    recall  f1-score   support\n",
      "\n",
      "           0       0.76      0.73      0.75       313\n",
      "           1       0.72      0.75      0.73       287\n",
      "\n",
      "    accuracy                           0.74       600\n",
      "   macro avg       0.74      0.74      0.74       600\n",
      "weighted avg       0.74      0.74      0.74       600\n",
      "\n"
     ]
    }
   ],
   "source": [
    "print(\"Accuracy score\", accuracy_score(y_test, y_pred))\n",
    "print(\"Confusion matrix\\n\", confusion_matrix(y_test, y_pred))\n",
    "print(classification_report(y_test,y_pred))"
   ]
  },
  {
   "cell_type": "code",
   "execution_count": 54,
   "metadata": {
    "execution": {
     "iopub.execute_input": "2022-03-25T05:51:15.104951Z",
     "iopub.status.busy": "2022-03-25T05:51:15.104495Z",
     "iopub.status.idle": "2022-03-25T05:51:15.301432Z",
     "shell.execute_reply": "2022-03-25T05:51:15.300824Z",
     "shell.execute_reply.started": "2022-03-25T05:51:15.104904Z"
    }
   },
   "outputs": [
    {
     "data": {
      "image/png": "[encoded data removed]",
      "text/plain": [
       "<Figure size 432x288 with 1 Axes>"
      ]
     },
     "metadata": {
      "needs_background": "light"
     },
     "output_type": "display_data"
    }
   ],
   "source": [
    "fpr_keras, tpr_keras, thresholds_keras = roc_curve(y_test, y_pred)\n",
    "auc_keras = auc(fpr_keras, tpr_keras)\n",
    "plt.figure(1)\n",
    "plt.plot([0, 1], [0, 1], 'k--')\n",
    "plt.plot(fpr_keras, tpr_keras, label='Keras (area = {:.3f})'.format(auc_keras))\n",
    "\n",
    "plt.xlabel('False positive rate')\n",
    "plt.ylabel('True positive rate')\n",
    "plt.title('ROC curve')\n",
    "plt.legend(loc='best')\n",
    "plt.show()"
   ]
  },
  {
   "cell_type": "code",
   "execution_count": 55,
   "metadata": {
    "execution": {
     "iopub.execute_input": "2022-03-25T05:51:21.845107Z",
     "iopub.status.busy": "2022-03-25T05:51:21.844629Z",
     "iopub.status.idle": "2022-03-25T05:51:21.850561Z",
     "shell.execute_reply": "2022-03-25T05:51:21.849677Z",
     "shell.execute_reply.started": "2022-03-25T05:51:21.845061Z"
    }
   },
   "outputs": [],
   "source": [
    "acc.append(accuracy_score(y_test, y_pred))\n",
    "auc_sc.append(auc_keras)"
   ]
  },
  {
   "cell_type": "markdown",
   "metadata": {},
   "source": [
    "#### Performance metrics"
   ]
  },
  {
   "cell_type": "code",
   "execution_count": 56,
   "metadata": {
    "execution": {
     "iopub.execute_input": "2022-03-25T05:51:24.010527Z",
     "iopub.status.busy": "2022-03-25T05:51:24.010067Z",
     "iopub.status.idle": "2022-03-25T05:51:24.016613Z",
     "shell.execute_reply": "2022-03-25T05:51:24.015598Z",
     "shell.execute_reply.started": "2022-03-25T05:51:24.010482Z"
    }
   },
   "outputs": [],
   "source": [
    "perf = pd.DataFrame(list(zip(acc, auc_sc)), index = algos, columns = ['Accuracy', 'AUC Score'])"
   ]
  },
  {
   "cell_type": "code",
   "execution_count": 57,
   "metadata": {
    "execution": {
     "iopub.execute_input": "2022-03-25T05:51:25.085527Z",
     "iopub.status.busy": "2022-03-25T05:51:25.085271Z",
     "iopub.status.idle": "2022-03-25T05:51:25.095012Z",
     "shell.execute_reply": "2022-03-25T05:51:25.094056Z",
     "shell.execute_reply.started": "2022-03-25T05:51:25.085502Z"
    }
   },
   "outputs": [
    {
     "data": {
      "text/html": [
       "<div>\n",
       "<style scoped>\n",
       "    .dataframe tbody tr th:only-of-type {\n",
       "        vertical-align: middle;\n",
       "    }\n",
       "\n",
       "    .dataframe tbody tr th {\n",
       "        vertical-align: top;\n",
       "    }\n",
       "\n",
       "    .dataframe thead th {\n",
       "        text-align: right;\n",
       "    }\n",
       "</style>\n",
       "<table border=\"1\" class=\"dataframe\">\n",
       "  <thead>\n",
       "    <tr style=\"text-align: right;\">\n",
       "      <th></th>\n",
       "      <th>Accuracy</th>\n",
       "      <th>AUC Score</th>\n",
       "    </tr>\n",
       "  </thead>\n",
       "  <tbody>\n",
       "    <tr>\n",
       "      <th>LogReg</th>\n",
       "      <td>0.630000</td>\n",
       "      <td>0.631475</td>\n",
       "    </tr>\n",
       "    <tr>\n",
       "      <th>GaussNB</th>\n",
       "      <td>0.733333</td>\n",
       "      <td>0.735292</td>\n",
       "    </tr>\n",
       "    <tr>\n",
       "      <th>KNN</th>\n",
       "      <td>0.631667</td>\n",
       "      <td>0.638855</td>\n",
       "    </tr>\n",
       "    <tr>\n",
       "      <th>RF</th>\n",
       "      <td>0.740000</td>\n",
       "      <td>0.740234</td>\n",
       "    </tr>\n",
       "  </tbody>\n",
       "</table>\n",
       "</div>"
      ],
      "text/plain": [
       "         Accuracy  AUC Score\n",
       "LogReg   0.630000   0.631475\n",
       "GaussNB  0.733333   0.735292\n",
       "KNN      0.631667   0.638855\n",
       "RF       0.740000   0.740234"
      ]
     },
     "execution_count": 57,
     "metadata": {},
     "output_type": "execute_result"
    }
   ],
   "source": [
    "perf"
   ]
  },
  {
   "cell_type": "markdown",
   "metadata": {},
   "source": [
    "#### Observation\n",
    "1. Here we observe that the accuracy and AUC scores have become nearly equal after managing the class imbalance issue. With some hyperparameter tuning in all the models, we observe increased accuracies and AUC scores in KNN and Gaussian Naive Bayes. Logistic Regression doesn't show much increase than the first notebook.\n",
    "2. Performance of Random Forest has gone down since the first notebook. It could be because of overfitting due to class imbalance in the previous models. \n",
    "3. Gaussian Naive Bayes has had the most performance boost out of all. \n",
    "4. Even though KNN has increased accuracy and AUC score now, it performs the worst for class 0. \n",
    "5. Both Random Forest and Gaussian Naive Bayes have comparable performance. However we can say Gaussian Naive Bayes is better since it has had the maximum improvement in performance while Random Forest's has gone down. "
   ]
  }
 ],
 "metadata": {
  "kernelspec": {
   "display_name": "Python 3 (ipykernel)",
   "language": "python",
   "name": "python3"
  },
  "language_info": {
   "codemirror_mode": {
    "name": "ipython",
    "version": 3
   },
   "file_extension": ".py",
   "mimetype": "text/x-python",
   "name": "python",
   "nbconvert_exporter": "python",
   "pygments_lexer": "ipython3",
   "version": "3.8.10"
  }
 },
 "nbformat": 4,
 "nbformat_minor": 4
}
