{
 "cells": [
  {
   "cell_type": "markdown",
   "metadata": {},
   "source": [
    "<pre>\n",
    "Name: Ritika Sarkar\n",
    "Reg. No.: 19BAI1031\n",
    "</pre>"
   ]
  },
  {
   "cell_type": "markdown",
   "metadata": {},
   "source": [
    "### Image Classification & Machine learning based Medical Image Classification"
   ]
  },
  {
   "cell_type": "markdown",
   "metadata": {},
   "source": [
    "Dataset - [Histopathologic Cancer Detection](https://www.kaggle.com/c/histopathologic-cancer-detection)"
   ]
  },
  {
   "cell_type": "markdown",
   "metadata": {},
   "source": [
    "#### Machine Learning - Preprocessing"
   ]
  },
  {
   "cell_type": "code",
   "execution_count": 5,
   "metadata": {
    "_cell_guid": "b1076dfc-b9ad-4769-8c92-a6c4dae69d19",
    "_uuid": "8f2839f25d086af736a60e9eeb907d3b93b6e0e5",
    "execution": {
     "iopub.execute_input": "2022-03-21T06:24:48.660616Z",
     "iopub.status.busy": "2022-03-21T06:24:48.660270Z",
     "iopub.status.idle": "2022-03-21T06:24:48.668705Z",
     "shell.execute_reply": "2022-03-21T06:24:48.666873Z",
     "shell.execute_reply.started": "2022-03-21T06:24:48.660572Z"
    }
   },
   "outputs": [],
   "source": [
    "# This Python 3 environment comes with many helpful analytics libraries installed\n",
    "# It is defined by the kaggle/python Docker image: https://github.com/kaggle/docker-python\n",
    "# For example, here's several helpful packages to load\n",
    "\n",
    "import numpy as np # linear algebra\n",
    "import pandas as pd # data processing, CSV file I/O (e.g. pd.read_csv)\n",
    "\n",
    "# Input data files are available in the read-only \"../input/\" directory\n",
    "# For example, running this (by clicking run or pressing Shift+Enter) will list all files under the input directory\n",
    "\n",
    "import os\n",
    "# for dirname, _, filenames in os.walk('/kaggle/input'):\n",
    "#     for filename in filenames:\n",
    "#         print(os.path.join(dirname, filename))\n"
   ]
  },
  {
   "cell_type": "code",
   "execution_count": 6,
   "metadata": {
    "execution": {
     "iopub.execute_input": "2022-03-21T06:24:48.671750Z",
     "iopub.status.busy": "2022-03-21T06:24:48.670984Z",
     "iopub.status.idle": "2022-03-21T06:24:48.681404Z",
     "shell.execute_reply": "2022-03-21T06:24:48.680511Z",
     "shell.execute_reply.started": "2022-03-21T06:24:48.671691Z"
    }
   },
   "outputs": [],
   "source": [
    "import cv2\n",
    "import matplotlib.pyplot as plt\n",
    "import numpy as np\n",
    "import random\n",
    "# from google.colab.patches import cv2_imshow\n",
    "import pandas as pd \n",
    "import os\n",
    "from skimage.transform import resize\n",
    "from skimage.io import imread"
   ]
  },
  {
   "cell_type": "code",
   "execution_count": 7,
   "metadata": {
    "execution": {
     "iopub.execute_input": "2022-03-21T06:24:48.683656Z",
     "iopub.status.busy": "2022-03-21T06:24:48.683044Z",
     "iopub.status.idle": "2022-03-21T06:24:48.696116Z",
     "shell.execute_reply": "2022-03-21T06:24:48.695123Z",
     "shell.execute_reply.started": "2022-03-21T06:24:48.683612Z"
    }
   },
   "outputs": [],
   "source": [
    "from sklearn.linear_model import LogisticRegression\n",
    "from sklearn.naive_bayes import GaussianNB\n",
    "from sklearn.neighbors import KNeighborsClassifier\n",
    "from sklearn.ensemble import RandomForestClassifier"
   ]
  },
  {
   "cell_type": "code",
   "execution_count": 8,
   "metadata": {
    "execution": {
     "iopub.execute_input": "2022-03-21T06:24:48.698261Z",
     "iopub.status.busy": "2022-03-21T06:24:48.697424Z",
     "iopub.status.idle": "2022-03-21T06:24:48.712871Z",
     "shell.execute_reply": "2022-03-21T06:24:48.710103Z",
     "shell.execute_reply.started": "2022-03-21T06:24:48.698211Z"
    }
   },
   "outputs": [],
   "source": [
    "from sklearn.metrics import accuracy_score,confusion_matrix, classification_report, roc_curve, auc"
   ]
  },
  {
   "cell_type": "code",
   "execution_count": 9,
   "metadata": {
    "execution": {
     "iopub.execute_input": "2022-03-21T06:24:48.716634Z",
     "iopub.status.busy": "2022-03-21T06:24:48.716248Z",
     "iopub.status.idle": "2022-03-21T06:24:49.017084Z",
     "shell.execute_reply": "2022-03-21T06:24:49.016153Z",
     "shell.execute_reply.started": "2022-03-21T06:24:48.716591Z"
    }
   },
   "outputs": [],
   "source": [
    "df = pd.read_csv('../input/histopathologic-cancer-detection/train_labels.csv')"
   ]
  },
  {
   "cell_type": "code",
   "execution_count": 10,
   "metadata": {
    "execution": {
     "iopub.execute_input": "2022-03-21T06:24:49.019361Z",
     "iopub.status.busy": "2022-03-21T06:24:49.019122Z",
     "iopub.status.idle": "2022-03-21T06:24:49.040445Z",
     "shell.execute_reply": "2022-03-21T06:24:49.039615Z",
     "shell.execute_reply.started": "2022-03-21T06:24:49.019334Z"
    }
   },
   "outputs": [
    {
     "data": {
      "text/html": [
       "<div>\n",
       "<style scoped>\n",
       "    .dataframe tbody tr th:only-of-type {\n",
       "        vertical-align: middle;\n",
       "    }\n",
       "\n",
       "    .dataframe tbody tr th {\n",
       "        vertical-align: top;\n",
       "    }\n",
       "\n",
       "    .dataframe thead th {\n",
       "        text-align: right;\n",
       "    }\n",
       "</style>\n",
       "<table border=\"1\" class=\"dataframe\">\n",
       "  <thead>\n",
       "    <tr style=\"text-align: right;\">\n",
       "      <th></th>\n",
       "      <th>id</th>\n",
       "      <th>label</th>\n",
       "    </tr>\n",
       "  </thead>\n",
       "  <tbody>\n",
       "    <tr>\n",
       "      <th>0</th>\n",
       "      <td>f38a6374c348f90b587e046aac6079959adf3835</td>\n",
       "      <td>0</td>\n",
       "    </tr>\n",
       "    <tr>\n",
       "      <th>1</th>\n",
       "      <td>c18f2d887b7ae4f6742ee445113fa1aef383ed77</td>\n",
       "      <td>1</td>\n",
       "    </tr>\n",
       "    <tr>\n",
       "      <th>2</th>\n",
       "      <td>755db6279dae599ebb4d39a9123cce439965282d</td>\n",
       "      <td>0</td>\n",
       "    </tr>\n",
       "    <tr>\n",
       "      <th>3</th>\n",
       "      <td>bc3f0c64fb968ff4a8bd33af6971ecae77c75e08</td>\n",
       "      <td>0</td>\n",
       "    </tr>\n",
       "    <tr>\n",
       "      <th>4</th>\n",
       "      <td>068aba587a4950175d04c680d38943fd488d6a9d</td>\n",
       "      <td>0</td>\n",
       "    </tr>\n",
       "  </tbody>\n",
       "</table>\n",
       "</div>"
      ],
      "text/plain": [
       "                                         id  label\n",
       "0  f38a6374c348f90b587e046aac6079959adf3835      0\n",
       "1  c18f2d887b7ae4f6742ee445113fa1aef383ed77      1\n",
       "2  755db6279dae599ebb4d39a9123cce439965282d      0\n",
       "3  bc3f0c64fb968ff4a8bd33af6971ecae77c75e08      0\n",
       "4  068aba587a4950175d04c680d38943fd488d6a9d      0"
      ]
     },
     "execution_count": 10,
     "metadata": {},
     "output_type": "execute_result"
    }
   ],
   "source": [
    "df.head()"
   ]
  },
  {
   "cell_type": "code",
   "execution_count": 11,
   "metadata": {
    "execution": {
     "iopub.execute_input": "2022-03-21T06:24:52.706468Z",
     "iopub.status.busy": "2022-03-21T06:24:52.706161Z",
     "iopub.status.idle": "2022-03-21T06:24:52.730133Z",
     "shell.execute_reply": "2022-03-21T06:24:52.729062Z",
     "shell.execute_reply.started": "2022-03-21T06:24:52.706436Z"
    }
   },
   "outputs": [],
   "source": [
    "image = plt.imread('../input/histopathologic-cancer-detection/train/'+df['id'][1]+'.tif')"
   ]
  },
  {
   "cell_type": "code",
   "execution_count": 12,
   "metadata": {
    "execution": {
     "iopub.execute_input": "2022-03-21T06:24:54.684504Z",
     "iopub.status.busy": "2022-03-21T06:24:54.684230Z",
     "iopub.status.idle": "2022-03-21T06:24:54.895631Z",
     "shell.execute_reply": "2022-03-21T06:24:54.894617Z",
     "shell.execute_reply.started": "2022-03-21T06:24:54.684477Z"
    }
   },
   "outputs": [
    {
     "data": {
      "text/plain": [
       "<matplotlib.image.AxesImage at 0x7fea9f037b90>"
      ]
     },
     "execution_count": 12,
     "metadata": {},
     "output_type": "execute_result"
    },
    {
     "data": {
      "image/png": "[encoded data removed]",
      "text/plain": [
       "<Figure size 432x288 with 1 Axes>"
      ]
     },
     "metadata": {
      "needs_background": "light"
     },
     "output_type": "display_data"
    }
   ],
   "source": [
    "plt.imshow(image)"
   ]
  },
  {
   "cell_type": "code",
   "execution_count": 18,
   "metadata": {
    "execution": {
     "iopub.execute_input": "2022-03-21T06:26:16.720295Z",
     "iopub.status.busy": "2022-03-21T06:26:16.719678Z",
     "iopub.status.idle": "2022-03-21T06:26:16.935502Z",
     "shell.execute_reply": "2022-03-21T06:26:16.934897Z",
     "shell.execute_reply.started": "2022-03-21T06:26:16.720255Z"
    }
   },
   "outputs": [
    {
     "data": {
      "text/plain": [
       "<matplotlib.image.AxesImage at 0x7fea9f10c210>"
      ]
     },
     "execution_count": 18,
     "metadata": {},
     "output_type": "execute_result"
    },
    {
     "data": {
      "image/png": "[encoded data removed]",
      "text/plain": [
       "<Figure size 432x288 with 1 Axes>"
      ]
     },
     "metadata": {
      "needs_background": "light"
     },
     "output_type": "display_data"
    }
   ],
   "source": [
    "# preprocessing - Simple thresholding - Truncated threshold\n",
    "# source image, thresholdValue, maxVal, technique\n",
    "ret, thresh = cv2.threshold(image, 120, 255, cv2.THRESH_TRUNC)\n",
    "plt.imshow(thresh)"
   ]
  },
  {
   "cell_type": "code",
   "execution_count": 19,
   "metadata": {
    "execution": {
     "iopub.execute_input": "2022-03-21T06:27:30.043725Z",
     "iopub.status.busy": "2022-03-21T06:27:30.043427Z",
     "iopub.status.idle": "2022-03-21T06:27:30.049458Z",
     "shell.execute_reply": "2022-03-21T06:27:30.048747Z",
     "shell.execute_reply.started": "2022-03-21T06:27:30.043697Z"
    }
   },
   "outputs": [
    {
     "data": {
      "text/plain": [
       "220025"
      ]
     },
     "execution_count": 19,
     "metadata": {},
     "output_type": "execute_result"
    }
   ],
   "source": [
    "df.shape[0]"
   ]
  },
  {
   "cell_type": "code",
   "execution_count": 20,
   "metadata": {
    "execution": {
     "iopub.execute_input": "2022-03-21T06:27:36.759495Z",
     "iopub.status.busy": "2022-03-21T06:27:36.759077Z",
     "iopub.status.idle": "2022-03-21T06:27:36.774508Z",
     "shell.execute_reply": "2022-03-21T06:27:36.773528Z",
     "shell.execute_reply.started": "2022-03-21T06:27:36.759466Z"
    }
   },
   "outputs": [],
   "source": [
    "# taking a subset of the dataset due to memory error\n",
    "dfnew = df.sample(n=500) # 500 samples"
   ]
  },
  {
   "cell_type": "code",
   "execution_count": 21,
   "metadata": {
    "execution": {
     "iopub.execute_input": "2022-03-21T06:27:38.020679Z",
     "iopub.status.busy": "2022-03-21T06:27:38.019930Z",
     "iopub.status.idle": "2022-03-21T06:27:38.034707Z",
     "shell.execute_reply": "2022-03-21T06:27:38.033739Z",
     "shell.execute_reply.started": "2022-03-21T06:27:38.020635Z"
    }
   },
   "outputs": [
    {
     "data": {
      "text/plain": [
       "0    292\n",
       "1    208\n",
       "Name: label, dtype: int64"
      ]
     },
     "execution_count": 21,
     "metadata": {},
     "output_type": "execute_result"
    }
   ],
   "source": [
    "dfnew['label'].value_counts() # class imbalance"
   ]
  },
  {
   "cell_type": "code",
   "execution_count": 22,
   "metadata": {
    "execution": {
     "iopub.execute_input": "2022-03-21T06:27:39.465018Z",
     "iopub.status.busy": "2022-03-21T06:27:39.464113Z",
     "iopub.status.idle": "2022-03-21T06:27:39.469633Z",
     "shell.execute_reply": "2022-03-21T06:27:39.468712Z",
     "shell.execute_reply.started": "2022-03-21T06:27:39.464967Z"
    }
   },
   "outputs": [],
   "source": [
    "dfnew.reset_index(drop = True, inplace = True)"
   ]
  },
  {
   "cell_type": "code",
   "execution_count": 23,
   "metadata": {
    "execution": {
     "iopub.execute_input": "2022-03-21T06:27:41.722298Z",
     "iopub.status.busy": "2022-03-21T06:27:41.721613Z",
     "iopub.status.idle": "2022-03-21T06:27:41.732335Z",
     "shell.execute_reply": "2022-03-21T06:27:41.731409Z",
     "shell.execute_reply.started": "2022-03-21T06:27:41.722255Z"
    }
   },
   "outputs": [
    {
     "data": {
      "text/html": [
       "<div>\n",
       "<style scoped>\n",
       "    .dataframe tbody tr th:only-of-type {\n",
       "        vertical-align: middle;\n",
       "    }\n",
       "\n",
       "    .dataframe tbody tr th {\n",
       "        vertical-align: top;\n",
       "    }\n",
       "\n",
       "    .dataframe thead th {\n",
       "        text-align: right;\n",
       "    }\n",
       "</style>\n",
       "<table border=\"1\" class=\"dataframe\">\n",
       "  <thead>\n",
       "    <tr style=\"text-align: right;\">\n",
       "      <th></th>\n",
       "      <th>id</th>\n",
       "      <th>label</th>\n",
       "    </tr>\n",
       "  </thead>\n",
       "  <tbody>\n",
       "    <tr>\n",
       "      <th>0</th>\n",
       "      <td>e5013daa1f2fb057e742f527d1623a30fe5669cc</td>\n",
       "      <td>0</td>\n",
       "    </tr>\n",
       "    <tr>\n",
       "      <th>1</th>\n",
       "      <td>cb599fd0f9caa951f5f89f1f2a87bcd1f75e9a81</td>\n",
       "      <td>0</td>\n",
       "    </tr>\n",
       "    <tr>\n",
       "      <th>2</th>\n",
       "      <td>3c7a946a1a81761cec0bfc108760bf6e26fff559</td>\n",
       "      <td>1</td>\n",
       "    </tr>\n",
       "    <tr>\n",
       "      <th>3</th>\n",
       "      <td>b319bc3652b917a1553a6a5311eeb6700dd878a3</td>\n",
       "      <td>1</td>\n",
       "    </tr>\n",
       "    <tr>\n",
       "      <th>4</th>\n",
       "      <td>c1f6507c46341f4e80bf6ee89a8154a3e83ebc5c</td>\n",
       "      <td>1</td>\n",
       "    </tr>\n",
       "  </tbody>\n",
       "</table>\n",
       "</div>"
      ],
      "text/plain": [
       "                                         id  label\n",
       "0  e5013daa1f2fb057e742f527d1623a30fe5669cc      0\n",
       "1  cb599fd0f9caa951f5f89f1f2a87bcd1f75e9a81      0\n",
       "2  3c7a946a1a81761cec0bfc108760bf6e26fff559      1\n",
       "3  b319bc3652b917a1553a6a5311eeb6700dd878a3      1\n",
       "4  c1f6507c46341f4e80bf6ee89a8154a3e83ebc5c      1"
      ]
     },
     "execution_count": 23,
     "metadata": {},
     "output_type": "execute_result"
    }
   ],
   "source": [
    "dfnew.head()"
   ]
  },
  {
   "cell_type": "code",
   "execution_count": 24,
   "metadata": {
    "execution": {
     "iopub.execute_input": "2022-03-21T06:28:00.774562Z",
     "iopub.status.busy": "2022-03-21T06:28:00.773976Z",
     "iopub.status.idle": "2022-03-21T06:28:05.709238Z",
     "shell.execute_reply": "2022-03-21T06:28:05.708388Z",
     "shell.execute_reply.started": "2022-03-21T06:28:00.774497Z"
    }
   },
   "outputs": [],
   "source": [
    "flat_data_arr = [] #input array\n",
    "target_arr = [] #output array\n",
    "datadir = '../input/histopathologic-cancer-detection/train/'\n",
    "\n",
    "#path which contains all the categories of images\n",
    "for i in range(dfnew.shape[0]):\n",
    "    img = dfnew['id'][i] + '.tif'\n",
    "    img_array = imread(os.path.join(datadir,img)) # color image contains more information\n",
    "#     grayimg = cv2.cvtColor(img_array, cv2.COLOR_BGR2GRAY)\n",
    "    ret, thresh = cv2.threshold(img_array, 120, 255, cv2.THRESH_TRUNC) # thresholding - preprocessing\n",
    "    img_resized = resize(thresh,(96,96,3)) # flattening the image, pixels serve as features\n",
    "    flat_data_arr.append(img_resized.flatten())\n",
    "    target_arr.append(dfnew['label'][i])"
   ]
  },
  {
   "cell_type": "code",
   "execution_count": 25,
   "metadata": {
    "execution": {
     "iopub.execute_input": "2022-03-21T06:28:08.093253Z",
     "iopub.status.busy": "2022-03-21T06:28:08.092719Z",
     "iopub.status.idle": "2022-03-21T06:28:08.159591Z",
     "shell.execute_reply": "2022-03-21T06:28:08.158515Z",
     "shell.execute_reply.started": "2022-03-21T06:28:08.093202Z"
    }
   },
   "outputs": [],
   "source": [
    "flat_data = np.array(flat_data_arr)\n",
    "target = np.array(target_arr)\n",
    "dfn = pd.DataFrame(flat_data) #dataframe\n",
    "dfn['Target'] = target"
   ]
  },
  {
   "cell_type": "code",
   "execution_count": 26,
   "metadata": {
    "execution": {
     "iopub.execute_input": "2022-03-21T06:28:10.667471Z",
     "iopub.status.busy": "2022-03-21T06:28:10.667012Z",
     "iopub.status.idle": "2022-03-21T06:28:10.697426Z",
     "shell.execute_reply": "2022-03-21T06:28:10.696603Z",
     "shell.execute_reply.started": "2022-03-21T06:28:10.667420Z"
    }
   },
   "outputs": [
    {
     "data": {
      "text/html": [
       "<div>\n",
       "<style scoped>\n",
       "    .dataframe tbody tr th:only-of-type {\n",
       "        vertical-align: middle;\n",
       "    }\n",
       "\n",
       "    .dataframe tbody tr th {\n",
       "        vertical-align: top;\n",
       "    }\n",
       "\n",
       "    .dataframe thead th {\n",
       "        text-align: right;\n",
       "    }\n",
       "</style>\n",
       "<table border=\"1\" class=\"dataframe\">\n",
       "  <thead>\n",
       "    <tr style=\"text-align: right;\">\n",
       "      <th></th>\n",
       "      <th>0</th>\n",
       "      <th>1</th>\n",
       "      <th>2</th>\n",
       "      <th>3</th>\n",
       "      <th>4</th>\n",
       "      <th>5</th>\n",
       "      <th>6</th>\n",
       "      <th>7</th>\n",
       "      <th>8</th>\n",
       "      <th>9</th>\n",
       "      <th>...</th>\n",
       "      <th>27639</th>\n",
       "      <th>27640</th>\n",
       "      <th>27641</th>\n",
       "      <th>27642</th>\n",
       "      <th>27643</th>\n",
       "      <th>27644</th>\n",
       "      <th>27645</th>\n",
       "      <th>27646</th>\n",
       "      <th>27647</th>\n",
       "      <th>Target</th>\n",
       "    </tr>\n",
       "  </thead>\n",
       "  <tbody>\n",
       "    <tr>\n",
       "      <th>0</th>\n",
       "      <td>0.470588</td>\n",
       "      <td>0.470588</td>\n",
       "      <td>0.470588</td>\n",
       "      <td>0.470588</td>\n",
       "      <td>0.470588</td>\n",
       "      <td>0.470588</td>\n",
       "      <td>0.470588</td>\n",
       "      <td>0.470588</td>\n",
       "      <td>0.470588</td>\n",
       "      <td>0.470588</td>\n",
       "      <td>...</td>\n",
       "      <td>0.415686</td>\n",
       "      <td>0.227451</td>\n",
       "      <td>0.392157</td>\n",
       "      <td>0.470588</td>\n",
       "      <td>0.309804</td>\n",
       "      <td>0.470588</td>\n",
       "      <td>0.470588</td>\n",
       "      <td>0.470588</td>\n",
       "      <td>0.470588</td>\n",
       "      <td>0</td>\n",
       "    </tr>\n",
       "    <tr>\n",
       "      <th>1</th>\n",
       "      <td>0.298039</td>\n",
       "      <td>0.172549</td>\n",
       "      <td>0.325490</td>\n",
       "      <td>0.223529</td>\n",
       "      <td>0.094118</td>\n",
       "      <td>0.270588</td>\n",
       "      <td>0.219608</td>\n",
       "      <td>0.094118</td>\n",
       "      <td>0.247059</td>\n",
       "      <td>0.329412</td>\n",
       "      <td>...</td>\n",
       "      <td>0.470588</td>\n",
       "      <td>0.470588</td>\n",
       "      <td>0.470588</td>\n",
       "      <td>0.470588</td>\n",
       "      <td>0.470588</td>\n",
       "      <td>0.470588</td>\n",
       "      <td>0.470588</td>\n",
       "      <td>0.470588</td>\n",
       "      <td>0.470588</td>\n",
       "      <td>0</td>\n",
       "    </tr>\n",
       "    <tr>\n",
       "      <th>2</th>\n",
       "      <td>0.443137</td>\n",
       "      <td>0.294118</td>\n",
       "      <td>0.470588</td>\n",
       "      <td>0.211765</td>\n",
       "      <td>0.058824</td>\n",
       "      <td>0.266667</td>\n",
       "      <td>0.219608</td>\n",
       "      <td>0.078431</td>\n",
       "      <td>0.227451</td>\n",
       "      <td>0.415686</td>\n",
       "      <td>...</td>\n",
       "      <td>0.470588</td>\n",
       "      <td>0.470588</td>\n",
       "      <td>0.470588</td>\n",
       "      <td>0.470588</td>\n",
       "      <td>0.470588</td>\n",
       "      <td>0.470588</td>\n",
       "      <td>0.470588</td>\n",
       "      <td>0.470588</td>\n",
       "      <td>0.470588</td>\n",
       "      <td>1</td>\n",
       "    </tr>\n",
       "    <tr>\n",
       "      <th>3</th>\n",
       "      <td>0.470588</td>\n",
       "      <td>0.396078</td>\n",
       "      <td>0.470588</td>\n",
       "      <td>0.470588</td>\n",
       "      <td>0.364706</td>\n",
       "      <td>0.470588</td>\n",
       "      <td>0.470588</td>\n",
       "      <td>0.423529</td>\n",
       "      <td>0.470588</td>\n",
       "      <td>0.470588</td>\n",
       "      <td>...</td>\n",
       "      <td>0.278431</td>\n",
       "      <td>0.113725</td>\n",
       "      <td>0.254902</td>\n",
       "      <td>0.470588</td>\n",
       "      <td>0.317647</td>\n",
       "      <td>0.439216</td>\n",
       "      <td>0.470588</td>\n",
       "      <td>0.423529</td>\n",
       "      <td>0.470588</td>\n",
       "      <td>1</td>\n",
       "    </tr>\n",
       "    <tr>\n",
       "      <th>4</th>\n",
       "      <td>0.470588</td>\n",
       "      <td>0.372549</td>\n",
       "      <td>0.470588</td>\n",
       "      <td>0.470588</td>\n",
       "      <td>0.470588</td>\n",
       "      <td>0.470588</td>\n",
       "      <td>0.470588</td>\n",
       "      <td>0.396078</td>\n",
       "      <td>0.470588</td>\n",
       "      <td>0.470588</td>\n",
       "      <td>...</td>\n",
       "      <td>0.360784</td>\n",
       "      <td>0.196078</td>\n",
       "      <td>0.352941</td>\n",
       "      <td>0.309804</td>\n",
       "      <td>0.160784</td>\n",
       "      <td>0.313725</td>\n",
       "      <td>0.258824</td>\n",
       "      <td>0.117647</td>\n",
       "      <td>0.266667</td>\n",
       "      <td>1</td>\n",
       "    </tr>\n",
       "  </tbody>\n",
       "</table>\n",
       "<p>5 rows × 27649 columns</p>\n",
       "</div>"
      ],
      "text/plain": [
       "          0         1         2         3         4         5         6  \\\n",
       "0  0.470588  0.470588  0.470588  0.470588  0.470588  0.470588  0.470588   \n",
       "1  0.298039  0.172549  0.325490  0.223529  0.094118  0.270588  0.219608   \n",
       "2  0.443137  0.294118  0.470588  0.211765  0.058824  0.266667  0.219608   \n",
       "3  0.470588  0.396078  0.470588  0.470588  0.364706  0.470588  0.470588   \n",
       "4  0.470588  0.372549  0.470588  0.470588  0.470588  0.470588  0.470588   \n",
       "\n",
       "          7         8         9  ...     27639     27640     27641     27642  \\\n",
       "0  0.470588  0.470588  0.470588  ...  0.415686  0.227451  0.392157  0.470588   \n",
       "1  0.094118  0.247059  0.329412  ...  0.470588  0.470588  0.470588  0.470588   \n",
       "2  0.078431  0.227451  0.415686  ...  0.470588  0.470588  0.470588  0.470588   \n",
       "3  0.423529  0.470588  0.470588  ...  0.278431  0.113725  0.254902  0.470588   \n",
       "4  0.396078  0.470588  0.470588  ...  0.360784  0.196078  0.352941  0.309804   \n",
       "\n",
       "      27643     27644     27645     27646     27647  Target  \n",
       "0  0.309804  0.470588  0.470588  0.470588  0.470588       0  \n",
       "1  0.470588  0.470588  0.470588  0.470588  0.470588       0  \n",
       "2  0.470588  0.470588  0.470588  0.470588  0.470588       1  \n",
       "3  0.317647  0.439216  0.470588  0.423529  0.470588       1  \n",
       "4  0.160784  0.313725  0.258824  0.117647  0.266667       1  \n",
       "\n",
       "[5 rows x 27649 columns]"
      ]
     },
     "execution_count": 26,
     "metadata": {},
     "output_type": "execute_result"
    }
   ],
   "source": [
    "dfn.head()"
   ]
  },
  {
   "cell_type": "code",
   "execution_count": 27,
   "metadata": {
    "execution": {
     "iopub.execute_input": "2022-03-21T06:28:14.385788Z",
     "iopub.status.busy": "2022-03-21T06:28:14.385458Z",
     "iopub.status.idle": "2022-03-21T06:28:14.445025Z",
     "shell.execute_reply": "2022-03-21T06:28:14.444065Z",
     "shell.execute_reply.started": "2022-03-21T06:28:14.385754Z"
    }
   },
   "outputs": [],
   "source": [
    "x = dfn.iloc[:,:-1] #input data \n",
    "y = dfn.iloc[:,-1] #output data"
   ]
  },
  {
   "cell_type": "code",
   "execution_count": 28,
   "metadata": {
    "execution": {
     "iopub.execute_input": "2022-03-21T06:28:14.756504Z",
     "iopub.status.busy": "2022-03-21T06:28:14.756229Z",
     "iopub.status.idle": "2022-03-21T06:28:14.765345Z",
     "shell.execute_reply": "2022-03-21T06:28:14.764151Z",
     "shell.execute_reply.started": "2022-03-21T06:28:14.756468Z"
    }
   },
   "outputs": [
    {
     "data": {
      "text/plain": [
       "0      0\n",
       "1      0\n",
       "2      1\n",
       "3      1\n",
       "4      1\n",
       "      ..\n",
       "495    0\n",
       "496    1\n",
       "497    0\n",
       "498    0\n",
       "499    0\n",
       "Name: Target, Length: 500, dtype: int64"
      ]
     },
     "execution_count": 28,
     "metadata": {},
     "output_type": "execute_result"
    }
   ],
   "source": [
    "y"
   ]
  },
  {
   "cell_type": "code",
   "execution_count": 29,
   "metadata": {
    "execution": {
     "iopub.execute_input": "2022-03-21T06:28:16.825950Z",
     "iopub.status.busy": "2022-03-21T06:28:16.825649Z",
     "iopub.status.idle": "2022-03-21T06:28:16.884473Z",
     "shell.execute_reply": "2022-03-21T06:28:16.883409Z",
     "shell.execute_reply.started": "2022-03-21T06:28:16.825917Z"
    }
   },
   "outputs": [],
   "source": [
    "from sklearn.model_selection import train_test_split\n",
    "x_train,x_test,y_train,y_test = train_test_split(x, y, test_size = 0.20, random_state = 42)"
   ]
  },
  {
   "cell_type": "code",
   "execution_count": 30,
   "metadata": {
    "execution": {
     "iopub.execute_input": "2022-03-21T06:28:18.111815Z",
     "iopub.status.busy": "2022-03-21T06:28:18.111511Z",
     "iopub.status.idle": "2022-03-21T06:28:18.116800Z",
     "shell.execute_reply": "2022-03-21T06:28:18.115708Z",
     "shell.execute_reply.started": "2022-03-21T06:28:18.111785Z"
    }
   },
   "outputs": [],
   "source": [
    "# metrics consolidated\n",
    "algos = ['LogReg', 'GaussNB','KNN','RF']\n",
    "acc = []\n",
    "auc_sc = []"
   ]
  },
  {
   "cell_type": "markdown",
   "metadata": {},
   "source": [
    "#### Logistic Regression"
   ]
  },
  {
   "cell_type": "code",
   "execution_count": 31,
   "metadata": {
    "execution": {
     "iopub.execute_input": "2022-03-21T06:28:20.898446Z",
     "iopub.status.busy": "2022-03-21T06:28:20.898173Z",
     "iopub.status.idle": "2022-03-21T06:30:48.828649Z",
     "shell.execute_reply": "2022-03-21T06:30:48.827696Z",
     "shell.execute_reply.started": "2022-03-21T06:28:20.898418Z"
    }
   },
   "outputs": [
    {
     "name": "stderr",
     "output_type": "stream",
     "text": [
      "/opt/conda/lib/python3.7/site-packages/sklearn/svm/_base.py:1208: ConvergenceWarning: Liblinear failed to converge, increase the number of iterations.\n",
      "  ConvergenceWarning,\n"
     ]
    },
    {
     "data": {
      "text/plain": [
       "LogisticRegression(dual=True, max_iter=5000, solver='liblinear')"
      ]
     },
     "execution_count": 31,
     "metadata": {},
     "output_type": "execute_result"
    }
   ],
   "source": [
    "logistic = LogisticRegression(solver='liblinear', dual=True, max_iter=5000) # dual = True as n_samples < n_features, max_iter has to be increased more to remove convergence warning\n",
    "logistic.fit(x_train, y_train)"
   ]
  },
  {
   "cell_type": "code",
   "execution_count": 32,
   "metadata": {
    "execution": {
     "iopub.execute_input": "2022-03-21T06:30:48.830965Z",
     "iopub.status.busy": "2022-03-21T06:30:48.830659Z",
     "iopub.status.idle": "2022-03-21T06:30:49.089088Z",
     "shell.execute_reply": "2022-03-21T06:30:49.087881Z",
     "shell.execute_reply.started": "2022-03-21T06:30:48.830923Z"
    }
   },
   "outputs": [],
   "source": [
    "y_pred = logistic.predict(x_test)"
   ]
  },
  {
   "cell_type": "code",
   "execution_count": 33,
   "metadata": {
    "execution": {
     "iopub.execute_input": "2022-03-21T06:30:49.091431Z",
     "iopub.status.busy": "2022-03-21T06:30:49.090861Z",
     "iopub.status.idle": "2022-03-21T06:30:49.100089Z",
     "shell.execute_reply": "2022-03-21T06:30:49.099078Z",
     "shell.execute_reply.started": "2022-03-21T06:30:49.091381Z"
    }
   },
   "outputs": [
    {
     "data": {
      "text/plain": [
       "array([0, 0, 1, 0, 1, 0, 1, 0, 0, 0, 1, 0, 0, 1, 1, 0, 0, 1, 1, 0, 0, 1,\n",
       "       1, 0, 0, 1, 1, 1, 0, 0, 0, 1, 0, 0, 1, 0, 1, 1, 1, 0, 0, 1, 0, 0,\n",
       "       1, 1, 1, 1, 0, 0, 1, 1, 0, 0, 0, 0, 0, 0, 0, 1, 1, 0, 1, 0, 0, 0,\n",
       "       1, 1, 1, 1, 0, 0, 0, 1, 1, 0, 0, 0, 0, 0, 1, 0, 1, 0, 0, 1, 0, 0,\n",
       "       0, 1, 0, 1, 0, 0, 1, 1, 1, 0, 0, 1])"
      ]
     },
     "execution_count": 33,
     "metadata": {},
     "output_type": "execute_result"
    }
   ],
   "source": [
    "y_pred"
   ]
  },
  {
   "cell_type": "code",
   "execution_count": 34,
   "metadata": {
    "execution": {
     "iopub.execute_input": "2022-03-21T06:30:49.102934Z",
     "iopub.status.busy": "2022-03-21T06:30:49.102498Z",
     "iopub.status.idle": "2022-03-21T06:30:49.128851Z",
     "shell.execute_reply": "2022-03-21T06:30:49.127764Z",
     "shell.execute_reply.started": "2022-03-21T06:30:49.102885Z"
    }
   },
   "outputs": [
    {
     "name": "stdout",
     "output_type": "stream",
     "text": [
      "Accuracy score 0.62\n",
      "Confusion matrix\n",
      " [[42 23]\n",
      " [15 20]]\n",
      "              precision    recall  f1-score   support\n",
      "\n",
      "           0       0.74      0.65      0.69        65\n",
      "           1       0.47      0.57      0.51        35\n",
      "\n",
      "    accuracy                           0.62       100\n",
      "   macro avg       0.60      0.61      0.60       100\n",
      "weighted avg       0.64      0.62      0.63       100\n",
      "\n"
     ]
    }
   ],
   "source": [
    "print(\"Accuracy score\", accuracy_score(y_test, y_pred))\n",
    "print(\"Confusion matrix\\n\", confusion_matrix(y_test, y_pred))\n",
    "print(classification_report(y_test,y_pred))"
   ]
  },
  {
   "cell_type": "code",
   "execution_count": 35,
   "metadata": {
    "execution": {
     "iopub.execute_input": "2022-03-21T06:30:49.132224Z",
     "iopub.status.busy": "2022-03-21T06:30:49.131280Z",
     "iopub.status.idle": "2022-03-21T06:30:49.378705Z",
     "shell.execute_reply": "2022-03-21T06:30:49.377971Z",
     "shell.execute_reply.started": "2022-03-21T06:30:49.132159Z"
    }
   },
   "outputs": [
    {
     "data": {
      "image/png": "[encoded data removed]",
      "text/plain": [
       "<Figure size 432x288 with 1 Axes>"
      ]
     },
     "metadata": {
      "needs_background": "light"
     },
     "output_type": "display_data"
    }
   ],
   "source": [
    "fpr_keras, tpr_keras, thresholds_keras = roc_curve(y_test, y_pred)\n",
    "auc_keras = auc(fpr_keras, tpr_keras)\n",
    "plt.figure(1)\n",
    "plt.plot([0, 1], [0, 1], 'k--')\n",
    "plt.plot(fpr_keras, tpr_keras, label='Keras (area = {:.3f})'.format(auc_keras))\n",
    "\n",
    "plt.xlabel('False positive rate')\n",
    "plt.ylabel('True positive rate')\n",
    "plt.title('ROC curve')\n",
    "plt.legend(loc='best')\n",
    "plt.show()"
   ]
  },
  {
   "cell_type": "code",
   "execution_count": 36,
   "metadata": {
    "execution": {
     "iopub.execute_input": "2022-03-21T06:30:49.380507Z",
     "iopub.status.busy": "2022-03-21T06:30:49.380218Z",
     "iopub.status.idle": "2022-03-21T06:30:49.386051Z",
     "shell.execute_reply": "2022-03-21T06:30:49.384974Z",
     "shell.execute_reply.started": "2022-03-21T06:30:49.380475Z"
    }
   },
   "outputs": [],
   "source": [
    "acc.append(accuracy_score(y_test, y_pred))\n",
    "auc_sc.append(auc_keras)"
   ]
  },
  {
   "cell_type": "markdown",
   "metadata": {},
   "source": [
    "#### Gaussian Bayes"
   ]
  },
  {
   "cell_type": "code",
   "execution_count": 37,
   "metadata": {
    "execution": {
     "iopub.execute_input": "2022-03-21T06:32:13.626594Z",
     "iopub.status.busy": "2022-03-21T06:32:13.626274Z",
     "iopub.status.idle": "2022-03-21T06:32:14.046795Z",
     "shell.execute_reply": "2022-03-21T06:32:14.046024Z",
     "shell.execute_reply.started": "2022-03-21T06:32:13.626554Z"
    }
   },
   "outputs": [
    {
     "data": {
      "text/plain": [
       "GaussianNB()"
      ]
     },
     "execution_count": 37,
     "metadata": {},
     "output_type": "execute_result"
    }
   ],
   "source": [
    "gnb = GaussianNB()\n",
    "gnb.fit(x_train, y_train)"
   ]
  },
  {
   "cell_type": "code",
   "execution_count": 38,
   "metadata": {
    "execution": {
     "iopub.execute_input": "2022-03-21T06:32:17.208805Z",
     "iopub.status.busy": "2022-03-21T06:32:17.208472Z",
     "iopub.status.idle": "2022-03-21T06:32:17.499043Z",
     "shell.execute_reply": "2022-03-21T06:32:17.498174Z",
     "shell.execute_reply.started": "2022-03-21T06:32:17.208773Z"
    }
   },
   "outputs": [],
   "source": [
    "y_pred = gnb.predict(x_test)"
   ]
  },
  {
   "cell_type": "code",
   "execution_count": 39,
   "metadata": {
    "execution": {
     "iopub.execute_input": "2022-03-21T06:32:17.710686Z",
     "iopub.status.busy": "2022-03-21T06:32:17.710372Z",
     "iopub.status.idle": "2022-03-21T06:32:17.717247Z",
     "shell.execute_reply": "2022-03-21T06:32:17.716363Z",
     "shell.execute_reply.started": "2022-03-21T06:32:17.710650Z"
    }
   },
   "outputs": [
    {
     "data": {
      "text/plain": [
       "array([1, 1, 0, 1, 0, 1, 0, 1, 1, 1, 1, 1, 0, 0, 0, 1, 0, 1, 0, 1, 0, 1,\n",
       "       1, 1, 1, 0, 0, 1, 1, 1, 1, 0, 1, 1, 0, 1, 1, 0, 1, 1, 1, 1, 1, 0,\n",
       "       1, 0, 0, 1, 0, 1, 1, 1, 0, 1, 1, 1, 1, 1, 1, 0, 1, 1, 0, 1, 0, 0,\n",
       "       0, 1, 0, 0, 1, 1, 0, 1, 0, 1, 1, 1, 1, 1, 0, 1, 1, 1, 1, 0, 1, 0,\n",
       "       1, 0, 1, 0, 1, 1, 0, 0, 0, 1, 1, 1])"
      ]
     },
     "execution_count": 39,
     "metadata": {},
     "output_type": "execute_result"
    }
   ],
   "source": [
    "y_pred"
   ]
  },
  {
   "cell_type": "code",
   "execution_count": 40,
   "metadata": {
    "execution": {
     "iopub.execute_input": "2022-03-21T06:32:19.064001Z",
     "iopub.status.busy": "2022-03-21T06:32:19.063714Z",
     "iopub.status.idle": "2022-03-21T06:32:19.079328Z",
     "shell.execute_reply": "2022-03-21T06:32:19.078288Z",
     "shell.execute_reply.started": "2022-03-21T06:32:19.063971Z"
    }
   },
   "outputs": [
    {
     "name": "stdout",
     "output_type": "stream",
     "text": [
      "Accuracy score 0.51\n",
      "Confusion matrix\n",
      " [[26 39]\n",
      " [10 25]]\n",
      "              precision    recall  f1-score   support\n",
      "\n",
      "           0       0.72      0.40      0.51        65\n",
      "           1       0.39      0.71      0.51        35\n",
      "\n",
      "    accuracy                           0.51       100\n",
      "   macro avg       0.56      0.56      0.51       100\n",
      "weighted avg       0.61      0.51      0.51       100\n",
      "\n"
     ]
    }
   ],
   "source": [
    "print(\"Accuracy score\", accuracy_score(y_test, y_pred))\n",
    "print(\"Confusion matrix\\n\", confusion_matrix(y_test, y_pred))\n",
    "print(classification_report(y_test,y_pred))"
   ]
  },
  {
   "cell_type": "code",
   "execution_count": 41,
   "metadata": {
    "execution": {
     "iopub.execute_input": "2022-03-21T06:32:27.663899Z",
     "iopub.status.busy": "2022-03-21T06:32:27.663603Z",
     "iopub.status.idle": "2022-03-21T06:32:27.875284Z",
     "shell.execute_reply": "2022-03-21T06:32:27.874306Z",
     "shell.execute_reply.started": "2022-03-21T06:32:27.663871Z"
    }
   },
   "outputs": [
    {
     "data": {
      "image/png": "[encoded data removed]",
      "text/plain": [
       "<Figure size 432x288 with 1 Axes>"
      ]
     },
     "metadata": {
      "needs_background": "light"
     },
     "output_type": "display_data"
    }
   ],
   "source": [
    "fpr_keras, tpr_keras, thresholds_keras = roc_curve(y_test, y_pred)\n",
    "auc_keras = auc(fpr_keras, tpr_keras)\n",
    "plt.figure(1)\n",
    "plt.plot([0, 1], [0, 1], 'k--')\n",
    "plt.plot(fpr_keras, tpr_keras, label='Keras (area = {:.3f})'.format(auc_keras))\n",
    "\n",
    "plt.xlabel('False positive rate')\n",
    "plt.ylabel('True positive rate')\n",
    "plt.title('ROC curve')\n",
    "plt.legend(loc='best')\n",
    "plt.show()"
   ]
  },
  {
   "cell_type": "code",
   "execution_count": 42,
   "metadata": {
    "execution": {
     "iopub.execute_input": "2022-03-21T06:32:31.819305Z",
     "iopub.status.busy": "2022-03-21T06:32:31.819029Z",
     "iopub.status.idle": "2022-03-21T06:32:31.824159Z",
     "shell.execute_reply": "2022-03-21T06:32:31.823258Z",
     "shell.execute_reply.started": "2022-03-21T06:32:31.819274Z"
    }
   },
   "outputs": [],
   "source": [
    "acc.append(accuracy_score(y_test, y_pred))\n",
    "auc_sc.append(auc_keras)"
   ]
  },
  {
   "cell_type": "markdown",
   "metadata": {},
   "source": [
    "#### K Nearest Neighbor"
   ]
  },
  {
   "cell_type": "code",
   "execution_count": 43,
   "metadata": {
    "execution": {
     "iopub.execute_input": "2022-03-21T06:32:33.666868Z",
     "iopub.status.busy": "2022-03-21T06:32:33.666183Z",
     "iopub.status.idle": "2022-03-21T06:32:49.238556Z",
     "shell.execute_reply": "2022-03-21T06:32:49.237595Z",
     "shell.execute_reply.started": "2022-03-21T06:32:33.666827Z"
    }
   },
   "outputs": [
    {
     "data": {
      "image/png": "[encoded data removed]",
      "text/plain": [
       "<Figure size 576x576 with 1 Axes>"
      ]
     },
     "metadata": {
      "needs_background": "light"
     },
     "output_type": "display_data"
    }
   ],
   "source": [
    "# find k\n",
    "clusters = [] #value of k\n",
    "accuracy = []\n",
    "cr = []\n",
    "cf = []\n",
    "\n",
    "for i in range(1,25):\n",
    "    knn = KNeighborsClassifier(n_neighbors = i)\n",
    "    knn.fit(x_train, y_train)\n",
    "    y_pred = knn.predict(x_test)\n",
    "    clusters.append(i)\n",
    "    accuracy.append(accuracy_score(y_test, y_pred))\n",
    "    cr.append(classification_report(y_test, y_pred))\n",
    "    cf.append(confusion_matrix(y_test,y_pred))\n",
    "\n",
    "plt.figure(figsize=(8,8))\n",
    "plt.plot(clusters, accuracy)\n",
    "plt.xlabel(\"Clusters\")\n",
    "plt.ylabel(\"Accuracy\")\n",
    "plt.show()"
   ]
  },
  {
   "cell_type": "markdown",
   "metadata": {},
   "source": [
    "The value of k which gives the maximum accuracy for 2 or more epochs is to be considered. Here we select k=20, 22, 23, 24 for accuracy=0.57"
   ]
  },
  {
   "cell_type": "code",
   "execution_count": 44,
   "metadata": {
    "execution": {
     "iopub.execute_input": "2022-03-21T06:32:49.240494Z",
     "iopub.status.busy": "2022-03-21T06:32:49.240231Z",
     "iopub.status.idle": "2022-03-21T06:32:49.246933Z",
     "shell.execute_reply": "2022-03-21T06:32:49.245953Z",
     "shell.execute_reply.started": "2022-03-21T06:32:49.240465Z"
    }
   },
   "outputs": [
    {
     "name": "stdout",
     "output_type": "stream",
     "text": [
      "Accuracy score 0.57\n",
      "Confusion matrix\n",
      " [[44 21]\n",
      " [22 13]]\n",
      "              precision    recall  f1-score   support\n",
      "\n",
      "           0       0.67      0.68      0.67        65\n",
      "           1       0.38      0.37      0.38        35\n",
      "\n",
      "    accuracy                           0.57       100\n",
      "   macro avg       0.52      0.52      0.52       100\n",
      "weighted avg       0.57      0.57      0.57       100\n",
      "\n"
     ]
    }
   ],
   "source": [
    "print(\"Accuracy score\", accuracy[19])\n",
    "print(\"Confusion matrix\\n\", cf[19])\n",
    "print(cr[19])"
   ]
  },
  {
   "cell_type": "code",
   "execution_count": 46,
   "metadata": {
    "execution": {
     "iopub.execute_input": "2022-03-21T06:34:14.258505Z",
     "iopub.status.busy": "2022-03-21T06:34:14.258197Z",
     "iopub.status.idle": "2022-03-21T06:34:15.060578Z",
     "shell.execute_reply": "2022-03-21T06:34:15.059595Z",
     "shell.execute_reply.started": "2022-03-21T06:34:14.258476Z"
    }
   },
   "outputs": [
    {
     "data": {
      "image/png": "[encoded data removed]",
      "text/plain": [
       "<Figure size 432x288 with 1 Axes>"
      ]
     },
     "metadata": {
      "needs_background": "light"
     },
     "output_type": "display_data"
    }
   ],
   "source": [
    "knn = KNeighborsClassifier(n_neighbors = 20)\n",
    "knn.fit(x_train, y_train)\n",
    "y_pred = knn.predict(x_test)\n",
    "fpr_keras, tpr_keras, thresholds_keras = roc_curve(y_test, y_pred)\n",
    "auc_keras = auc(fpr_keras, tpr_keras)\n",
    "plt.figure(1)\n",
    "plt.plot([0, 1], [0, 1], 'k--')\n",
    "plt.plot(fpr_keras, tpr_keras, label='Keras (area = {:.3f})'.format(auc_keras))\n",
    "\n",
    "plt.xlabel('False positive rate')\n",
    "plt.ylabel('True positive rate')\n",
    "plt.title('ROC curve')\n",
    "plt.legend(loc='best')\n",
    "plt.show()"
   ]
  },
  {
   "cell_type": "code",
   "execution_count": 47,
   "metadata": {
    "execution": {
     "iopub.execute_input": "2022-03-21T06:34:20.230444Z",
     "iopub.status.busy": "2022-03-21T06:34:20.230182Z",
     "iopub.status.idle": "2022-03-21T06:34:20.234899Z",
     "shell.execute_reply": "2022-03-21T06:34:20.233794Z",
     "shell.execute_reply.started": "2022-03-21T06:34:20.230417Z"
    }
   },
   "outputs": [],
   "source": [
    "acc.append(accuracy[19])\n",
    "auc_sc.append(auc_keras)"
   ]
  },
  {
   "cell_type": "markdown",
   "metadata": {},
   "source": [
    "#### Random Forest"
   ]
  },
  {
   "cell_type": "code",
   "execution_count": 48,
   "metadata": {
    "execution": {
     "iopub.execute_input": "2022-03-21T06:34:23.060880Z",
     "iopub.status.busy": "2022-03-21T06:34:23.060559Z",
     "iopub.status.idle": "2022-03-21T06:34:24.808100Z",
     "shell.execute_reply": "2022-03-21T06:34:24.807234Z",
     "shell.execute_reply.started": "2022-03-21T06:34:23.060848Z"
    }
   },
   "outputs": [
    {
     "data": {
      "text/plain": [
       "RandomForestClassifier(random_state=0)"
      ]
     },
     "execution_count": 48,
     "metadata": {},
     "output_type": "execute_result"
    }
   ],
   "source": [
    "rf = RandomForestClassifier(n_estimators = 100, random_state = 0) \n",
    "rf.fit(x_train, y_train)"
   ]
  },
  {
   "cell_type": "code",
   "execution_count": 49,
   "metadata": {
    "execution": {
     "iopub.execute_input": "2022-03-21T06:34:24.810465Z",
     "iopub.status.busy": "2022-03-21T06:34:24.810116Z",
     "iopub.status.idle": "2022-03-21T06:34:25.087378Z",
     "shell.execute_reply": "2022-03-21T06:34:25.086605Z",
     "shell.execute_reply.started": "2022-03-21T06:34:24.810422Z"
    }
   },
   "outputs": [],
   "source": [
    "y_pred = rf.predict(x_test)"
   ]
  },
  {
   "cell_type": "code",
   "execution_count": 50,
   "metadata": {
    "execution": {
     "iopub.execute_input": "2022-03-21T06:34:25.567276Z",
     "iopub.status.busy": "2022-03-21T06:34:25.566980Z",
     "iopub.status.idle": "2022-03-21T06:34:25.580168Z",
     "shell.execute_reply": "2022-03-21T06:34:25.578986Z",
     "shell.execute_reply.started": "2022-03-21T06:34:25.567245Z"
    }
   },
   "outputs": [
    {
     "name": "stdout",
     "output_type": "stream",
     "text": [
      "Accuracy score 0.71\n",
      "Confusion matrix\n",
      " [[52 13]\n",
      " [16 19]]\n",
      "              precision    recall  f1-score   support\n",
      "\n",
      "           0       0.76      0.80      0.78        65\n",
      "           1       0.59      0.54      0.57        35\n",
      "\n",
      "    accuracy                           0.71       100\n",
      "   macro avg       0.68      0.67      0.67       100\n",
      "weighted avg       0.70      0.71      0.71       100\n",
      "\n"
     ]
    }
   ],
   "source": [
    "print(\"Accuracy score\", accuracy_score(y_test, y_pred))\n",
    "print(\"Confusion matrix\\n\", confusion_matrix(y_test, y_pred))\n",
    "print(classification_report(y_test,y_pred))"
   ]
  },
  {
   "cell_type": "code",
   "execution_count": 51,
   "metadata": {
    "execution": {
     "iopub.execute_input": "2022-03-21T06:34:29.383672Z",
     "iopub.status.busy": "2022-03-21T06:34:29.383379Z",
     "iopub.status.idle": "2022-03-21T06:34:29.591743Z",
     "shell.execute_reply": "2022-03-21T06:34:29.591069Z",
     "shell.execute_reply.started": "2022-03-21T06:34:29.383641Z"
    }
   },
   "outputs": [
    {
     "data": {
      "image/png": "[encoded data removed]",
      "text/plain": [
       "<Figure size 432x288 with 1 Axes>"
      ]
     },
     "metadata": {
      "needs_background": "light"
     },
     "output_type": "display_data"
    }
   ],
   "source": [
    "fpr_keras, tpr_keras, thresholds_keras = roc_curve(y_test, y_pred)\n",
    "auc_keras = auc(fpr_keras, tpr_keras)\n",
    "plt.figure(1)\n",
    "plt.plot([0, 1], [0, 1], 'k--')\n",
    "plt.plot(fpr_keras, tpr_keras, label='Keras (area = {:.3f})'.format(auc_keras))\n",
    "\n",
    "plt.xlabel('False positive rate')\n",
    "plt.ylabel('True positive rate')\n",
    "plt.title('ROC curve')\n",
    "plt.legend(loc='best')\n",
    "plt.show()"
   ]
  },
  {
   "cell_type": "code",
   "execution_count": 52,
   "metadata": {
    "execution": {
     "iopub.execute_input": "2022-03-21T06:34:29.743038Z",
     "iopub.status.busy": "2022-03-21T06:34:29.742447Z",
     "iopub.status.idle": "2022-03-21T06:34:29.749127Z",
     "shell.execute_reply": "2022-03-21T06:34:29.748157Z",
     "shell.execute_reply.started": "2022-03-21T06:34:29.742993Z"
    }
   },
   "outputs": [],
   "source": [
    "acc.append(accuracy_score(y_test, y_pred))\n",
    "auc_sc.append(auc_keras)"
   ]
  },
  {
   "cell_type": "markdown",
   "metadata": {},
   "source": [
    "#### Performance metrics"
   ]
  },
  {
   "cell_type": "code",
   "execution_count": 53,
   "metadata": {
    "execution": {
     "iopub.execute_input": "2022-03-21T06:34:33.727263Z",
     "iopub.status.busy": "2022-03-21T06:34:33.726960Z",
     "iopub.status.idle": "2022-03-21T06:34:33.732483Z",
     "shell.execute_reply": "2022-03-21T06:34:33.731603Z",
     "shell.execute_reply.started": "2022-03-21T06:34:33.727228Z"
    }
   },
   "outputs": [],
   "source": [
    "perf = pd.DataFrame(list(zip(acc, auc_sc)), index = algos, columns = ['Accuracy', 'AUC Score'])"
   ]
  },
  {
   "cell_type": "code",
   "execution_count": 54,
   "metadata": {
    "execution": {
     "iopub.execute_input": "2022-03-21T06:34:35.971331Z",
     "iopub.status.busy": "2022-03-21T06:34:35.971014Z",
     "iopub.status.idle": "2022-03-21T06:34:35.981333Z",
     "shell.execute_reply": "2022-03-21T06:34:35.980564Z",
     "shell.execute_reply.started": "2022-03-21T06:34:35.971296Z"
    }
   },
   "outputs": [
    {
     "data": {
      "text/html": [
       "<div>\n",
       "<style scoped>\n",
       "    .dataframe tbody tr th:only-of-type {\n",
       "        vertical-align: middle;\n",
       "    }\n",
       "\n",
       "    .dataframe tbody tr th {\n",
       "        vertical-align: top;\n",
       "    }\n",
       "\n",
       "    .dataframe thead th {\n",
       "        text-align: right;\n",
       "    }\n",
       "</style>\n",
       "<table border=\"1\" class=\"dataframe\">\n",
       "  <thead>\n",
       "    <tr style=\"text-align: right;\">\n",
       "      <th></th>\n",
       "      <th>Accuracy</th>\n",
       "      <th>AUC Score</th>\n",
       "    </tr>\n",
       "  </thead>\n",
       "  <tbody>\n",
       "    <tr>\n",
       "      <th>LogReg</th>\n",
       "      <td>0.62</td>\n",
       "      <td>0.608791</td>\n",
       "    </tr>\n",
       "    <tr>\n",
       "      <th>GaussNB</th>\n",
       "      <td>0.51</td>\n",
       "      <td>0.557143</td>\n",
       "    </tr>\n",
       "    <tr>\n",
       "      <th>KNN</th>\n",
       "      <td>0.57</td>\n",
       "      <td>0.524176</td>\n",
       "    </tr>\n",
       "    <tr>\n",
       "      <th>RF</th>\n",
       "      <td>0.71</td>\n",
       "      <td>0.671429</td>\n",
       "    </tr>\n",
       "  </tbody>\n",
       "</table>\n",
       "</div>"
      ],
      "text/plain": [
       "         Accuracy  AUC Score\n",
       "LogReg       0.62   0.608791\n",
       "GaussNB      0.51   0.557143\n",
       "KNN          0.57   0.524176\n",
       "RF           0.71   0.671429"
      ]
     },
     "execution_count": 54,
     "metadata": {},
     "output_type": "execute_result"
    }
   ],
   "source": [
    "perf"
   ]
  },
  {
   "cell_type": "markdown",
   "metadata": {},
   "source": [
    "#### Observation\n",
    "1. We observe that with preprocessing both the accuracy and AUC scores decrease. More misclassification errors can be observed from the confusion matrix. \n",
    "2. Logistic regression still works well despite some reduction in accuracy and AUC scores. However KNN performs worse for class 1, contrary to its performance without preprocessing. The AUC scores for KNN have gone down a lot because of this.\n",
    "3. Gaussian Naive Bayes is the worst hit performance wise. In the previous notebook, it was declared as the most suitable algorithm for this dataset, but upon preprocessing both its accuracy and AUC scores have reduced drastically. It performs worst for class 0.\n",
    "4. Random forest also has reduced accuracy and AUC scores, however they are higher than the rest of the models. \n",
    "5. So for this use-case (with preprocessing) we observe that Random Forest performs the best."
   ]
  }
 ],
 "metadata": {
  "kernelspec": {
   "display_name": "Python 3 (ipykernel)",
   "language": "python",
   "name": "python3"
  },
  "language_info": {
   "codemirror_mode": {
    "name": "ipython",
    "version": 3
   },
   "file_extension": ".py",
   "mimetype": "text/x-python",
   "name": "python",
   "nbconvert_exporter": "python",
   "pygments_lexer": "ipython3",
   "version": "3.8.10"
  }
 },
 "nbformat": 4,
 "nbformat_minor": 4
}
