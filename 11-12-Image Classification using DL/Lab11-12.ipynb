{
 "cells": [
  {
   "cell_type": "markdown",
   "metadata": {},
   "source": [
    "<pre>\n",
    "Name: Ritika Sarkar\n",
    "Reg. No.: 19BAI1031\n",
    "</pre>"
   ]
  },
  {
   "cell_type": "markdown",
   "metadata": {},
   "source": [
    "## Convolutional Neural Network (CNN)"
   ]
  },
  {
   "cell_type": "markdown",
   "metadata": {},
   "source": [
    "Dataset - [Histopathologic Cancer Detection](https://www.kaggle.com/c/histopathologic-cancer-detection)"
   ]
  },
  {
   "cell_type": "code",
   "execution_count": 2,
   "metadata": {
    "_cell_guid": "b1076dfc-b9ad-4769-8c92-a6c4dae69d19",
    "_uuid": "8f2839f25d086af736a60e9eeb907d3b93b6e0e5",
    "execution": {
     "iopub.execute_input": "2022-04-11T07:37:35.115429Z",
     "iopub.status.busy": "2022-04-11T07:37:35.114880Z",
     "iopub.status.idle": "2022-04-11T07:37:36.092617Z",
     "shell.execute_reply": "2022-04-11T07:37:36.091844Z",
     "shell.execute_reply.started": "2022-04-11T07:37:35.115390Z"
    }
   },
   "outputs": [],
   "source": [
    "# modules imported\n",
    "import numpy as np # linear algebra\n",
    "import pandas as pd # data processing, CSV file I/O (e.g. pd.read_csv)\n",
    "import os\n",
    "from skimage import io\n",
    "import glob\n",
    "import matplotlib.pyplot as plt\n",
    "import warnings\n",
    "warnings.simplefilter('ignore')\n",
    "import pydicom as pyd\n",
    "import cv2\n",
    "import tqdm"
   ]
  },
  {
   "cell_type": "code",
   "execution_count": 3,
   "metadata": {
    "execution": {
     "iopub.execute_input": "2022-04-11T07:37:36.094752Z",
     "iopub.status.busy": "2022-04-11T07:37:36.094496Z",
     "iopub.status.idle": "2022-04-11T07:37:41.482504Z",
     "shell.execute_reply": "2022-04-11T07:37:41.481765Z",
     "shell.execute_reply.started": "2022-04-11T07:37:36.094718Z"
    }
   },
   "outputs": [],
   "source": [
    "import tensorflow as tf\n",
    "from keras_preprocessing.image import ImageDataGenerator\n",
    "from tensorflow.keras.layers import Dense, Activation, Flatten, Dropout, BatchNormalization, GlobalAveragePooling2D\n",
    "from tensorflow.keras.layers import Conv2D, MaxPooling2D\n",
    "from tensorflow.keras import regularizers, optimizers\n",
    "#from gradcam import VizGradCAM\n",
    "from keras import backend as K"
   ]
  },
  {
   "cell_type": "code",
   "execution_count": 4,
   "metadata": {
    "execution": {
     "iopub.execute_input": "2022-04-11T07:37:41.486006Z",
     "iopub.status.busy": "2022-04-11T07:37:41.485808Z",
     "iopub.status.idle": "2022-04-11T07:37:41.840455Z",
     "shell.execute_reply": "2022-04-11T07:37:41.839711Z",
     "shell.execute_reply.started": "2022-04-11T07:37:41.485980Z"
    }
   },
   "outputs": [],
   "source": [
    "df = pd.read_csv('../input/histopathologic-cancer-detection/train_labels.csv')"
   ]
  },
  {
   "cell_type": "code",
   "execution_count": 5,
   "metadata": {
    "execution": {
     "iopub.execute_input": "2022-04-11T07:37:41.842675Z",
     "iopub.status.busy": "2022-04-11T07:37:41.842350Z",
     "iopub.status.idle": "2022-04-11T07:37:41.859126Z",
     "shell.execute_reply": "2022-04-11T07:37:41.858378Z",
     "shell.execute_reply.started": "2022-04-11T07:37:41.842640Z"
    }
   },
   "outputs": [
    {
     "data": {
      "text/html": [
       "<div>\n",
       "<style scoped>\n",
       "    .dataframe tbody tr th:only-of-type {\n",
       "        vertical-align: middle;\n",
       "    }\n",
       "\n",
       "    .dataframe tbody tr th {\n",
       "        vertical-align: top;\n",
       "    }\n",
       "\n",
       "    .dataframe thead th {\n",
       "        text-align: right;\n",
       "    }\n",
       "</style>\n",
       "<table border=\"1\" class=\"dataframe\">\n",
       "  <thead>\n",
       "    <tr style=\"text-align: right;\">\n",
       "      <th></th>\n",
       "      <th>id</th>\n",
       "      <th>label</th>\n",
       "    </tr>\n",
       "  </thead>\n",
       "  <tbody>\n",
       "    <tr>\n",
       "      <th>0</th>\n",
       "      <td>f38a6374c348f90b587e046aac6079959adf3835</td>\n",
       "      <td>0</td>\n",
       "    </tr>\n",
       "    <tr>\n",
       "      <th>1</th>\n",
       "      <td>c18f2d887b7ae4f6742ee445113fa1aef383ed77</td>\n",
       "      <td>1</td>\n",
       "    </tr>\n",
       "    <tr>\n",
       "      <th>2</th>\n",
       "      <td>755db6279dae599ebb4d39a9123cce439965282d</td>\n",
       "      <td>0</td>\n",
       "    </tr>\n",
       "    <tr>\n",
       "      <th>3</th>\n",
       "      <td>bc3f0c64fb968ff4a8bd33af6971ecae77c75e08</td>\n",
       "      <td>0</td>\n",
       "    </tr>\n",
       "    <tr>\n",
       "      <th>4</th>\n",
       "      <td>068aba587a4950175d04c680d38943fd488d6a9d</td>\n",
       "      <td>0</td>\n",
       "    </tr>\n",
       "  </tbody>\n",
       "</table>\n",
       "</div>"
      ],
      "text/plain": [
       "                                         id  label\n",
       "0  f38a6374c348f90b587e046aac6079959adf3835      0\n",
       "1  c18f2d887b7ae4f6742ee445113fa1aef383ed77      1\n",
       "2  755db6279dae599ebb4d39a9123cce439965282d      0\n",
       "3  bc3f0c64fb968ff4a8bd33af6971ecae77c75e08      0\n",
       "4  068aba587a4950175d04c680d38943fd488d6a9d      0"
      ]
     },
     "execution_count": 5,
     "metadata": {},
     "output_type": "execute_result"
    }
   ],
   "source": [
    "df.head()"
   ]
  },
  {
   "cell_type": "code",
   "execution_count": 6,
   "metadata": {
    "execution": {
     "iopub.execute_input": "2022-04-11T07:37:41.860750Z",
     "iopub.status.busy": "2022-04-11T07:37:41.860441Z",
     "iopub.status.idle": "2022-04-11T07:37:41.940590Z",
     "shell.execute_reply": "2022-04-11T07:37:41.939883Z",
     "shell.execute_reply.started": "2022-04-11T07:37:41.860712Z"
    }
   },
   "outputs": [],
   "source": [
    "df['path'] = '../input/histopathologic-cancer-detection/train/'+df['id']+'.tif'"
   ]
  },
  {
   "cell_type": "code",
   "execution_count": 7,
   "metadata": {
    "execution": {
     "iopub.execute_input": "2022-04-11T07:37:41.942220Z",
     "iopub.status.busy": "2022-04-11T07:37:41.941957Z",
     "iopub.status.idle": "2022-04-11T07:37:41.948059Z",
     "shell.execute_reply": "2022-04-11T07:37:41.947264Z",
     "shell.execute_reply.started": "2022-04-11T07:37:41.942185Z"
    }
   },
   "outputs": [
    {
     "data": {
      "text/plain": [
       "'../input/histopathologic-cancer-detection/train/f38a6374c348f90b587e046aac6079959adf3835.tif'"
      ]
     },
     "execution_count": 7,
     "metadata": {},
     "output_type": "execute_result"
    }
   ],
   "source": [
    "df.iloc[0][2]"
   ]
  },
  {
   "cell_type": "code",
   "execution_count": 8,
   "metadata": {
    "execution": {
     "iopub.execute_input": "2022-04-11T07:37:41.949867Z",
     "iopub.status.busy": "2022-04-11T07:37:41.949563Z",
     "iopub.status.idle": "2022-04-11T07:37:42.177443Z",
     "shell.execute_reply": "2022-04-11T07:37:42.176704Z",
     "shell.execute_reply.started": "2022-04-11T07:37:41.949824Z"
    }
   },
   "outputs": [
    {
     "data": {
      "text/plain": [
       "<matplotlib.image.AxesImage at 0x7f2ad31f1bd0>"
      ]
     },
     "execution_count": 8,
     "metadata": {},
     "output_type": "execute_result"
    },
    {
     "data": {
      "image/png": "[encoded data removed]",
      "text/plain": [
       "<Figure size 432x288 with 1 Axes>"
      ]
     },
     "metadata": {
      "needs_background": "light"
     },
     "output_type": "display_data"
    }
   ],
   "source": [
    "image = plt.imread(df.iloc[0][2])\n",
    "plt.imshow(image)"
   ]
  },
  {
   "cell_type": "code",
   "execution_count": 9,
   "metadata": {
    "execution": {
     "iopub.execute_input": "2022-04-11T07:37:42.178623Z",
     "iopub.status.busy": "2022-04-11T07:37:42.178388Z",
     "iopub.status.idle": "2022-04-11T07:37:42.184973Z",
     "shell.execute_reply": "2022-04-11T07:37:42.184358Z",
     "shell.execute_reply.started": "2022-04-11T07:37:42.178590Z"
    }
   },
   "outputs": [
    {
     "data": {
      "text/plain": [
       "220025"
      ]
     },
     "execution_count": 9,
     "metadata": {},
     "output_type": "execute_result"
    }
   ],
   "source": [
    "df.shape[0]"
   ]
  },
  {
   "cell_type": "code",
   "execution_count": 10,
   "metadata": {
    "execution": {
     "iopub.execute_input": "2022-04-11T07:37:42.186755Z",
     "iopub.status.busy": "2022-04-11T07:37:42.186145Z",
     "iopub.status.idle": "2022-04-11T07:37:42.203795Z",
     "shell.execute_reply": "2022-04-11T07:37:42.203161Z",
     "shell.execute_reply.started": "2022-04-11T07:37:42.186718Z"
    }
   },
   "outputs": [
    {
     "data": {
      "text/html": [
       "<div>\n",
       "<style scoped>\n",
       "    .dataframe tbody tr th:only-of-type {\n",
       "        vertical-align: middle;\n",
       "    }\n",
       "\n",
       "    .dataframe tbody tr th {\n",
       "        vertical-align: top;\n",
       "    }\n",
       "\n",
       "    .dataframe thead th {\n",
       "        text-align: right;\n",
       "    }\n",
       "</style>\n",
       "<table border=\"1\" class=\"dataframe\">\n",
       "  <thead>\n",
       "    <tr style=\"text-align: right;\">\n",
       "      <th></th>\n",
       "      <th>id</th>\n",
       "      <th>label</th>\n",
       "      <th>path</th>\n",
       "    </tr>\n",
       "  </thead>\n",
       "  <tbody>\n",
       "    <tr>\n",
       "      <th>0</th>\n",
       "      <td>f38a6374c348f90b587e046aac6079959adf3835</td>\n",
       "      <td>0</td>\n",
       "      <td>../input/histopathologic-cancer-detection/trai...</td>\n",
       "    </tr>\n",
       "    <tr>\n",
       "      <th>1</th>\n",
       "      <td>c18f2d887b7ae4f6742ee445113fa1aef383ed77</td>\n",
       "      <td>1</td>\n",
       "      <td>../input/histopathologic-cancer-detection/trai...</td>\n",
       "    </tr>\n",
       "    <tr>\n",
       "      <th>2</th>\n",
       "      <td>755db6279dae599ebb4d39a9123cce439965282d</td>\n",
       "      <td>0</td>\n",
       "      <td>../input/histopathologic-cancer-detection/trai...</td>\n",
       "    </tr>\n",
       "    <tr>\n",
       "      <th>3</th>\n",
       "      <td>bc3f0c64fb968ff4a8bd33af6971ecae77c75e08</td>\n",
       "      <td>0</td>\n",
       "      <td>../input/histopathologic-cancer-detection/trai...</td>\n",
       "    </tr>\n",
       "    <tr>\n",
       "      <th>4</th>\n",
       "      <td>068aba587a4950175d04c680d38943fd488d6a9d</td>\n",
       "      <td>0</td>\n",
       "      <td>../input/histopathologic-cancer-detection/trai...</td>\n",
       "    </tr>\n",
       "    <tr>\n",
       "      <th>...</th>\n",
       "      <td>...</td>\n",
       "      <td>...</td>\n",
       "      <td>...</td>\n",
       "    </tr>\n",
       "    <tr>\n",
       "      <th>220020</th>\n",
       "      <td>53e9aa9d46e720bf3c6a7528d1fca3ba6e2e49f6</td>\n",
       "      <td>0</td>\n",
       "      <td>../input/histopathologic-cancer-detection/trai...</td>\n",
       "    </tr>\n",
       "    <tr>\n",
       "      <th>220021</th>\n",
       "      <td>d4b854fe38b07fe2831ad73892b3cec877689576</td>\n",
       "      <td>1</td>\n",
       "      <td>../input/histopathologic-cancer-detection/trai...</td>\n",
       "    </tr>\n",
       "    <tr>\n",
       "      <th>220022</th>\n",
       "      <td>3d046cead1a2a5cbe00b2b4847cfb7ba7cf5fe75</td>\n",
       "      <td>0</td>\n",
       "      <td>../input/histopathologic-cancer-detection/trai...</td>\n",
       "    </tr>\n",
       "    <tr>\n",
       "      <th>220023</th>\n",
       "      <td>f129691c13433f66e1e0671ff1fe80944816f5a2</td>\n",
       "      <td>0</td>\n",
       "      <td>../input/histopathologic-cancer-detection/trai...</td>\n",
       "    </tr>\n",
       "    <tr>\n",
       "      <th>220024</th>\n",
       "      <td>a81f84895ddcd522302ddf34be02eb1b3e5af1cb</td>\n",
       "      <td>1</td>\n",
       "      <td>../input/histopathologic-cancer-detection/trai...</td>\n",
       "    </tr>\n",
       "  </tbody>\n",
       "</table>\n",
       "<p>220025 rows × 3 columns</p>\n",
       "</div>"
      ],
      "text/plain": [
       "                                              id  label  \\\n",
       "0       f38a6374c348f90b587e046aac6079959adf3835      0   \n",
       "1       c18f2d887b7ae4f6742ee445113fa1aef383ed77      1   \n",
       "2       755db6279dae599ebb4d39a9123cce439965282d      0   \n",
       "3       bc3f0c64fb968ff4a8bd33af6971ecae77c75e08      0   \n",
       "4       068aba587a4950175d04c680d38943fd488d6a9d      0   \n",
       "...                                          ...    ...   \n",
       "220020  53e9aa9d46e720bf3c6a7528d1fca3ba6e2e49f6      0   \n",
       "220021  d4b854fe38b07fe2831ad73892b3cec877689576      1   \n",
       "220022  3d046cead1a2a5cbe00b2b4847cfb7ba7cf5fe75      0   \n",
       "220023  f129691c13433f66e1e0671ff1fe80944816f5a2      0   \n",
       "220024  a81f84895ddcd522302ddf34be02eb1b3e5af1cb      1   \n",
       "\n",
       "                                                     path  \n",
       "0       ../input/histopathologic-cancer-detection/trai...  \n",
       "1       ../input/histopathologic-cancer-detection/trai...  \n",
       "2       ../input/histopathologic-cancer-detection/trai...  \n",
       "3       ../input/histopathologic-cancer-detection/trai...  \n",
       "4       ../input/histopathologic-cancer-detection/trai...  \n",
       "...                                                   ...  \n",
       "220020  ../input/histopathologic-cancer-detection/trai...  \n",
       "220021  ../input/histopathologic-cancer-detection/trai...  \n",
       "220022  ../input/histopathologic-cancer-detection/trai...  \n",
       "220023  ../input/histopathologic-cancer-detection/trai...  \n",
       "220024  ../input/histopathologic-cancer-detection/trai...  \n",
       "\n",
       "[220025 rows x 3 columns]"
      ]
     },
     "execution_count": 10,
     "metadata": {},
     "output_type": "execute_result"
    }
   ],
   "source": [
    "df"
   ]
  },
  {
   "cell_type": "markdown",
   "metadata": {},
   "source": [
    "#### Split to test set "
   ]
  },
  {
   "cell_type": "code",
   "execution_count": 11,
   "metadata": {
    "execution": {
     "iopub.execute_input": "2022-04-11T07:37:42.206884Z",
     "iopub.status.busy": "2022-04-11T07:37:42.206699Z",
     "iopub.status.idle": "2022-04-11T07:37:42.248084Z",
     "shell.execute_reply": "2022-04-11T07:37:42.247255Z",
     "shell.execute_reply.started": "2022-04-11T07:37:42.206861Z"
    }
   },
   "outputs": [],
   "source": [
    "df['id'] = df['id']+'.tif'"
   ]
  },
  {
   "cell_type": "code",
   "execution_count": 12,
   "metadata": {
    "execution": {
     "iopub.execute_input": "2022-04-11T07:37:42.251166Z",
     "iopub.status.busy": "2022-04-11T07:37:42.250955Z",
     "iopub.status.idle": "2022-04-11T07:37:42.262955Z",
     "shell.execute_reply": "2022-04-11T07:37:42.262128Z",
     "shell.execute_reply.started": "2022-04-11T07:37:42.251140Z"
    }
   },
   "outputs": [
    {
     "data": {
      "text/html": [
       "<div>\n",
       "<style scoped>\n",
       "    .dataframe tbody tr th:only-of-type {\n",
       "        vertical-align: middle;\n",
       "    }\n",
       "\n",
       "    .dataframe tbody tr th {\n",
       "        vertical-align: top;\n",
       "    }\n",
       "\n",
       "    .dataframe thead th {\n",
       "        text-align: right;\n",
       "    }\n",
       "</style>\n",
       "<table border=\"1\" class=\"dataframe\">\n",
       "  <thead>\n",
       "    <tr style=\"text-align: right;\">\n",
       "      <th></th>\n",
       "      <th>id</th>\n",
       "      <th>label</th>\n",
       "      <th>path</th>\n",
       "    </tr>\n",
       "  </thead>\n",
       "  <tbody>\n",
       "    <tr>\n",
       "      <th>0</th>\n",
       "      <td>f38a6374c348f90b587e046aac6079959adf3835.tif</td>\n",
       "      <td>0</td>\n",
       "      <td>../input/histopathologic-cancer-detection/trai...</td>\n",
       "    </tr>\n",
       "    <tr>\n",
       "      <th>1</th>\n",
       "      <td>c18f2d887b7ae4f6742ee445113fa1aef383ed77.tif</td>\n",
       "      <td>1</td>\n",
       "      <td>../input/histopathologic-cancer-detection/trai...</td>\n",
       "    </tr>\n",
       "    <tr>\n",
       "      <th>2</th>\n",
       "      <td>755db6279dae599ebb4d39a9123cce439965282d.tif</td>\n",
       "      <td>0</td>\n",
       "      <td>../input/histopathologic-cancer-detection/trai...</td>\n",
       "    </tr>\n",
       "    <tr>\n",
       "      <th>3</th>\n",
       "      <td>bc3f0c64fb968ff4a8bd33af6971ecae77c75e08.tif</td>\n",
       "      <td>0</td>\n",
       "      <td>../input/histopathologic-cancer-detection/trai...</td>\n",
       "    </tr>\n",
       "    <tr>\n",
       "      <th>4</th>\n",
       "      <td>068aba587a4950175d04c680d38943fd488d6a9d.tif</td>\n",
       "      <td>0</td>\n",
       "      <td>../input/histopathologic-cancer-detection/trai...</td>\n",
       "    </tr>\n",
       "  </tbody>\n",
       "</table>\n",
       "</div>"
      ],
      "text/plain": [
       "                                             id  label  \\\n",
       "0  f38a6374c348f90b587e046aac6079959adf3835.tif      0   \n",
       "1  c18f2d887b7ae4f6742ee445113fa1aef383ed77.tif      1   \n",
       "2  755db6279dae599ebb4d39a9123cce439965282d.tif      0   \n",
       "3  bc3f0c64fb968ff4a8bd33af6971ecae77c75e08.tif      0   \n",
       "4  068aba587a4950175d04c680d38943fd488d6a9d.tif      0   \n",
       "\n",
       "                                                path  \n",
       "0  ../input/histopathologic-cancer-detection/trai...  \n",
       "1  ../input/histopathologic-cancer-detection/trai...  \n",
       "2  ../input/histopathologic-cancer-detection/trai...  \n",
       "3  ../input/histopathologic-cancer-detection/trai...  \n",
       "4  ../input/histopathologic-cancer-detection/trai...  "
      ]
     },
     "execution_count": 12,
     "metadata": {},
     "output_type": "execute_result"
    }
   ],
   "source": [
    "df.head()"
   ]
  },
  {
   "cell_type": "code",
   "execution_count": 13,
   "metadata": {
    "execution": {
     "iopub.execute_input": "2022-04-11T07:37:42.265045Z",
     "iopub.status.busy": "2022-04-11T07:37:42.264368Z",
     "iopub.status.idle": "2022-04-11T07:37:46.278837Z",
     "shell.execute_reply": "2022-04-11T07:37:46.278006Z",
     "shell.execute_reply.started": "2022-04-11T07:37:42.264986Z"
    }
   },
   "outputs": [],
   "source": [
    "np.random.seed(100)\n",
    "val_array = np.random.choice(os.listdir('../input/histopathologic-cancer-detection/train/'), 10000) "
   ]
  },
  {
   "cell_type": "code",
   "execution_count": 14,
   "metadata": {
    "execution": {
     "iopub.execute_input": "2022-04-11T07:37:46.281005Z",
     "iopub.status.busy": "2022-04-11T07:37:46.279963Z",
     "iopub.status.idle": "2022-04-11T07:37:46.347522Z",
     "shell.execute_reply": "2022-04-11T07:37:46.346795Z",
     "shell.execute_reply.started": "2022-04-11T07:37:46.280972Z"
    }
   },
   "outputs": [],
   "source": [
    "val_df = df[df.id.isin(val_array)].reset_index()"
   ]
  },
  {
   "cell_type": "code",
   "execution_count": 15,
   "metadata": {
    "execution": {
     "iopub.execute_input": "2022-04-11T07:37:46.350767Z",
     "iopub.status.busy": "2022-04-11T07:37:46.350559Z",
     "iopub.status.idle": "2022-04-11T07:37:46.357485Z",
     "shell.execute_reply": "2022-04-11T07:37:46.356730Z",
     "shell.execute_reply.started": "2022-04-11T07:37:46.350743Z"
    }
   },
   "outputs": [],
   "source": [
    "val_df.drop('index', axis =1, inplace=True)"
   ]
  },
  {
   "cell_type": "code",
   "execution_count": 16,
   "metadata": {
    "execution": {
     "iopub.execute_input": "2022-04-11T07:37:46.359149Z",
     "iopub.status.busy": "2022-04-11T07:37:46.358815Z",
     "iopub.status.idle": "2022-04-11T07:37:46.371369Z",
     "shell.execute_reply": "2022-04-11T07:37:46.370718Z",
     "shell.execute_reply.started": "2022-04-11T07:37:46.359115Z"
    }
   },
   "outputs": [
    {
     "data": {
      "text/html": [
       "<div>\n",
       "<style scoped>\n",
       "    .dataframe tbody tr th:only-of-type {\n",
       "        vertical-align: middle;\n",
       "    }\n",
       "\n",
       "    .dataframe tbody tr th {\n",
       "        vertical-align: top;\n",
       "    }\n",
       "\n",
       "    .dataframe thead th {\n",
       "        text-align: right;\n",
       "    }\n",
       "</style>\n",
       "<table border=\"1\" class=\"dataframe\">\n",
       "  <thead>\n",
       "    <tr style=\"text-align: right;\">\n",
       "      <th></th>\n",
       "      <th>id</th>\n",
       "      <th>label</th>\n",
       "      <th>path</th>\n",
       "    </tr>\n",
       "  </thead>\n",
       "  <tbody>\n",
       "    <tr>\n",
       "      <th>9764</th>\n",
       "      <td>3619fef8051e9cea8908ab7d7bfaeb51566312fb.tif</td>\n",
       "      <td>0</td>\n",
       "      <td>../input/histopathologic-cancer-detection/trai...</td>\n",
       "    </tr>\n",
       "    <tr>\n",
       "      <th>9765</th>\n",
       "      <td>241b1941a327b70a7ff80295c8e089c1c7353aa3.tif</td>\n",
       "      <td>0</td>\n",
       "      <td>../input/histopathologic-cancer-detection/trai...</td>\n",
       "    </tr>\n",
       "    <tr>\n",
       "      <th>9766</th>\n",
       "      <td>645adcab3f170b2199a5bcc358b4233687d24a15.tif</td>\n",
       "      <td>0</td>\n",
       "      <td>../input/histopathologic-cancer-detection/trai...</td>\n",
       "    </tr>\n",
       "    <tr>\n",
       "      <th>9767</th>\n",
       "      <td>ebdcf501c59924cb41ffe36ea6474f6f441ed811.tif</td>\n",
       "      <td>0</td>\n",
       "      <td>../input/histopathologic-cancer-detection/trai...</td>\n",
       "    </tr>\n",
       "    <tr>\n",
       "      <th>9768</th>\n",
       "      <td>449275b9ab37371753fe63bba30870504c56560b.tif</td>\n",
       "      <td>1</td>\n",
       "      <td>../input/histopathologic-cancer-detection/trai...</td>\n",
       "    </tr>\n",
       "  </tbody>\n",
       "</table>\n",
       "</div>"
      ],
      "text/plain": [
       "                                                id  label  \\\n",
       "9764  3619fef8051e9cea8908ab7d7bfaeb51566312fb.tif      0   \n",
       "9765  241b1941a327b70a7ff80295c8e089c1c7353aa3.tif      0   \n",
       "9766  645adcab3f170b2199a5bcc358b4233687d24a15.tif      0   \n",
       "9767  ebdcf501c59924cb41ffe36ea6474f6f441ed811.tif      0   \n",
       "9768  449275b9ab37371753fe63bba30870504c56560b.tif      1   \n",
       "\n",
       "                                                   path  \n",
       "9764  ../input/histopathologic-cancer-detection/trai...  \n",
       "9765  ../input/histopathologic-cancer-detection/trai...  \n",
       "9766  ../input/histopathologic-cancer-detection/trai...  \n",
       "9767  ../input/histopathologic-cancer-detection/trai...  \n",
       "9768  ../input/histopathologic-cancer-detection/trai...  "
      ]
     },
     "execution_count": 16,
     "metadata": {},
     "output_type": "execute_result"
    }
   ],
   "source": [
    "val_df.tail()"
   ]
  },
  {
   "cell_type": "code",
   "execution_count": 17,
   "metadata": {
    "execution": {
     "iopub.execute_input": "2022-04-11T07:37:46.373198Z",
     "iopub.status.busy": "2022-04-11T07:37:46.372581Z",
     "iopub.status.idle": "2022-04-11T07:37:46.382558Z",
     "shell.execute_reply": "2022-04-11T07:37:46.381751Z",
     "shell.execute_reply.started": "2022-04-11T07:37:46.373157Z"
    }
   },
   "outputs": [
    {
     "data": {
      "text/plain": [
       "0    5823\n",
       "1    3946\n",
       "Name: label, dtype: int64"
      ]
     },
     "execution_count": 17,
     "metadata": {},
     "output_type": "execute_result"
    }
   ],
   "source": [
    "val_df.label.value_counts()"
   ]
  },
  {
   "cell_type": "code",
   "execution_count": 18,
   "metadata": {
    "execution": {
     "iopub.execute_input": "2022-04-11T07:37:46.385452Z",
     "iopub.status.busy": "2022-04-11T07:37:46.384544Z",
     "iopub.status.idle": "2022-04-11T07:37:46.396466Z",
     "shell.execute_reply": "2022-04-11T07:37:46.395764Z",
     "shell.execute_reply.started": "2022-04-11T07:37:46.385420Z"
    }
   },
   "outputs": [],
   "source": [
    "val_df = pd.concat([val_df[val_df.label==0].sample(n=3000),val_df[val_df.label==1].sample(n=3000)]) "
   ]
  },
  {
   "cell_type": "code",
   "execution_count": 19,
   "metadata": {
    "execution": {
     "iopub.execute_input": "2022-04-11T07:37:46.399150Z",
     "iopub.status.busy": "2022-04-11T07:37:46.398636Z",
     "iopub.status.idle": "2022-04-11T07:37:46.407642Z",
     "shell.execute_reply": "2022-04-11T07:37:46.406963Z",
     "shell.execute_reply.started": "2022-04-11T07:37:46.399112Z"
    }
   },
   "outputs": [
    {
     "data": {
      "text/plain": [
       "0    3000\n",
       "1    3000\n",
       "Name: label, dtype: int64"
      ]
     },
     "execution_count": 19,
     "metadata": {},
     "output_type": "execute_result"
    }
   ],
   "source": [
    "val_df['label'].value_counts()"
   ]
  },
  {
   "cell_type": "code",
   "execution_count": 20,
   "metadata": {
    "execution": {
     "iopub.execute_input": "2022-04-11T07:37:46.409153Z",
     "iopub.status.busy": "2022-04-11T07:37:46.408599Z",
     "iopub.status.idle": "2022-04-11T07:37:46.415362Z",
     "shell.execute_reply": "2022-04-11T07:37:46.414614Z",
     "shell.execute_reply.started": "2022-04-11T07:37:46.409115Z"
    }
   },
   "outputs": [],
   "source": [
    "val_df.reset_index(drop = True, inplace = True)"
   ]
  },
  {
   "cell_type": "code",
   "execution_count": 21,
   "metadata": {
    "execution": {
     "iopub.execute_input": "2022-04-11T07:37:46.416881Z",
     "iopub.status.busy": "2022-04-11T07:37:46.416493Z",
     "iopub.status.idle": "2022-04-11T07:37:46.428079Z",
     "shell.execute_reply": "2022-04-11T07:37:46.427371Z",
     "shell.execute_reply.started": "2022-04-11T07:37:46.416846Z"
    }
   },
   "outputs": [
    {
     "data": {
      "text/html": [
       "<div>\n",
       "<style scoped>\n",
       "    .dataframe tbody tr th:only-of-type {\n",
       "        vertical-align: middle;\n",
       "    }\n",
       "\n",
       "    .dataframe tbody tr th {\n",
       "        vertical-align: top;\n",
       "    }\n",
       "\n",
       "    .dataframe thead th {\n",
       "        text-align: right;\n",
       "    }\n",
       "</style>\n",
       "<table border=\"1\" class=\"dataframe\">\n",
       "  <thead>\n",
       "    <tr style=\"text-align: right;\">\n",
       "      <th></th>\n",
       "      <th>id</th>\n",
       "      <th>label</th>\n",
       "      <th>path</th>\n",
       "    </tr>\n",
       "  </thead>\n",
       "  <tbody>\n",
       "    <tr>\n",
       "      <th>5995</th>\n",
       "      <td>4c4e78903c7f55e34646355ef2be903cd9bb3f8e.tif</td>\n",
       "      <td>1</td>\n",
       "      <td>../input/histopathologic-cancer-detection/trai...</td>\n",
       "    </tr>\n",
       "    <tr>\n",
       "      <th>5996</th>\n",
       "      <td>03acb9c7823095495b1266ad8f15f06828878798.tif</td>\n",
       "      <td>1</td>\n",
       "      <td>../input/histopathologic-cancer-detection/trai...</td>\n",
       "    </tr>\n",
       "    <tr>\n",
       "      <th>5997</th>\n",
       "      <td>17abe23b17c587afaf1653b90b02cc9aaf7312e1.tif</td>\n",
       "      <td>1</td>\n",
       "      <td>../input/histopathologic-cancer-detection/trai...</td>\n",
       "    </tr>\n",
       "    <tr>\n",
       "      <th>5998</th>\n",
       "      <td>1d0b10552558bf7a98b34f3d96e1646aa237f7cf.tif</td>\n",
       "      <td>1</td>\n",
       "      <td>../input/histopathologic-cancer-detection/trai...</td>\n",
       "    </tr>\n",
       "    <tr>\n",
       "      <th>5999</th>\n",
       "      <td>c9c0e152ec1adeea182b7dd99eeb9ce1ddcdc91c.tif</td>\n",
       "      <td>1</td>\n",
       "      <td>../input/histopathologic-cancer-detection/trai...</td>\n",
       "    </tr>\n",
       "  </tbody>\n",
       "</table>\n",
       "</div>"
      ],
      "text/plain": [
       "                                                id  label  \\\n",
       "5995  4c4e78903c7f55e34646355ef2be903cd9bb3f8e.tif      1   \n",
       "5996  03acb9c7823095495b1266ad8f15f06828878798.tif      1   \n",
       "5997  17abe23b17c587afaf1653b90b02cc9aaf7312e1.tif      1   \n",
       "5998  1d0b10552558bf7a98b34f3d96e1646aa237f7cf.tif      1   \n",
       "5999  c9c0e152ec1adeea182b7dd99eeb9ce1ddcdc91c.tif      1   \n",
       "\n",
       "                                                   path  \n",
       "5995  ../input/histopathologic-cancer-detection/trai...  \n",
       "5996  ../input/histopathologic-cancer-detection/trai...  \n",
       "5997  ../input/histopathologic-cancer-detection/trai...  \n",
       "5998  ../input/histopathologic-cancer-detection/trai...  \n",
       "5999  ../input/histopathologic-cancer-detection/trai...  "
      ]
     },
     "execution_count": 21,
     "metadata": {},
     "output_type": "execute_result"
    }
   ],
   "source": [
    "val_df.tail()"
   ]
  },
  {
   "cell_type": "markdown",
   "metadata": {},
   "source": [
    "##### Remove the common instances from training set"
   ]
  },
  {
   "cell_type": "code",
   "execution_count": 22,
   "metadata": {
    "execution": {
     "iopub.execute_input": "2022-04-11T07:37:46.430698Z",
     "iopub.status.busy": "2022-04-11T07:37:46.429522Z",
     "iopub.status.idle": "2022-04-11T07:37:46.489968Z",
     "shell.execute_reply": "2022-04-11T07:37:46.489301Z",
     "shell.execute_reply.started": "2022-04-11T07:37:46.430660Z"
    }
   },
   "outputs": [],
   "source": [
    "common = df['id'].isin(val_df['id'])\n",
    "df.drop(df[common].index, inplace = True)"
   ]
  },
  {
   "cell_type": "code",
   "execution_count": 23,
   "metadata": {
    "execution": {
     "iopub.execute_input": "2022-04-11T07:37:46.492448Z",
     "iopub.status.busy": "2022-04-11T07:37:46.492058Z",
     "iopub.status.idle": "2022-04-11T07:37:46.496565Z",
     "shell.execute_reply": "2022-04-11T07:37:46.495877Z",
     "shell.execute_reply.started": "2022-04-11T07:37:46.492412Z"
    }
   },
   "outputs": [],
   "source": [
    "df.reset_index(drop = True, inplace = True)"
   ]
  },
  {
   "cell_type": "code",
   "execution_count": 24,
   "metadata": {
    "execution": {
     "iopub.execute_input": "2022-04-11T07:37:46.498686Z",
     "iopub.status.busy": "2022-04-11T07:37:46.497965Z",
     "iopub.status.idle": "2022-04-11T07:37:46.511417Z",
     "shell.execute_reply": "2022-04-11T07:37:46.510771Z",
     "shell.execute_reply.started": "2022-04-11T07:37:46.498648Z"
    }
   },
   "outputs": [
    {
     "data": {
      "text/html": [
       "<div>\n",
       "<style scoped>\n",
       "    .dataframe tbody tr th:only-of-type {\n",
       "        vertical-align: middle;\n",
       "    }\n",
       "\n",
       "    .dataframe tbody tr th {\n",
       "        vertical-align: top;\n",
       "    }\n",
       "\n",
       "    .dataframe thead th {\n",
       "        text-align: right;\n",
       "    }\n",
       "</style>\n",
       "<table border=\"1\" class=\"dataframe\">\n",
       "  <thead>\n",
       "    <tr style=\"text-align: right;\">\n",
       "      <th></th>\n",
       "      <th>id</th>\n",
       "      <th>label</th>\n",
       "      <th>path</th>\n",
       "    </tr>\n",
       "  </thead>\n",
       "  <tbody>\n",
       "    <tr>\n",
       "      <th>214020</th>\n",
       "      <td>53e9aa9d46e720bf3c6a7528d1fca3ba6e2e49f6.tif</td>\n",
       "      <td>0</td>\n",
       "      <td>../input/histopathologic-cancer-detection/trai...</td>\n",
       "    </tr>\n",
       "    <tr>\n",
       "      <th>214021</th>\n",
       "      <td>d4b854fe38b07fe2831ad73892b3cec877689576.tif</td>\n",
       "      <td>1</td>\n",
       "      <td>../input/histopathologic-cancer-detection/trai...</td>\n",
       "    </tr>\n",
       "    <tr>\n",
       "      <th>214022</th>\n",
       "      <td>3d046cead1a2a5cbe00b2b4847cfb7ba7cf5fe75.tif</td>\n",
       "      <td>0</td>\n",
       "      <td>../input/histopathologic-cancer-detection/trai...</td>\n",
       "    </tr>\n",
       "    <tr>\n",
       "      <th>214023</th>\n",
       "      <td>f129691c13433f66e1e0671ff1fe80944816f5a2.tif</td>\n",
       "      <td>0</td>\n",
       "      <td>../input/histopathologic-cancer-detection/trai...</td>\n",
       "    </tr>\n",
       "    <tr>\n",
       "      <th>214024</th>\n",
       "      <td>a81f84895ddcd522302ddf34be02eb1b3e5af1cb.tif</td>\n",
       "      <td>1</td>\n",
       "      <td>../input/histopathologic-cancer-detection/trai...</td>\n",
       "    </tr>\n",
       "  </tbody>\n",
       "</table>\n",
       "</div>"
      ],
      "text/plain": [
       "                                                  id  label  \\\n",
       "214020  53e9aa9d46e720bf3c6a7528d1fca3ba6e2e49f6.tif      0   \n",
       "214021  d4b854fe38b07fe2831ad73892b3cec877689576.tif      1   \n",
       "214022  3d046cead1a2a5cbe00b2b4847cfb7ba7cf5fe75.tif      0   \n",
       "214023  f129691c13433f66e1e0671ff1fe80944816f5a2.tif      0   \n",
       "214024  a81f84895ddcd522302ddf34be02eb1b3e5af1cb.tif      1   \n",
       "\n",
       "                                                     path  \n",
       "214020  ../input/histopathologic-cancer-detection/trai...  \n",
       "214021  ../input/histopathologic-cancer-detection/trai...  \n",
       "214022  ../input/histopathologic-cancer-detection/trai...  \n",
       "214023  ../input/histopathologic-cancer-detection/trai...  \n",
       "214024  ../input/histopathologic-cancer-detection/trai...  "
      ]
     },
     "execution_count": 24,
     "metadata": {},
     "output_type": "execute_result"
    }
   ],
   "source": [
    "df.tail()"
   ]
  },
  {
   "cell_type": "markdown",
   "metadata": {},
   "source": [
    "##### Addressing class imbalance in training set"
   ]
  },
  {
   "cell_type": "code",
   "execution_count": 25,
   "metadata": {
    "execution": {
     "iopub.execute_input": "2022-04-11T07:37:46.513539Z",
     "iopub.status.busy": "2022-04-11T07:37:46.513005Z",
     "iopub.status.idle": "2022-04-11T07:37:46.548643Z",
     "shell.execute_reply": "2022-04-11T07:37:46.547962Z",
     "shell.execute_reply.started": "2022-04-11T07:37:46.513503Z"
    }
   },
   "outputs": [],
   "source": [
    "# equalizing the contribution of both classes\n",
    "dfnew = pd.concat([df[df.label==0].sample(n=10000),df[df.label==1].sample(n=10000)]) # 10000 samples and reducing the effect of class imbalance by taking equal"
   ]
  },
  {
   "cell_type": "code",
   "execution_count": 26,
   "metadata": {
    "execution": {
     "iopub.execute_input": "2022-04-11T07:37:46.550544Z",
     "iopub.status.busy": "2022-04-11T07:37:46.549828Z",
     "iopub.status.idle": "2022-04-11T07:37:46.558331Z",
     "shell.execute_reply": "2022-04-11T07:37:46.557498Z",
     "shell.execute_reply.started": "2022-04-11T07:37:46.550506Z"
    }
   },
   "outputs": [
    {
     "data": {
      "text/plain": [
       "0    10000\n",
       "1    10000\n",
       "Name: label, dtype: int64"
      ]
     },
     "execution_count": 26,
     "metadata": {},
     "output_type": "execute_result"
    }
   ],
   "source": [
    "dfnew['label'].value_counts()"
   ]
  },
  {
   "cell_type": "code",
   "execution_count": 27,
   "metadata": {
    "execution": {
     "iopub.execute_input": "2022-04-11T07:37:46.560251Z",
     "iopub.status.busy": "2022-04-11T07:37:46.559903Z",
     "iopub.status.idle": "2022-04-11T07:37:46.566717Z",
     "shell.execute_reply": "2022-04-11T07:37:46.566038Z",
     "shell.execute_reply.started": "2022-04-11T07:37:46.560216Z"
    }
   },
   "outputs": [],
   "source": [
    "dfnew.reset_index(drop = True, inplace = True)"
   ]
  },
  {
   "cell_type": "code",
   "execution_count": 28,
   "metadata": {
    "execution": {
     "iopub.execute_input": "2022-04-11T07:37:46.568758Z",
     "iopub.status.busy": "2022-04-11T07:37:46.568203Z",
     "iopub.status.idle": "2022-04-11T07:37:46.579902Z",
     "shell.execute_reply": "2022-04-11T07:37:46.579038Z",
     "shell.execute_reply.started": "2022-04-11T07:37:46.568722Z"
    }
   },
   "outputs": [
    {
     "data": {
      "text/html": [
       "<div>\n",
       "<style scoped>\n",
       "    .dataframe tbody tr th:only-of-type {\n",
       "        vertical-align: middle;\n",
       "    }\n",
       "\n",
       "    .dataframe tbody tr th {\n",
       "        vertical-align: top;\n",
       "    }\n",
       "\n",
       "    .dataframe thead th {\n",
       "        text-align: right;\n",
       "    }\n",
       "</style>\n",
       "<table border=\"1\" class=\"dataframe\">\n",
       "  <thead>\n",
       "    <tr style=\"text-align: right;\">\n",
       "      <th></th>\n",
       "      <th>id</th>\n",
       "      <th>label</th>\n",
       "      <th>path</th>\n",
       "    </tr>\n",
       "  </thead>\n",
       "  <tbody>\n",
       "    <tr>\n",
       "      <th>19995</th>\n",
       "      <td>8fcd3b2686e112dc4765b9361db224f3e6fed7db.tif</td>\n",
       "      <td>1</td>\n",
       "      <td>../input/histopathologic-cancer-detection/trai...</td>\n",
       "    </tr>\n",
       "    <tr>\n",
       "      <th>19996</th>\n",
       "      <td>f5c79dd3e983af3aba0c55bf0ec29d67e8227ffa.tif</td>\n",
       "      <td>1</td>\n",
       "      <td>../input/histopathologic-cancer-detection/trai...</td>\n",
       "    </tr>\n",
       "    <tr>\n",
       "      <th>19997</th>\n",
       "      <td>41fd030db35051c611a1fd6b7eb081fc49ad613f.tif</td>\n",
       "      <td>1</td>\n",
       "      <td>../input/histopathologic-cancer-detection/trai...</td>\n",
       "    </tr>\n",
       "    <tr>\n",
       "      <th>19998</th>\n",
       "      <td>17c74ea2a924828144b20b2926dcee300c1944f2.tif</td>\n",
       "      <td>1</td>\n",
       "      <td>../input/histopathologic-cancer-detection/trai...</td>\n",
       "    </tr>\n",
       "    <tr>\n",
       "      <th>19999</th>\n",
       "      <td>1a06c8ddef988407b75a5872e583708e2ba55f3b.tif</td>\n",
       "      <td>1</td>\n",
       "      <td>../input/histopathologic-cancer-detection/trai...</td>\n",
       "    </tr>\n",
       "  </tbody>\n",
       "</table>\n",
       "</div>"
      ],
      "text/plain": [
       "                                                 id  label  \\\n",
       "19995  8fcd3b2686e112dc4765b9361db224f3e6fed7db.tif      1   \n",
       "19996  f5c79dd3e983af3aba0c55bf0ec29d67e8227ffa.tif      1   \n",
       "19997  41fd030db35051c611a1fd6b7eb081fc49ad613f.tif      1   \n",
       "19998  17c74ea2a924828144b20b2926dcee300c1944f2.tif      1   \n",
       "19999  1a06c8ddef988407b75a5872e583708e2ba55f3b.tif      1   \n",
       "\n",
       "                                                    path  \n",
       "19995  ../input/histopathologic-cancer-detection/trai...  \n",
       "19996  ../input/histopathologic-cancer-detection/trai...  \n",
       "19997  ../input/histopathologic-cancer-detection/trai...  \n",
       "19998  ../input/histopathologic-cancer-detection/trai...  \n",
       "19999  ../input/histopathologic-cancer-detection/trai...  "
      ]
     },
     "execution_count": 28,
     "metadata": {},
     "output_type": "execute_result"
    }
   ],
   "source": [
    "dfnew.tail()"
   ]
  },
  {
   "cell_type": "code",
   "execution_count": 46,
   "metadata": {
    "execution": {
     "iopub.execute_input": "2022-04-11T07:59:23.476433Z",
     "iopub.status.busy": "2022-04-11T07:59:23.476006Z",
     "iopub.status.idle": "2022-04-11T07:59:23.727587Z",
     "shell.execute_reply": "2022-04-11T07:59:23.726863Z",
     "shell.execute_reply.started": "2022-04-11T07:59:23.476394Z"
    }
   },
   "outputs": [
    {
     "name": "stdout",
     "output_type": "stream",
     "text": [
      "Found 20000 validated image filenames.\n",
      "Found 6000 validated image filenames.\n"
     ]
    }
   ],
   "source": [
    "BATCH_SIZE = 8 # 32 is too much, gives warning message due to excess memory usage (increasing batch size may give better accuracy)\n",
    "#https://stackoverflow.com/questions/50304156/tensorflow-allocation-memory-allocation-of-38535168-exceeds-10-of-system-memor\n",
    "\n",
    "def create_datagen():\n",
    "    return ImageDataGenerator()\n",
    "\n",
    "def create_train_gen(datagen):\n",
    "    return datagen.flow_from_dataframe(\n",
    "        dfnew, \n",
    "        directory = '../input/histopathologic-cancer-detection/train/',\n",
    "        \n",
    "        x_col = 'id', \n",
    "        y_col = 'label',\n",
    "        class_mode = 'raw',\n",
    "        target_size = (150, 150),\n",
    "        batch_size = BATCH_SIZE,\n",
    "#         subset = 'training'\n",
    "       \n",
    "    )\n",
    "def create_test_gen(datagen): \n",
    "    return datagen.flow_from_dataframe(\n",
    "        val_df, \n",
    "        directory='../input/histopathologic-cancer-detection/train/',\n",
    "        \n",
    "        x_col='id', \n",
    "        y_col = 'label',\n",
    "        class_mode = 'raw',\n",
    "        target_size = (150, 150),\n",
    "        batch_size = BATCH_SIZE,\n",
    "        shuffle = False,\n",
    "\n",
    "    )\n",
    "\n",
    "\n",
    "# Using image data generator to generate batches of images of '.tif' format\n",
    "data_generator = create_datagen()\n",
    "train_gen = create_train_gen(data_generator)\n",
    "test_gen = create_test_gen(data_generator)"
   ]
  },
  {
   "cell_type": "code",
   "execution_count": 47,
   "metadata": {
    "execution": {
     "iopub.execute_input": "2022-04-11T07:59:34.526880Z",
     "iopub.status.busy": "2022-04-11T07:59:34.526341Z",
     "iopub.status.idle": "2022-04-11T07:59:34.530445Z",
     "shell.execute_reply": "2022-04-11T07:59:34.529688Z",
     "shell.execute_reply.started": "2022-04-11T07:59:34.526842Z"
    }
   },
   "outputs": [],
   "source": [
    "num_train = train_gen.samples # number of training data\n",
    "num_test = test_gen.samples"
   ]
  },
  {
   "cell_type": "code",
   "execution_count": 48,
   "metadata": {
    "execution": {
     "iopub.execute_input": "2022-04-11T07:59:39.874713Z",
     "iopub.status.busy": "2022-04-11T07:59:39.874397Z",
     "iopub.status.idle": "2022-04-11T08:00:26.663488Z",
     "shell.execute_reply": "2022-04-11T08:00:26.662737Z",
     "shell.execute_reply.started": "2022-04-11T07:59:39.874677Z"
    }
   },
   "outputs": [],
   "source": [
    "# simple CNN model \n",
    "model = tf.keras.Sequential()\n",
    "model.add(Conv2D(32, (3,3), activation='relu', input_shape = (150,150,3)))\n",
    "model.add(tf.keras.layers.AveragePooling2D())\n",
    "model.add(Flatten())\n",
    "model.add(Dense(32))\n",
    "model.add(Dropout(0.3))\n",
    "model.add(Dense(1, activation='sigmoid')) # binary classes\n",
    "\n",
    "# Compile the model\n",
    "model.compile(loss = 'binary_crossentropy', metrics = ['accuracy'], optimizer = optimizers.Adam(learning_rate = 0.001))"
   ]
  },
  {
   "cell_type": "code",
   "execution_count": 49,
   "metadata": {
    "execution": {
     "iopub.execute_input": "2022-04-11T08:00:26.665492Z",
     "iopub.status.busy": "2022-04-11T08:00:26.665221Z",
     "iopub.status.idle": "2022-04-11T08:00:26.673873Z",
     "shell.execute_reply": "2022-04-11T08:00:26.672706Z",
     "shell.execute_reply.started": "2022-04-11T08:00:26.665457Z"
    }
   },
   "outputs": [
    {
     "name": "stdout",
     "output_type": "stream",
     "text": [
      "Model: \"sequential_5\"\n",
      "_________________________________________________________________\n",
      "Layer (type)                 Output Shape              Param #   \n",
      "=================================================================\n",
      "conv2d_6 (Conv2D)            (None, 148, 148, 32)      896       \n",
      "_________________________________________________________________\n",
      "average_pooling2d_1 (Average (None, 74, 74, 32)        0         \n",
      "_________________________________________________________________\n",
      "flatten_4 (Flatten)          (None, 175232)            0         \n",
      "_________________________________________________________________\n",
      "dense_8 (Dense)              (None, 32)                5607456   \n",
      "_________________________________________________________________\n",
      "dropout_5 (Dropout)          (None, 32)                0         \n",
      "_________________________________________________________________\n",
      "dense_9 (Dense)              (None, 1)                 33        \n",
      "=================================================================\n",
      "Total params: 5,608,385\n",
      "Trainable params: 5,608,385\n",
      "Non-trainable params: 0\n",
      "_________________________________________________________________\n"
     ]
    }
   ],
   "source": [
    "model.summary()"
   ]
  },
  {
   "cell_type": "code",
   "execution_count": 50,
   "metadata": {
    "execution": {
     "iopub.execute_input": "2022-04-11T08:00:26.675369Z",
     "iopub.status.busy": "2022-04-11T08:00:26.675095Z",
     "iopub.status.idle": "2022-04-11T08:05:01.591530Z",
     "shell.execute_reply": "2022-04-11T08:05:01.590766Z",
     "shell.execute_reply.started": "2022-04-11T08:00:26.675304Z"
    }
   },
   "outputs": [
    {
     "name": "stdout",
     "output_type": "stream",
     "text": [
      "Epoch 1/15\n",
      "1250/1250 [==============================] - 17s 13ms/step - loss: 150.9792 - accuracy: 0.5657\n",
      "Epoch 2/15\n",
      "1250/1250 [==============================] - 17s 14ms/step - loss: 0.7312 - accuracy: 0.6452\n",
      "Epoch 3/15\n",
      "1250/1250 [==============================] - 17s 14ms/step - loss: 0.5610 - accuracy: 0.7099\n",
      "Epoch 4/15\n",
      "1250/1250 [==============================] - 17s 14ms/step - loss: 0.5035 - accuracy: 0.7435\n",
      "Epoch 5/15\n",
      "1250/1250 [==============================] - 17s 14ms/step - loss: 0.4708 - accuracy: 0.7598\n",
      "Epoch 6/15\n",
      "1250/1250 [==============================] - 17s 13ms/step - loss: 0.4698 - accuracy: 0.7678\n",
      "Epoch 7/15\n",
      "1250/1250 [==============================] - 17s 14ms/step - loss: 0.4951 - accuracy: 0.7541\n",
      "Epoch 8/15\n",
      "1250/1250 [==============================] - 17s 13ms/step - loss: 0.5422 - accuracy: 0.7315\n",
      "Epoch 9/15\n",
      "1250/1250 [==============================] - 16s 13ms/step - loss: 0.5307 - accuracy: 0.7319\n",
      "Epoch 10/15\n",
      "1250/1250 [==============================] - 17s 13ms/step - loss: 0.5527 - accuracy: 0.7098\n",
      "Epoch 11/15\n",
      "1250/1250 [==============================] - 16s 13ms/step - loss: 0.5181 - accuracy: 0.7233\n",
      "Epoch 12/15\n",
      "1250/1250 [==============================] - 17s 14ms/step - loss: 0.4951 - accuracy: 0.7355\n",
      "Epoch 13/15\n",
      "1250/1250 [==============================] - 17s 14ms/step - loss: 0.4658 - accuracy: 0.7431\n",
      "Epoch 14/15\n",
      "1250/1250 [==============================] - 17s 14ms/step - loss: 0.4224 - accuracy: 0.7630\n",
      "Epoch 15/15\n",
      "1250/1250 [==============================] - 17s 13ms/step - loss: 0.4017 - accuracy: 0.7841\n"
     ]
    }
   ],
   "source": [
    "# training \n",
    "EPOCHS = 15\n",
    "history = model.fit(\n",
    "    train_gen,\n",
    "    steps_per_epoch = num_train//16,\n",
    "    epochs = EPOCHS\n",
    ")"
   ]
  },
  {
   "cell_type": "code",
   "execution_count": 51,
   "metadata": {
    "execution": {
     "iopub.execute_input": "2022-04-11T08:05:01.848422Z",
     "iopub.status.busy": "2022-04-11T08:05:01.847726Z",
     "iopub.status.idle": "2022-04-11T08:05:02.178770Z",
     "shell.execute_reply": "2022-04-11T08:05:02.178104Z",
     "shell.execute_reply.started": "2022-04-11T08:05:01.848380Z"
    }
   },
   "outputs": [
    {
     "data": {
      "text/plain": [
       "Text(0, 0.5, 'Accuracy')"
      ]
     },
     "execution_count": 51,
     "metadata": {},
     "output_type": "execute_result"
    },
    {
     "data": {
      "image/png": "[encoded data removed]",
      "text/plain": [
       "<Figure size 720x288 with 2 Axes>"
      ]
     },
     "metadata": {
      "needs_background": "light"
     },
     "output_type": "display_data"
    }
   ],
   "source": [
    "# plotting training loss and accuracy\n",
    "plt.figure(figsize=(10,4))\n",
    "\n",
    "ax = plt.subplot(121)\n",
    "ax.plot(history.history['loss'], 'r')\n",
    "plt.legend()\n",
    "plt.grid(axis='y')\n",
    "plt.xlabel(\"Number of epochs\")\n",
    "plt.ylabel(\"Loss\")\n",
    "\n",
    "ax2 = plt.subplot(122)\n",
    "ax2.plot(history.history['accuracy'], 'b')\n",
    "plt.grid(axis='y')\n",
    "plt.legend()\n",
    "plt.xlabel(\"Number of epochs\")\n",
    "plt.ylabel(\"Accuracy\")"
   ]
  },
  {
   "cell_type": "code",
   "execution_count": 52,
   "metadata": {
    "execution": {
     "iopub.execute_input": "2022-04-11T08:05:06.463219Z",
     "iopub.status.busy": "2022-04-11T08:05:06.462834Z",
     "iopub.status.idle": "2022-04-11T08:05:28.506751Z",
     "shell.execute_reply": "2022-04-11T08:05:28.506017Z",
     "shell.execute_reply.started": "2022-04-11T08:05:06.463186Z"
    }
   },
   "outputs": [],
   "source": [
    "# predict on test set\n",
    "predicted_vals = model.predict(test_gen)"
   ]
  },
  {
   "cell_type": "code",
   "execution_count": 54,
   "metadata": {
    "execution": {
     "iopub.execute_input": "2022-04-11T08:05:48.146349Z",
     "iopub.status.busy": "2022-04-11T08:05:48.145603Z",
     "iopub.status.idle": "2022-04-11T08:05:48.151684Z",
     "shell.execute_reply": "2022-04-11T08:05:48.150583Z",
     "shell.execute_reply.started": "2022-04-11T08:05:48.146280Z"
    }
   },
   "outputs": [
    {
     "data": {
      "text/plain": [
       "array([0, 0, 0, ..., 1, 1, 1])"
      ]
     },
     "execution_count": 54,
     "metadata": {},
     "output_type": "execute_result"
    }
   ],
   "source": [
    "y_true = test_gen.labels\n",
    "y_true"
   ]
  },
  {
   "cell_type": "code",
   "execution_count": 55,
   "metadata": {
    "execution": {
     "iopub.execute_input": "2022-04-11T08:05:51.639730Z",
     "iopub.status.busy": "2022-04-11T08:05:51.639195Z",
     "iopub.status.idle": "2022-04-11T08:05:51.669429Z",
     "shell.execute_reply": "2022-04-11T08:05:51.668782Z",
     "shell.execute_reply.started": "2022-04-11T08:05:51.639692Z"
    }
   },
   "outputs": [
    {
     "data": {
      "text/plain": [
       "6000"
      ]
     },
     "execution_count": 55,
     "metadata": {},
     "output_type": "execute_result"
    }
   ],
   "source": [
    "# setting values above 0.5 to 1 else 0\n",
    "y_preds = []\n",
    "for i in range(len(predicted_vals)):\n",
    "    y_preds.append(0)\n",
    "    for value in predicted_vals[i]: \n",
    "        if value > 0.5: \n",
    "            y_preds[i] = 1\n",
    "            break\n",
    "            \n",
    "len(y_preds)"
   ]
  },
  {
   "cell_type": "code",
   "execution_count": 56,
   "metadata": {
    "execution": {
     "iopub.execute_input": "2022-04-11T08:05:55.662406Z",
     "iopub.status.busy": "2022-04-11T08:05:55.662139Z",
     "iopub.status.idle": "2022-04-11T08:05:56.224576Z",
     "shell.execute_reply": "2022-04-11T08:05:56.223809Z",
     "shell.execute_reply.started": "2022-04-11T08:05:55.662375Z"
    }
   },
   "outputs": [
    {
     "name": "stdout",
     "output_type": "stream",
     "text": [
      "2*2 Confusion Matrix\n",
      "[[1368 1632]\n",
      " [1058 1942]]\n"
     ]
    }
   ],
   "source": [
    "from sklearn.metrics import confusion_matrix\n",
    "print('2*2 Confusion Matrix')\n",
    "print(confusion_matrix(y_true, y_preds))"
   ]
  },
  {
   "cell_type": "code",
   "execution_count": 57,
   "metadata": {
    "execution": {
     "iopub.execute_input": "2022-04-11T08:06:04.099442Z",
     "iopub.status.busy": "2022-04-11T08:06:04.098815Z",
     "iopub.status.idle": "2022-04-11T08:06:04.120810Z",
     "shell.execute_reply": "2022-04-11T08:06:04.120009Z",
     "shell.execute_reply.started": "2022-04-11T08:06:04.099407Z"
    }
   },
   "outputs": [
    {
     "name": "stdout",
     "output_type": "stream",
     "text": [
      "              precision    recall  f1-score   support\n",
      "\n",
      "           0       0.56      0.46      0.50      3000\n",
      "           1       0.54      0.65      0.59      3000\n",
      "\n",
      "    accuracy                           0.55      6000\n",
      "   macro avg       0.55      0.55      0.55      6000\n",
      "weighted avg       0.55      0.55      0.55      6000\n",
      "\n"
     ]
    }
   ],
   "source": [
    "from sklearn.metrics import classification_report\n",
    "print(classification_report(y_true, y_preds))"
   ]
  },
  {
   "cell_type": "code",
   "execution_count": 58,
   "metadata": {
    "execution": {
     "iopub.execute_input": "2022-04-11T08:06:14.576188Z",
     "iopub.status.busy": "2022-04-11T08:06:14.575939Z",
     "iopub.status.idle": "2022-04-11T08:06:14.591921Z",
     "shell.execute_reply": "2022-04-11T08:06:14.591159Z",
     "shell.execute_reply.started": "2022-04-11T08:06:14.576161Z"
    }
   },
   "outputs": [
    {
     "data": {
      "text/plain": [
       "0.5516666666666666"
      ]
     },
     "execution_count": 58,
     "metadata": {},
     "output_type": "execute_result"
    }
   ],
   "source": [
    "from sklearn.metrics import roc_auc_score, roc_curve, auc\n",
    "score = roc_auc_score(y_true, y_preds)\n",
    "roc_auc_score(y_true, y_preds)"
   ]
  },
  {
   "cell_type": "code",
   "execution_count": 59,
   "metadata": {
    "execution": {
     "iopub.execute_input": "2022-04-11T08:06:17.412261Z",
     "iopub.status.busy": "2022-04-11T08:06:17.412002Z",
     "iopub.status.idle": "2022-04-11T08:06:17.609886Z",
     "shell.execute_reply": "2022-04-11T08:06:17.609206Z",
     "shell.execute_reply.started": "2022-04-11T08:06:17.412231Z"
    }
   },
   "outputs": [
    {
     "data": {
      "image/png": "[encoded data removed]",
      "text/plain": [
       "<Figure size 432x288 with 1 Axes>"
      ]
     },
     "metadata": {
      "needs_background": "light"
     },
     "output_type": "display_data"
    }
   ],
   "source": [
    "fpr_keras, tpr_keras, thresholds_keras = roc_curve(y_true, y_preds)\n",
    "auc_keras = auc(fpr_keras, tpr_keras)\n",
    "plt.figure(1)\n",
    "plt.plot([0, 1], [0, 1], 'k--')\n",
    "plt.plot(fpr_keras, tpr_keras, label='Keras (area = {:.3f})'.format(auc_keras))\n",
    "\n",
    "plt.xlabel('False positive rate')\n",
    "plt.ylabel('True positive rate')\n",
    "plt.title('ROC curve')\n",
    "plt.legend(loc='best')\n",
    "plt.show()"
   ]
  },
  {
   "cell_type": "code",
   "execution_count": null,
   "metadata": {},
   "outputs": [],
   "source": []
  },
  {
   "cell_type": "markdown",
   "metadata": {},
   "source": [
    "#### Observation\n",
    "1. The training accuracy increases barring one dip for a few epochs and attains 78.41% accuracy after training for 15 epochs.\n",
    "2. The CNN model is a Sequential model with one Conv2D layer with 32 filters, an AveragePooling2D layer and then Flatten. A Dense layer with 32 neurons and Dropout of 30% is introduced to avoid overfitting. Finally a Dense output layer with sigmoid activation function is chosen for binary classification of tumour cells from the '.tif' slide images.\n",
    "3. However the prediction accuracy is poor and can be because of newer examples in the test set which the classifier hasn't seen yet. Hence the training examples need to be increased for this domain for the classification accuracy to increase.\n",
    "4. It is observed that the recall is higher for class 1, while lower for class 0, which means misclassifications for class 0 were higher. The system can be considered for deploying since the identification of the class 1 is more necessary and false negatives can be dealt with."
   ]
  }
 ],
 "metadata": {
  "kernelspec": {
   "display_name": "Python 3 (ipykernel)",
   "language": "python",
   "name": "python3"
  },
  "language_info": {
   "codemirror_mode": {
    "name": "ipython",
    "version": 3
   },
   "file_extension": ".py",
   "mimetype": "text/x-python",
   "name": "python",
   "nbconvert_exporter": "python",
   "pygments_lexer": "ipython3",
   "version": "3.8.10"
  }
 },
 "nbformat": 4,
 "nbformat_minor": 4
}
